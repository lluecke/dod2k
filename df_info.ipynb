{
 "cells": [
  {
   "cell_type": "markdown",
   "id": "94075222-704f-473d-963b-b76ed805dff1",
   "metadata": {},
   "source": [
    "This notebook goes through the columns of a compact dataframe and displays the (meta)data."
   ]
  },
  {
   "cell_type": "markdown",
   "id": "38c14ab1-5a44-4c31-b5be-9aef749a129c",
   "metadata": {},
   "source": [
    "# Set up working environment"
   ]
  },
  {
   "cell_type": "code",
   "execution_count": 1,
   "id": "b43976c3-600b-4fca-ae91-5130a2ad88a6",
   "metadata": {},
   "outputs": [],
   "source": [
    "%load_ext autoreload\n",
    "%autoreload 2"
   ]
  },
  {
   "cell_type": "code",
   "execution_count": 2,
   "id": "933e0732-1378-47da-b71f-65de2f3020ec",
   "metadata": {},
   "outputs": [],
   "source": [
    "import os\n",
    "import pandas as pd\n",
    "import numpy as np\n",
    "import matplotlib.pyplot as plt\n",
    "import cartopy.crs as ccrs\n",
    "import cartopy.feature as cfeature \n",
    "from matplotlib.gridspec import GridSpec as GS\n",
    "import scipy.io as sio\n",
    "from copy import deepcopy as dc"
   ]
  },
  {
   "cell_type": "code",
   "execution_count": 3,
   "id": "060040a4-493f-4479-8733-8476e9e0e295",
   "metadata": {},
   "outputs": [
    {
     "name": "stdout",
     "output_type": "stream",
     "text": [
      "/home/jupyter-lluecke/compile_proxy_database_v2.1\n"
     ]
    }
   ],
   "source": [
    "# choose working directory\n",
    "wdir = '/home/jupyter-lluecke/compile_proxy_database_v2.1'\n",
    "os.chdir(wdir)\n",
    "print(wdir)\n",
    "import functions as f # contains functions for plotting "
   ]
  },
  {
   "cell_type": "markdown",
   "id": "6b6dfcd7-e790-4422-a4d3-69b14077c160",
   "metadata": {},
   "source": [
    "# read dataframe"
   ]
  },
  {
   "cell_type": "code",
   "execution_count": 4,
   "id": "2a14c058-04ed-45d5-8b66-9e8b832fec82",
   "metadata": {},
   "outputs": [
    {
     "name": "stdout",
     "output_type": "stream",
     "text": [
      "<class 'pandas.core.frame.DataFrame'>\n",
      "RangeIndex: 4517 entries, 0 to 4516\n",
      "Data columns (total 19 columns):\n",
      " #   Column                                Non-Null Count  Dtype  \n",
      "---  ------                                --------------  -----  \n",
      " 0   DuplicateDetails                      4517 non-null   object \n",
      " 1   archiveType                           4517 non-null   object \n",
      " 2   climateInterpretation_variable        4517 non-null   object \n",
      " 3   climateInterpretation_variableDetail  4517 non-null   object \n",
      " 4   dataSetName                           4517 non-null   object \n",
      " 5   datasetId                             4517 non-null   object \n",
      " 6   geo_meanElev                          4434 non-null   float32\n",
      " 7   geo_meanLat                           4517 non-null   float32\n",
      " 8   geo_meanLon                           4517 non-null   float32\n",
      " 9   geo_siteName                          4517 non-null   object \n",
      " 10  originalDataURL                       4517 non-null   object \n",
      " 11  originalDatabase                      4517 non-null   object \n",
      " 12  paleoData_notes                       4517 non-null   object \n",
      " 13  paleoData_proxy                       4517 non-null   object \n",
      " 14  paleoData_sensorSpecies               4517 non-null   object \n",
      " 15  paleoData_units                       4517 non-null   object \n",
      " 16  paleoData_values                      4517 non-null   object \n",
      " 17  year                                  4517 non-null   object \n",
      " 18  yearUnits                             4517 non-null   object \n",
      "dtypes: float32(3), object(16)\n",
      "memory usage: 617.7+ KB\n",
      "None\n"
     ]
    }
   ],
   "source": [
    "# read dataframe \n",
    "\n",
    "# db_name = 'dod2k'\n",
    "db_name = 'dod2k_dupfree'\n",
    "# db_name = 'ch2k'\n",
    "# db_name = 'fe23'\n",
    "# db_name = 'iso2k'\n",
    "# db_name = 'pages2k'\n",
    "# db_name = 'sisal'\n",
    "\n",
    "\n",
    "# load dataframe\n",
    "df = f.load_compact_dataframe_from_csv(db_name)\n",
    "# databasedir    = '%s/%s_compact.pkl'%(db_name, db_name)\n",
    "# df = pd.read_pickle(databasedir)\n",
    "\n",
    "print(df.info())\n",
    "df.name = db_name\n"
   ]
  },
  {
   "cell_type": "code",
   "execution_count": 5,
   "id": "ef363b28-6309-4f01-a041-6781a2046e7c",
   "metadata": {},
   "outputs": [],
   "source": [
    "# for ii in df.index:\n",
    "#     # if type(df.at[ii, 'paleoData_values'])==np.ma.core.MaskedArray: continue\n",
    "#     dd=f.convert_to_nparray(df.at[ii, 'paleoData_values'])\n",
    "#     df.at[ii, 'paleoData_values']=dd.data[~dd.mask]\n",
    "#     df.at[ii, 'year']=df.at[ii, 'year'][~dd.mask]"
   ]
  },
  {
   "cell_type": "markdown",
   "id": "d7144a18-d883-4c97-9999-c440bcf8e82e",
   "metadata": {},
   "source": [
    "# check output"
   ]
  },
  {
   "cell_type": "markdown",
   "id": "093fece3-a8c7-4875-8057-b2150b594533",
   "metadata": {},
   "source": [
    "## dataset metadata: dataSetName, datasetId, originalDataURL, originalDatabase"
   ]
  },
  {
   "cell_type": "markdown",
   "id": "7fb550f1-fe1d-4dd8-b904-e8d45dfccf88",
   "metadata": {},
   "source": [
    "### index"
   ]
  },
  {
   "cell_type": "code",
   "execution_count": 6,
   "id": "10b184e1-0bbf-47de-9255-54ab7cdd795c",
   "metadata": {},
   "outputs": [
    {
     "name": "stdout",
     "output_type": "stream",
     "text": [
      "RangeIndex(start=0, stop=4517, step=1)\n"
     ]
    }
   ],
   "source": [
    "# # check index\n",
    "print(df.index)"
   ]
  },
  {
   "cell_type": "markdown",
   "id": "f69c5294-d9c7-4a07-8470-ca08e062efd4",
   "metadata": {},
   "source": [
    "### dataSetName"
   ]
  },
  {
   "cell_type": "code",
   "execution_count": 7,
   "id": "6a4053a4-cf33-4da2-aff1-fab025221364",
   "metadata": {},
   "outputs": [
    {
     "name": "stdout",
     "output_type": "stream",
     "text": [
      "dataSetName: \n",
      "['africa_keny001' 'africa_keny002' 'africa_morc001' ...\n",
      " 'northamerica_usa_me017, northamerica_usa_me018'\n",
      " 'northamerica_usa_mo, northamerica_usa_mo009'\n",
      " 'northamerica_usa_mt112, northamerica_usa_mt113']\n",
      "[\"<class 'str'>\"]\n"
     ]
    }
   ],
   "source": [
    "# # check dataSetName\n",
    "key = 'dataSetName'\n",
    "print('%s: '%key)\n",
    "print(df[key].values)\n",
    "print(np.unique([str(type(dd)) for dd in df[key]]))"
   ]
  },
  {
   "cell_type": "markdown",
   "id": "aac1e693-2c72-4fa1-8003-4a6ecac6ea75",
   "metadata": {},
   "source": [
    "### datasetId"
   ]
  },
  {
   "cell_type": "code",
   "execution_count": 8,
   "id": "ade234e2-4f8e-4d24-9e14-d90a7ae97fdd",
   "metadata": {},
   "outputs": [
    {
     "name": "stdout",
     "output_type": "stream",
     "text": [
      "4517\n",
      "4517\n",
      "datasetId (starts with): \n",
      "['FE23_africa_keny001' 'FE23_africa_keny002' 'FE23_africa_morc001' ...\n",
      " 'dod2k_composite_st_FE23_northamerica_usa_me017_FE23_northamerica_usa_me018'\n",
      " 'dod2k_composite_st_FE23_northamerica_usa_mo_FE23_northamerica_usa_mo009'\n",
      " 'dod2k_composite_st_FE23_northamerica_usa_mt112_FE23_northamerica_usa_mt113']\n",
      "[\"<class 'str'>\"]\n",
      "datasetId starts with:  ['FE23' 'ch2k' 'dod2k' 'iso2k' 'pages2k' 'sisal']\n"
     ]
    }
   ],
   "source": [
    "# # check datasetId\n",
    "\n",
    "print(len(df.datasetId.unique()))\n",
    "print(len(df))\n",
    "key = 'datasetId'\n",
    "print('%s (starts with): '%key)\n",
    "print(df[key].values)\n",
    "print(np.unique([str(type(dd)) for dd in df[key]]))\n",
    "print('datasetId starts with: ', np.unique([str(dd.split('_')[0]) for dd in df[key]]))"
   ]
  },
  {
   "cell_type": "markdown",
   "id": "9e7bc06f-98ca-4d29-95c4-22034b6b97c8",
   "metadata": {},
   "source": [
    "### originalDataURL"
   ]
  },
  {
   "cell_type": "code",
   "execution_count": 9,
   "id": "f0c0990e-2ec1-45ed-903e-cd40a6ac4a4d",
   "metadata": {},
   "outputs": [
    {
     "name": "stdout",
     "output_type": "stream",
     "text": [
      "originalDataURL: \n",
      "['10.1002/2015GL063826' '10.1002/2015gl065397' '10.1002/2016GL071786' ...\n",
      " 'requested from AJO' 'unpublished' 'www.ncdc.noaa.gov/paleo/study/2474']\n",
      "[]\n",
      "[\"<class 'str'>\"]\n"
     ]
    }
   ],
   "source": [
    "# originalDataURL\n",
    "key = 'originalDataURL'\n",
    "print('%s: '%key)\n",
    "print(np.unique([kk for kk in df[key]]))\n",
    "print(np.unique([kk for kk in df[key] if 'this' in kk]))\n",
    "print(np.unique([str(type(dd)) for dd in df[key]]))\n",
    "# 'this study' should point to the correct URL (PAGES2k)"
   ]
  },
  {
   "cell_type": "markdown",
   "id": "9dcb3c9e-1688-4f08-a346-ccca46d8d12a",
   "metadata": {},
   "source": [
    "### originalDatabase"
   ]
  },
  {
   "cell_type": "code",
   "execution_count": 10,
   "id": "4fbdd3a0-3c0f-4c32-8c9c-5785107995de",
   "metadata": {},
   "outputs": [
    {
     "name": "stdout",
     "output_type": "stream",
     "text": [
      "originalDatabase: \n",
      "['CoralHydro2k v1.0.0' 'FE23 (Breitenmoser et al. (2014))' 'Iso2k v1.0.1'\n",
      " 'PAGES2k v2.0.0 (Ocn_103 updated with Dee et al. 2020)' 'SISAL v3'\n",
      " 'dod2k_composite_standardised']\n",
      "[\"<class 'str'>\"]\n"
     ]
    }
   ],
   "source": [
    "# # originalDataSet\n",
    "key = 'originalDatabase'\n",
    "print('%s: '%key)\n",
    "print(np.unique([kk for kk in df[key]]))\n",
    "print(np.unique([str(type(dd)) for dd in df[key]]))\n",
    "# Note: the last two records have missing URLs"
   ]
  },
  {
   "cell_type": "markdown",
   "id": "7473464e-1d7a-4186-8812-5b325ea1ee92",
   "metadata": {},
   "source": [
    "## geographical metadata: elevation, latitude, longitude, site name"
   ]
  },
  {
   "cell_type": "markdown",
   "id": "615f3b4e-1f76-4741-8ad5-5ab018aba97b",
   "metadata": {},
   "source": [
    "### geo_meanElev"
   ]
  },
  {
   "cell_type": "code",
   "execution_count": 11,
   "id": "200fd2ec-8ebe-47dd-b2a8-4fb79c736d8a",
   "metadata": {},
   "outputs": [
    {
     "name": "stdout",
     "output_type": "stream",
     "text": [
      "geo_meanElev: \n",
      "0       2010.0\n",
      "1       2010.0\n",
      "2       2200.0\n",
      "3       1700.0\n",
      "4       2200.0\n",
      "         ...  \n",
      "4512    1890.0\n",
      "4513    1798.0\n",
      "4514      50.0\n",
      "4515     325.0\n",
      "4516    2500.0\n",
      "Name: geo_meanElev, Length: 4517, dtype: float32\n",
      "['-1' '-10' '-1011' ... '991' '994' '995']\n",
      "[\"<class 'float'>\"]\n"
     ]
    }
   ],
   "source": [
    "# check Elevation\n",
    "key = 'geo_meanElev'\n",
    "print('%s: '%key)\n",
    "print(df[key])\n",
    "print(np.unique(['%d'%kk for kk in df[key] if np.isfinite(kk)]))\n",
    "print(np.unique([str(type(dd)) for dd in df[key]]))"
   ]
  },
  {
   "cell_type": "markdown",
   "id": "7ef33329-ee87-48d5-b41c-d30d9ac61d27",
   "metadata": {},
   "source": [
    "### geo_meanLat"
   ]
  },
  {
   "cell_type": "code",
   "execution_count": 12,
   "id": "419048e7-6685-47dd-b4ee-e8869661471c",
   "metadata": {},
   "outputs": [
    {
     "name": "stdout",
     "output_type": "stream",
     "text": [
      "geo_meanLat: \n",
      "['-10' '-11' '-12' '-13' '-14' '-15' '-16' '-17' '-18' '-19' '-2' '-20'\n",
      " '-21' '-22' '-23' '-24' '-25' '-26' '-27' '-28' '-29' '-3' '-31' '-32'\n",
      " '-33' '-34' '-35' '-36' '-37' '-38' '-39' '-4' '-40' '-41' '-42' '-43'\n",
      " '-44' '-45' '-46' '-47' '-5' '-50' '-51' '-53' '-54' '-6' '-64' '-66'\n",
      " '-67' '-69' '-7' '-70' '-71' '-72' '-73' '-74' '-75' '-76' '-77' '-78'\n",
      " '-79' '-8' '-80' '-82' '-83' '-84' '-86' '-89' '-9' '0' '1' '10' '11'\n",
      " '12' '13' '14' '15' '16' '17' '18' '19' '2' '20' '21' '22' '23' '24' '25'\n",
      " '26' '27' '28' '29' '3' '30' '31' '32' '33' '34' '35' '36' '37' '38' '39'\n",
      " '4' '40' '41' '42' '43' '44' '45' '46' '47' '48' '49' '5' '50' '51' '52'\n",
      " '53' '54' '55' '56' '57' '58' '59' '6' '60' '61' '62' '63' '64' '65' '66'\n",
      " '67' '68' '69' '7' '70' '71' '72' '73' '75' '76' '77' '78' '79' '8' '80'\n",
      " '81' '82' '9']\n",
      "[\"<class 'float'>\"]\n"
     ]
    }
   ],
   "source": [
    "# # Latitude\n",
    "key = 'geo_meanLat'\n",
    "print('%s: '%key)\n",
    "print(np.unique(['%d'%kk for kk in df[key]]))\n",
    "print(np.unique([str(type(dd)) for dd in df[key]]))"
   ]
  },
  {
   "cell_type": "markdown",
   "id": "0259360b-7086-464f-bbe8-67c1051e24ed",
   "metadata": {},
   "source": [
    "### geo_meanLon"
   ]
  },
  {
   "cell_type": "code",
   "execution_count": 13,
   "id": "b5e07c85-270b-49aa-bee3-14e27ac1be0e",
   "metadata": {},
   "outputs": [
    {
     "name": "stdout",
     "output_type": "stream",
     "text": [
      "geo_meanLon: \n",
      "['-1' '-10' '-100' '-101' '-102' '-103' '-104' '-105' '-106' '-107' '-108'\n",
      " '-109' '-110' '-111' '-112' '-113' '-114' '-115' '-116' '-117' '-118'\n",
      " '-119' '-12' '-120' '-121' '-122' '-123' '-124' '-125' '-126' '-127'\n",
      " '-128' '-129' '-13' '-130' '-131' '-132' '-133' '-134' '-135' '-136'\n",
      " '-137' '-138' '-139' '-140' '-141' '-142' '-143' '-144' '-145' '-146'\n",
      " '-147' '-148' '-149' '-150' '-151' '-152' '-153' '-154' '-157' '-159'\n",
      " '-16' '-160' '-161' '-162' '-163' '-169' '-17' '-174' '-18' '-19' '-2'\n",
      " '-20' '-22' '-24' '-26' '-27' '-3' '-33' '-35' '-36' '-37' '-38' '-39'\n",
      " '-4' '-41' '-42' '-43' '-44' '-45' '-46' '-47' '-48' '-49' '-5' '-50'\n",
      " '-51' '-53' '-54' '-55' '-56' '-57' '-58' '-6' '-60' '-61' '-62' '-63'\n",
      " '-64' '-65' '-66' '-67' '-68' '-69' '-7' '-70' '-71' '-72' '-73' '-74'\n",
      " '-75' '-76' '-77' '-78' '-79' '-8' '-80' '-81' '-82' '-83' '-84' '-85'\n",
      " '-86' '-87' '-88' '-89' '-9' '-90' '-91' '-92' '-93' '-94' '-95' '-96'\n",
      " '-97' '-98' '-99' '0' '1' '10' '100' '101' '102' '103' '104' '105' '106'\n",
      " '107' '108' '109' '11' '110' '111' '112' '113' '114' '115' '116' '117'\n",
      " '118' '119' '12' '120' '121' '122' '123' '124' '125' '126' '127' '128'\n",
      " '129' '13' '130' '132' '133' '134' '136' '137' '138' '14' '140' '141'\n",
      " '142' '143' '144' '145' '146' '147' '148' '149' '15' '150' '151' '152'\n",
      " '153' '154' '155' '158' '159' '16' '160' '162' '163' '165' '166' '167'\n",
      " '168' '169' '17' '170' '171' '172' '173' '174' '175' '176' '177' '179'\n",
      " '18' '19' '2' '20' '21' '22' '23' '24' '25' '26' '27' '28' '29' '3' '30'\n",
      " '31' '32' '33' '34' '35' '36' '37' '38' '39' '4' '40' '41' '42' '43' '44'\n",
      " '45' '46' '48' '49' '5' '50' '51' '53' '54' '55' '56' '57' '58' '59' '6'\n",
      " '60' '63' '64' '65' '68' '69' '7' '70' '71' '72' '73' '74' '75' '76' '77'\n",
      " '78' '79' '8' '80' '81' '82' '83' '84' '85' '86' '87' '88' '89' '9' '90'\n",
      " '91' '92' '93' '94' '95' '96' '97' '98' '99']\n",
      "[\"<class 'float'>\"]\n"
     ]
    }
   ],
   "source": [
    "# # Longitude \n",
    "key = 'geo_meanLon'\n",
    "print('%s: '%key)\n",
    "print(np.unique(['%d'%kk for kk in df[key]]))\n",
    "print(np.unique([str(type(dd)) for dd in df[key]]))"
   ]
  },
  {
   "cell_type": "markdown",
   "id": "5842125e-5002-46ed-a667-3d4886ed39c8",
   "metadata": {},
   "source": [
    "### geo_siteName"
   ]
  },
  {
   "cell_type": "code",
   "execution_count": 14,
   "id": "c7090a51-9177-4c72-99dc-0f05608aaa37",
   "metadata": {},
   "outputs": [
    {
     "name": "stdout",
     "output_type": "stream",
     "text": [
      "geo_siteName: \n",
      "['RagatiForestStationNyeriDistrict' 'RagatiForestStationNyeriDistrict'\n",
      " 'Tounfite' ... 'COMPOSITE: IronboundIsland + IronboundIslandLongCores'\n",
      " 'COMPOSITE: JeffersonCo. + JeffersonCountyMissouri'\n",
      " 'COMPOSITE: YellowMountainRidge1 + YellowMountainRidge1-EntireBarkTrees']\n",
      "[\"<class 'str'>\"]\n"
     ]
    }
   ],
   "source": [
    "# Site Name \n",
    "key = 'geo_siteName'\n",
    "print('%s: '%key)\n",
    "print(df[key].values)\n",
    "print(np.unique([str(type(dd)) for dd in df[key]]))"
   ]
  },
  {
   "cell_type": "markdown",
   "id": "96458895-5508-4696-bfed-03c2ef2218c5",
   "metadata": {},
   "source": [
    "## proxy metadata: archive type, proxy type, interpretation"
   ]
  },
  {
   "cell_type": "markdown",
   "id": "a45f9770-fda5-420d-8c4b-80f7bbf4ce30",
   "metadata": {},
   "source": [
    "### archiveType"
   ]
  },
  {
   "cell_type": "code",
   "execution_count": 15,
   "id": "87abc715-328f-432e-be8b-355288db162e",
   "metadata": {},
   "outputs": [
    {
     "name": "stdout",
     "output_type": "stream",
     "text": [
      "archiveType: \n",
      "['bivalve' 'borehole' 'coral' 'documents' 'glacier ice' 'ground ice'\n",
      " 'hybrid' 'lake sediment' 'marine sediment' 'mollusk shells'\n",
      " 'sclerosponge' 'speleothem' 'terrestrial sediment' 'tree']\n",
      "[\"<class 'str'>\"]\n"
     ]
    }
   ],
   "source": [
    "# now check all the entries bit by bit (can be omitted at a later stage)\n",
    "\n",
    "# archiveType\n",
    "key = 'archiveType'\n",
    "print('%s: '%key)\n",
    "print(np.unique(df[key]))\n",
    "print(np.unique([str(type(dd)) for dd in df[key]]))"
   ]
  },
  {
   "cell_type": "markdown",
   "id": "c2a8ffe4-5a42-4ab4-a676-4e4b57e699ce",
   "metadata": {},
   "source": [
    "### paleoData_proxy"
   ]
  },
  {
   "cell_type": "code",
   "execution_count": 16,
   "id": "20c5c52b-06a5-4e56-b684-4835064ac6e2",
   "metadata": {},
   "outputs": [
    {
     "name": "stdout",
     "output_type": "stream",
     "text": [
      "paleoData_proxy: \n",
      "['BSi' 'Documentary' 'MXD' 'Mg/Ca' 'Sr/Ca' 'TEX86' 'TRW' 'alkenone'\n",
      " 'borehole' 'calcification' 'calcification rate' 'chironomid'\n",
      " 'chrysophyte' 'd13C' 'd18O' 'd2H' 'diatom' 'dynocist MAT' 'foram Mg/Ca'\n",
      " 'foram d18O' 'foraminifera' 'growth rate' 'historic' 'hybrid' 'melt'\n",
      " 'midge' 'planktonic foraminifera' 'pollen' 'reflectance'\n",
      " 'sed accumulation' 'varve property' 'varve thickness']\n",
      "[\"<class 'str'>\"]\n"
     ]
    }
   ],
   "source": [
    "# paleoData_proxy\n",
    "key = 'paleoData_proxy'\n",
    "print('%s: '%key)\n",
    "print(np.unique([kk for kk in df[key]]))\n",
    "print(np.unique([str(type(dd)) for dd in df[key]]))"
   ]
  },
  {
   "cell_type": "markdown",
   "id": "ac450ab8-641a-41dc-b98e-e98046578565",
   "metadata": {},
   "source": [
    "### paleoData_notes"
   ]
  },
  {
   "cell_type": "code",
   "execution_count": 17,
   "id": "1cac536f-12f0-4922-bf66-707065f3e844",
   "metadata": {},
   "outputs": [
    {
     "name": "stdout",
     "output_type": "stream",
     "text": [
      "paleoData_notes: \n",
      "['Investigator: Stahle' 'Investigator: Stahle' 'Investigator: Stockton'\n",
      " ...\n",
      " 'FE23_northamerica_usa_me017: Investigator: Cook, FE23_northamerica_usa_me018: Investigator: Cook'\n",
      " 'FE23_northamerica_usa_mo: Investigator: UniversityofChicagoTreeRingLaboratory, FE23_northamerica_usa_mo009: Investigator: Bell'\n",
      " 'FE23_northamerica_usa_mt112: Investigator: King, FE23_northamerica_usa_mt113: Investigator: Waggoner']\n",
      "[\"<class 'str'>\"]\n"
     ]
    }
   ],
   "source": [
    "# # paleoData_notes\n",
    "key = 'paleoData_notes'\n",
    "print('%s: '%key)\n",
    "print(df[key].values)\n",
    "print(np.unique([str(type(dd)) for dd in df[key]]))"
   ]
  },
  {
   "cell_type": "markdown",
   "id": "301fcce1-39ec-445d-b141-8d537282c59b",
   "metadata": {},
   "source": [
    "### climateInterpretation_variable"
   ]
  },
  {
   "cell_type": "code",
   "execution_count": 18,
   "id": "2e34fcfc-a834-4a1e-ba55-2088c6814d1c",
   "metadata": {
    "scrolled": true
   },
   "outputs": [
    {
     "name": "stdout",
     "output_type": "stream",
     "text": [
      "climateInterpretation_variable: \n",
      "['N/A' 'NOT temperature NOT moisture' 'moisture' 'temperature'\n",
      " 'temperature+moisture']\n",
      "[\"<class 'str'>\"]\n"
     ]
    }
   ],
   "source": [
    "# climate_interpretation\n",
    "key = 'climateInterpretation_variable'\n",
    "print('%s: '%key)\n",
    "print(np.unique([kk for kk in df[key]]))\n",
    "print(np.unique([str(type(dd)) for dd in df[key]]))\n"
   ]
  },
  {
   "cell_type": "markdown",
   "id": "c759e22b-79f4-40ca-8b00-2ba13e8af411",
   "metadata": {},
   "source": [
    "### climateInterpretation_variableDetail"
   ]
  },
  {
   "cell_type": "code",
   "execution_count": 19,
   "id": "8eef6c4e-e566-43db-bf9f-d691572284a2",
   "metadata": {
    "scrolled": true
   },
   "outputs": [
    {
     "name": "stdout",
     "output_type": "stream",
     "text": [
      "climateInterpretation_variableDetail: \n",
      "['?18O.precipitation' 'AMO' 'Aridity' 'Asian summer monsoon' 'E/P'\n",
      " 'E:P (groundwater \\\\fluid balance\\\\\")\"' 'East African Monsoon strength'\n",
      " 'Effective Moisture' 'Estuary salinity' 'Evaporation'\n",
      " 'FE23_northamerica_usa_ak054: moisture, FE23_northamerica_usa_ak056: N/A'\n",
      " 'FE23_northamerica_usa_co037: moisture, FE23_northamerica_usa_co039: moisture'\n",
      " 'FE23_northamerica_usa_co040: moisture, FE23_northamerica_usa_co043: moisture'\n",
      " 'FE23_northamerica_usa_me017: moisture, FE23_northamerica_usa_me018: temperature+moisture'\n",
      " 'FE23_northamerica_usa_mo: moisture, FE23_northamerica_usa_mo009: moisture'\n",
      " 'FE23_northamerica_usa_mt112: N/A, FE23_northamerica_usa_mt113: N/A'\n",
      " 'I_E' 'M' 'Mean Annual Precipitation'\n",
      " 'Moisture flux from the subtropical North Pacific (driven by SST anomalies in the Kuroshio Extension region)'\n",
      " 'Monsoon strength' 'N/A' 'NAO index' 'NULL' 'P' 'P/E' 'PDO' 'PDSI' 'P_E'\n",
      " 'P_amount' 'P_amount and temperature' 'P_amount, P_E' 'P_amount, RH'\n",
      " 'P_amount, RH, T_air, P_E' 'P_amount, T_air' 'P_isotope'\n",
      " 'Precipitation amount'\n",
      " 'Precipitation amount (as a function of temperature)'\n",
      " 'Precipitation source' 'Precipitation_amount, SAM'\n",
      " 'Precipitation_amount, Temperature_air' 'Precipitation_amount, humidity'\n",
      " 'S' 'Solar insolation' 'Source and intensity' 'Storm track, Pacific SST'\n",
      " 'T' 'T_air' 'T_air, P_amount' 'T_air, P_amount, drought index SPEI'\n",
      " 'T_air, RH, P_amount' 'T_water' 'Temperature and Precipitation amount'\n",
      " 'Temperature_air' 'West African monsoon intensity' 'air temperature'\n",
      " 'air@600m' 'air@condensationLevel' 'air@surface' 'amount effect'\n",
      " 'aridity' 'atmospheric circluation' 'atmospheric circulation'\n",
      " 'changes in monsoon intensity.' 'd18O' 'd18O precipitation'\n",
      " 'd18O_seawater' 'discharge' 'effective moisture/evaporation'\n",
      " 'evaporation / precipitation' 'evaporation/ groundwater inflow'\n",
      " 'evaporation/precipitation' 'ground@surface'\n",
      " 'hydrology, west wind intensity' 'ice@surface'\n",
      " 'lake level; net precipitation' 'lake overflow' 'lake@surface'\n",
      " 'moisture (P-E)' 'moisture balance (P-E)' 'not clear'\n",
      " 'not interpreted to reflect climate (note by Iso2k compiler: dD precip does not change seasonally in this part of Greenland, likely because source areas are proximal and carry relatively enriched moisture to this region throughout the year)'\n",
      " 'pages2k_Asia_011: temperature, pages2k_Asia_012: temperature'\n",
      " 'pages2k_Asia_015: temperature, pages2k_Asia_017: temperature'\n",
      " 'pages2k_Ocean2kHR_128: temperature, iso2k_Ocean2kHR_128: temperature'\n",
      " 'precipitation amount' 'precipitation d18O' 'precipitation seasonality'\n",
      " 'rainfall seasonality' 'rainfall source area'\n",
      " 'regional hydrology and river runoff' 'regional rainfall amount'\n",
      " 'sea@surface' 'source region' 'strength'\n",
      " 'strength of Indian ocean moisture transport' 'surface pressure'\n",
      " 'temperature - manually assigned by DoD2k authors for paleoData_proxy = Mg/Ca'\n",
      " 'temperature - manually assigned by DoD2k authors for paleoData_proxy = Sr/Ca'\n",
      " 'temperature and salinity'\n",
      " 'temperature+moisture - manually assigned by DoD2k authors for paleoData_proxy = d18O'\n",
      " 'temperature+moisture - manually assigned by DoD2k authors for paleoData_proxy = d18O.'\n",
      " 'temperature/d18Osw' 'temperature/salinity'\n",
      " 'the position between the ecotone of desiduous forests and prairy'\n",
      " 'water availability']\n",
      "[\"<class 'str'>\"]\n"
     ]
    }
   ],
   "source": [
    "# climate_interpretation\n",
    "key = 'climateInterpretation_variableDetail'\n",
    "print('%s: '%key)\n",
    "print(np.unique([kk for kk in df[key]]))\n",
    "print(np.unique([str(type(dd)) for dd in df[key]]))\n"
   ]
  },
  {
   "cell_type": "markdown",
   "id": "0ad96342-cd93-440c-9a22-dd81d84b756d",
   "metadata": {},
   "source": [
    "### paleoData_sensorSpecies"
   ]
  },
  {
   "cell_type": "code",
   "execution_count": 20,
   "id": "62d35b55-a685-488d-a4b5-93905d02c753",
   "metadata": {},
   "outputs": [
    {
     "name": "stdout",
     "output_type": "stream",
     "text": [
      "paleoData_sensorSpecies: \n",
      "['ABAL' 'ABAM' 'ABBA' 'ABBO' 'ABCE' 'ABCI' 'ABCO' 'ABLA' 'ABMA' 'ABPI'\n",
      " 'ABPN' 'ABPR' 'ABSB' 'ABSP' 'ACRU' 'ACSH' 'ADHO' 'ADUS' 'AGAU' 'ARAR'\n",
      " 'ATCU' 'ATSE' 'AUCH' 'BEPU' 'CABU' 'CADE' 'CADN' 'CARO' 'CDAT' 'CDBR'\n",
      " 'CDDE' 'CDLI' 'CEAN' 'CESP' 'CHLA' 'CHNO' 'Ceratoporella nicholsoni'\n",
      " 'DABI' 'DACO' 'Diploastrea heliopora' 'Diploria labyrinthiformis'\n",
      " 'Diploria strigosa' 'FAGR' 'FASY' 'FICU' 'FRNI' 'HABI'\n",
      " 'Hydnophora microconos, Porites lobata' 'JGAU' 'JUEX' 'JUFO' 'JUOC'\n",
      " 'JUPH' 'JUPR' 'JURE' 'JUSC' 'JUSP' 'JUVI' 'LADE' 'LAGM' 'LALA' 'LALY'\n",
      " 'LAOC' 'LASI' 'LGFR' 'LIBI' 'LITU' 'Montastraea faveolata' 'N/A' 'NOBE'\n",
      " 'NOGU' 'NOME' 'NOPU' 'NOSO' 'NULL' 'NaN' 'Orbicella faveolata' 'PCAB'\n",
      " 'PCEN' 'PCGL' 'PCGN' 'PCMA' 'PCOB' 'PCOM' 'PCPU' 'PCRU' 'PCSH' 'PCSI'\n",
      " 'PCSM' 'PCSP' 'PHAL' 'PHAS' 'PHGL' 'PHTR' 'PIAL' 'PIAM' 'PIAR' 'PIBA'\n",
      " 'PIBN' 'PIBR' 'PICE' 'PICL' 'PICO' 'PIEC' 'PIED' 'PIFL' 'PIHA' 'PIHR'\n",
      " 'PIJE' 'PIKO' 'PILA' 'PILE' 'PILO' 'PIMO' 'PIMU' 'PIMZ' 'PINI' 'PIPA'\n",
      " 'PIPE' 'PIPI' 'PIPN' 'PIPO' 'PIPU' 'PIRE' 'PIRI' 'PIRO' 'PISF' 'PISI'\n",
      " 'PISP' 'PIST' 'PISY' 'PITA' 'PITO' 'PIUN' 'PIVI' 'PIWA' 'PLRA' 'PLUV'\n",
      " 'PPDE' 'PPSP' 'PRMA' 'PSMA' 'PSME' 'PTAN'\n",
      " 'Pavona clavus, Pavona gigantea' 'Porites' 'Porites australiensis'\n",
      " 'Porites lobata' 'Porites lutea' 'Porites solida' 'Porites sp.'\n",
      " 'Pseudodiploria strigosa' 'QUAL' 'QUDG' 'QUFR' 'QUHA' 'QUKE' 'QULO'\n",
      " 'QULY' 'QUMA' 'QUMC' 'QUPE' 'QUPR' 'QURO' 'QURU' 'QUSP' 'QUST' 'QUVE'\n",
      " 'Siderastrea radians' 'Siderastrea siderea' 'Siderastrea stellata'\n",
      " 'Solenastrea bournoni' 'TABA' 'TADI' 'TAMU' 'TEGR' 'THOC' 'THPL' 'TSCA'\n",
      " 'TSCR' 'TSDU' 'TSHE' 'TSME' 'ULSP' 'VIKE' 'WICE' 'faveolata' 'heliopora'\n",
      " 'islandica' 'lamellina' 'lobata' 'lutea' 'nan' 'nicholsoni' 'siderea']\n",
      "[\"<class 'str'>\"]\n"
     ]
    }
   ],
   "source": [
    "# climate_interpretation\n",
    "key = 'paleoData_sensorSpecies'\n",
    "print('%s: '%key)\n",
    "print(np.unique([kk for kk in df[key]]))\n",
    "print(np.unique([str(type(dd)) for dd in df[key]]))\n"
   ]
  },
  {
   "cell_type": "markdown",
   "id": "d812890c-19a9-4437-8fc1-915de4f876b7",
   "metadata": {},
   "source": [
    "## data "
   ]
  },
  {
   "cell_type": "markdown",
   "id": "8570b914-b4e6-47b2-b039-d37317f6c2d6",
   "metadata": {},
   "source": [
    "### paleoData_units"
   ]
  },
  {
   "cell_type": "code",
   "execution_count": 21,
   "id": "f37b9a9e-fa09-421c-8639-47616cff3bbe",
   "metadata": {},
   "outputs": [
    {
     "name": "stdout",
     "output_type": "stream",
     "text": [
      "paleoData_units: \n",
      "['N/A' 'cm' 'cm/yr' 'dark_sum' 'degC' 'g.cm-2.a-1' 'index' 'mm' 'mm/year'\n",
      " 'mm/yr' 'mmol/mol' 'percent' 'permil' 'standardized_anomalies' 'z-scores']\n",
      "[\"<class 'str'>\"]\n"
     ]
    }
   ],
   "source": [
    "# paleoData_units\n",
    "key = 'paleoData_units'\n",
    "print('%s: '%key)\n",
    "print(np.unique([kk for kk in df[key]]))\n",
    "print(np.unique([str(type(dd)) for dd in df[key]]))"
   ]
  },
  {
   "cell_type": "markdown",
   "id": "10216f2d-820c-4d1c-90ef-032e6f569855",
   "metadata": {},
   "source": [
    "### paleoData_values"
   ]
  },
  {
   "cell_type": "code",
   "execution_count": 22,
   "id": "37ddd0ff-e741-43fc-b8b5-606fe38f3053",
   "metadata": {},
   "outputs": [
    {
     "name": "stdout",
     "output_type": "stream",
     "text": [
      "paleoData_values: \n",
      "africa_keny001                : 0.4 -- 1.423\n",
      "<class 'numpy.ndarray'>\n",
      "africa_keny002                : 0.499 -- 1.631\n",
      "<class 'numpy.ndarray'>\n",
      "africa_morc001                : -0.014 -- 2.226\n",
      "<class 'numpy.ndarray'>\n",
      "africa_morc002                : 0.323 -- 1.587\n",
      "<class 'numpy.ndarray'>\n",
      "africa_morc003                : 0.004 -- 1.617\n",
      "<class 'numpy.ndarray'>\n",
      "africa_morc011                : 0.005 -- 2.094\n",
      "<class 'numpy.ndarray'>\n",
      "africa_morc012                : 0.435 -- 1.866\n",
      "<class 'numpy.ndarray'>\n",
      "africa_morc013                : 0.166 -- 1.389\n",
      "<class 'numpy.ndarray'>\n",
      "africa_morc014                : -0.025 -- 2.012\n",
      "<class 'numpy.ndarray'>\n",
      "africa_safr001                : 0.485 -- 2.129\n",
      "<class 'numpy.ndarray'>\n",
      "africa_zimb001                : 0.15 -- 2.415\n",
      "<class 'numpy.ndarray'>\n",
      "africa_zimb002                : 0.178 -- 2.044\n",
      "<class 'numpy.ndarray'>\n",
      "africa_zimb003                : 0.24 -- 2.701\n",
      "<class 'numpy.ndarray'>\n",
      "asia_chin004                  : 0.337 -- 1.525\n",
      "<class 'numpy.ndarray'>\n",
      "asia_chin005                  : -0.015 -- 1.79\n",
      "<class 'numpy.ndarray'>\n",
      "asia_chin006                  : -0.064 -- 1.758\n",
      "<class 'numpy.ndarray'>\n",
      "asia_indi001                  : 0.507 -- 1.615\n",
      "<class 'numpy.ndarray'>\n",
      "asia_indi002                  : 0.51 -- 1.818\n",
      "<class 'numpy.ndarray'>\n",
      "asia_indi003                  : 0.399 -- 1.529\n",
      "<class 'numpy.ndarray'>\n",
      "asia_indi004                  : 0.61 -- 1.605\n",
      "<class 'numpy.ndarray'>\n",
      "[\"<class 'numpy.ndarray'>\"]\n"
     ]
    }
   ],
   "source": [
    "# # paleoData_values\n",
    "key = 'paleoData_values'\n",
    "\n",
    "print('%s: '%key)\n",
    "for ii, vv in enumerate(df[key][:20]):\n",
    "    try: \n",
    "        print('%-30s: %s -- %s'%(df['dataSetName'].iloc[ii][:30], str(np.nanmin(vv)), str(np.nanmax(vv))))\n",
    "        print(type(vv))\n",
    "    except: print(df['dataSetName'].iloc[ii], 'NaNs detected.')\n",
    "print(np.unique([str(type(dd)) for dd in df[key]]))"
   ]
  },
  {
   "cell_type": "markdown",
   "id": "dbe0d9a8-e024-4ac6-9d6a-3e09a31901b3",
   "metadata": {},
   "source": [
    "### year"
   ]
  },
  {
   "cell_type": "code",
   "execution_count": 23,
   "id": "d3445256-02dd-464b-8cc1-b7be8ee9b3d1",
   "metadata": {},
   "outputs": [
    {
     "name": "stdout",
     "output_type": "stream",
     "text": [
      "year: \n",
      "africa_keny001                : 1944.0 -- 1993.0\n",
      "africa_keny002                : 1950.0 -- 1994.0\n",
      "africa_morc001                : 1360.0 -- 1983.0\n",
      "africa_morc002                : 1686.0 -- 1984.0\n",
      "africa_morc003                : 1755.0 -- 1984.0\n",
      "africa_morc011                : 1598.0 -- 1984.0\n",
      "africa_morc012                : 1813.0 -- 1984.0\n",
      "africa_morc013                : 1854.0 -- 1984.0\n",
      "africa_morc014                : 1200.0 -- 1984.0\n",
      "africa_safr001                : 1665.0 -- 1976.0\n",
      "africa_zimb001                : 1925.0 -- 1994.0\n",
      "africa_zimb002                : 1877.0 -- 1997.0\n",
      "africa_zimb003                : 1880.0 -- 1996.0\n",
      "asia_chin004                  : 1593.0 -- 1989.0\n",
      "asia_chin005                  : 935.0 -- 1993.0\n",
      "asia_chin006                  : 966.0 -- 1993.0\n",
      "asia_indi001                  : 1888.0 -- 1981.0\n",
      "asia_indi002                  : 1798.0 -- 1980.0\n",
      "asia_indi003                  : 1752.0 -- 1980.0\n",
      "asia_indi004                  : 1800.0 -- 1981.0\n",
      "[\"<class 'numpy.ndarray'>\"]\n"
     ]
    }
   ],
   "source": [
    "# # year\n",
    "key = 'year'\n",
    "print('%s: '%key)\n",
    "for ii, vv in enumerate(df[key][:20]):\n",
    "    try: print('%-30s: %s -- %s'%(df['dataSetName'].iloc[ii][:30], str(np.nanmin(vv)), str(np.nanmax(vv))))\n",
    "    except: print('NaNs detected.', vv)\n",
    "print(np.unique([str(type(dd)) for dd in df[key]]))"
   ]
  },
  {
   "cell_type": "markdown",
   "id": "01ae6d2c-b944-4140-970a-3af94ea7bc3e",
   "metadata": {},
   "source": [
    "### yearUnits"
   ]
  },
  {
   "cell_type": "code",
   "execution_count": 24,
   "id": "7b7620d4-0002-4906-969b-982db92c21e5",
   "metadata": {},
   "outputs": [
    {
     "name": "stdout",
     "output_type": "stream",
     "text": [
      "yearUnits: \n",
      "['CE']\n",
      "[\"<class 'str'>\"]\n"
     ]
    }
   ],
   "source": [
    "# yearUnits\n",
    "key = 'yearUnits'\n",
    "print('%s: '%key)\n",
    "print(np.unique([kk for kk in df[key]]))\n",
    "print(np.unique([str(type(dd)) for dd in df[key]]))"
   ]
  }
 ],
 "metadata": {
  "kernelspec": {
   "display_name": "Python (cfr-env)",
   "language": "python",
   "name": "cfr-env"
  },
  "language_info": {
   "codemirror_mode": {
    "name": "ipython",
    "version": 3
   },
   "file_extension": ".py",
   "mimetype": "text/x-python",
   "name": "python",
   "nbconvert_exporter": "python",
   "pygments_lexer": "ipython3",
   "version": "3.11.8"
  }
 },
 "nbformat": 4,
 "nbformat_minor": 5
}
