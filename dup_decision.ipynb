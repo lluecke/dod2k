{
 "cells": [
  {
   "cell_type": "markdown",
   "id": "d7c3d938-4bad-4f6f-b057-77df4b9cf34e",
   "metadata": {},
   "source": [
    "## \n",
    "This notebook goes through the detected duplicate candidate pairs from *dup_detection.ipynb* and runs a decision process whether to keep or reject the identified records. \n",
    "\n",
    "Output: \n",
    "- Decision file : dup_detection/DATABASENAME/duplicate_decisions_DATABASENAME_AUTHORINITIALS_YY-MM-DD.csv\n",
    "- duplicate free dataframe: dup_detection/DABASENAME_dup_free.pkl\n",
    "\n",
    "27/11/2024 LL: Changed hierarchy FE23>PAGES 2k\n",
    "22/10/2024 v1: Updated the decision process:\n",
    "    - created backup decision file which is intermediately saved\n",
    "    - outputs URL which can be copied and pasted into browser\n",
    "    - implemented a composite option in the decision process, to create a composite of two records\n",
    "27/9/2024 v0: Notebook written by Lucie Luecke \n",
    "\n"
   ]
  },
  {
   "cell_type": "markdown",
   "id": "8c19f026-93f2-4b8e-9b76-56b2a2dadc99",
   "metadata": {},
   "source": [
    "# Set up environment"
   ]
  },
  {
   "cell_type": "code",
   "execution_count": 1,
   "id": "12c0d5da-a53f-4880-bdeb-18d212ec658b",
   "metadata": {},
   "outputs": [],
   "source": [
    "%load_ext autoreload\n",
    "%autoreload 2"
   ]
  },
  {
   "cell_type": "code",
   "execution_count": 2,
   "id": "87819a2f-e0f4-4980-8687-b9589a06e155",
   "metadata": {},
   "outputs": [],
   "source": [
    "# import pickle\n",
    "# import gzip\n",
    "import os\n",
    "import pandas as pd\n",
    "# import xarray as xr\n",
    "import numpy as np\n",
    "import matplotlib.pyplot as plt\n",
    "import cartopy.crs as ccrs\n",
    "import cartopy.feature as cfeature \n",
    "from matplotlib.gridspec import GridSpec as GS\n",
    "from copy import deepcopy as dc\n",
    "import functions as f\n",
    "import geopy\n",
    "import datetime\n",
    "import f_duplicate_search as dupdet"
   ]
  },
  {
   "cell_type": "code",
   "execution_count": 3,
   "id": "61b92e74-e9ab-4783-9f03-a0bca9173ea8",
   "metadata": {},
   "outputs": [
    {
     "name": "stdout",
     "output_type": "stream",
     "text": [
      ".\n"
     ]
    }
   ],
   "source": [
    "# choose working directory\n",
    "wdir = os.curdir\n",
    "os.chdir(wdir)\n",
    "print(wdir)"
   ]
  },
  {
   "cell_type": "markdown",
   "id": "0690d744-dbd3-41c5-ad53-9a7b3d4eaf8d",
   "metadata": {},
   "source": [
    "## Load dataset"
   ]
  },
  {
   "cell_type": "code",
   "execution_count": 4,
   "id": "c31988d6-6ad6-432a-ad20-0f9aeb388585",
   "metadata": {
    "scrolled": true
   },
   "outputs": [
    {
     "name": "stdout",
     "output_type": "stream",
     "text": [
      "<class 'pandas.core.frame.DataFrame'>\n",
      "RangeIndex: 4517 entries, 0 to 4516\n",
      "Data columns (total 19 columns):\n",
      " #   Column                                Non-Null Count  Dtype  \n",
      "---  ------                                --------------  -----  \n",
      " 0   archiveType                           4517 non-null   object \n",
      " 1   climateInterpretation_variable        4517 non-null   object \n",
      " 2   climateInterpretation_variableDetail  4517 non-null   object \n",
      " 3   dataSetName                           4517 non-null   object \n",
      " 4   datasetId                             4517 non-null   object \n",
      " 5   duplicateDetails                      4517 non-null   object \n",
      " 6   geo_meanElev                          4434 non-null   float32\n",
      " 7   geo_meanLat                           4517 non-null   float32\n",
      " 8   geo_meanLon                           4517 non-null   float32\n",
      " 9   geo_siteName                          4517 non-null   object \n",
      " 10  originalDataURL                       4517 non-null   object \n",
      " 11  originalDatabase                      4517 non-null   object \n",
      " 12  paleoData_notes                       4517 non-null   object \n",
      " 13  paleoData_proxy                       4517 non-null   object \n",
      " 14  paleoData_sensorSpecies               4517 non-null   object \n",
      " 15  paleoData_units                       4517 non-null   object \n",
      " 16  paleoData_values                      4517 non-null   object \n",
      " 17  year                                  4517 non-null   object \n",
      " 18  yearUnits                             4517 non-null   object \n",
      "dtypes: float32(3), object(16)\n",
      "memory usage: 617.7+ KB\n",
      "None\n"
     ]
    }
   ],
   "source": [
    "# read dataframe \n",
    "\n",
    "db_name = 'dod2k_dupfree'\n",
    "#db_name = 'dod2k'\n",
    "#db_name = 'ch2k'\n",
    "# db_name = 'fe23'\n",
    "# db_name = 'iso2k'\n",
    "# db_name = 'pages2k'\n",
    "# db_name = 'sisal'\n",
    "\n",
    "\n",
    "# load dataframe\n",
    "df = f.load_compact_dataframe_from_csv(db_name)\n",
    "# databasedir    = '%s/%s_compact.pkl'\n",
    "# df = pd.read_pickle(databasedir)\n",
    "\n",
    "print(df.info())\n",
    "df.name = db_name\n"
   ]
  },
  {
   "cell_type": "code",
   "execution_count": 5,
   "id": "c3cf3ebb-4924-4764-b6b4-bd4f68f29f87",
   "metadata": {},
   "outputs": [],
   "source": [
    "# for ii in df.index:\n",
    "#     if type(df.at[ii, 'paleoData_values'])==np.ma.core.MaskedArray: continue\n",
    "#     dd=f.convert_to_nparray(df.at[ii, 'paleoData_values'])\n",
    "#     df.at[ii, 'paleoData_values']=dd.data[~dd.mask]\n",
    "#     df.at[ii, 'year']=df.at[ii, 'year'][~dd.mask]"
   ]
  },
  {
   "cell_type": "code",
   "execution_count": 6,
   "id": "93175920-5112-4670-8c24-c389ddb90eb8",
   "metadata": {},
   "outputs": [
    {
     "name": "stdout",
     "output_type": "stream",
     "text": [
      "db_name: dod2k_dupfree\n"
     ]
    }
   ],
   "source": [
    "# print('databasedir:', data basedir)\n",
    "print('db_name:', df.name)"
   ]
  },
  {
   "cell_type": "markdown",
   "id": "a1a947b1-7772-4656-9aaf-77c573145ade",
   "metadata": {},
   "source": [
    "# Duplicate Detection"
   ]
  },
  {
   "cell_type": "markdown",
   "id": "b5fbe60a-3dbe-4e19-89dd-d86ac3ffc8ce",
   "metadata": {},
   "source": [
    "### Hierarchy for duplicate removal for identical duplicates"
   ]
  },
  {
   "cell_type": "code",
   "execution_count": 7,
   "id": "875e46ca-dfef-4c87-94ae-f0456387a6cd",
   "metadata": {},
   "outputs": [
    {
     "name": "stdout",
     "output_type": "stream",
     "text": [
      "['FE23 (Breitenmoser et al. (2014))' 'CoralHydro2k v1.0.0' 'Iso2k v1.0.1'\n",
      " 'PAGES2k v2.0.0 (Ocn_103 updated with Dee et al. 2020)' 'SISAL v3'\n",
      " 'dod2k_composite_standardised']\n"
     ]
    }
   ],
   "source": [
    "print(df.originalDatabase.unique())"
   ]
  },
  {
   "cell_type": "code",
   "execution_count": 8,
   "id": "c0df2a2c-da25-4442-8afd-a07937a2c3cd",
   "metadata": {},
   "outputs": [],
   "source": [
    "# implement hierarchy for automated decisions for identical records\n",
    "df['Hierarchy'] = 0 \n",
    "df.loc[df['originalDatabase']=='PAGES2k v2.0.0 (Ocn_103 updated with Dee et al. 2020)', 'Hierarchy'] = 5\n",
    "df.loc[df['originalDatabase']=='FE23 (Breitenmoser et al. (2014))', 'Hierarchy'] = 4\n",
    "df.loc[df['originalDatabase']=='CoralHydro2k v1.0.0', 'Hierarchy'] = 2\n",
    "df.loc[df['originalDatabase']=='Iso2k v1.0.1', 'Hierarchy'] = 3\n",
    "df.loc[df['originalDatabase']=='SISAL v3', 'Hierarchy'] = 1"
   ]
  },
  {
   "cell_type": "markdown",
   "id": "96493659-b2a8-4c78-8a63-7e67a3b9fcda",
   "metadata": {},
   "source": [
    "### Run through duplicate candidates and decide whether to keep or reject."
   ]
  },
  {
   "cell_type": "code",
   "execution_count": 9,
   "id": "0fcd1d55-6162-4c49-b84b-4606c03d6407",
   "metadata": {},
   "outputs": [],
   "source": [
    "# # write your details here or comment out and write as input in next cell\n",
    "# initials = 'MNE'\n",
    "# fullname = 'Michael Neil Evans'\n",
    "# email    = 'mnevans@umd.edu'\n",
    "# operator_details = [initials, fullname, email]"
   ]
  },
  {
   "cell_type": "code",
   "execution_count": 10,
   "id": "0e3c2345-8710-4d68-88b2-818dc7e2abbb",
   "metadata": {
    "scrolled": true
   },
   "outputs": [
    {
     "ename": "KeyboardInterrupt",
     "evalue": "Interrupted by user",
     "output_type": "error",
     "traceback": [
      "\u001b[31m---------------------------------------------------------------------------\u001b[39m",
      "\u001b[31mKeyboardInterrupt\u001b[39m                         Traceback (most recent call last)",
      "\u001b[36mCell\u001b[39m\u001b[36m \u001b[39m\u001b[32mIn[10]\u001b[39m\u001b[32m, line 5\u001b[39m\n\u001b[32m      3\u001b[39m     \u001b[38;5;28mprint\u001b[39m(operator_details)\n\u001b[32m      4\u001b[39m \u001b[38;5;28;01mexcept\u001b[39;00m:\n\u001b[32m----> \u001b[39m\u001b[32m5\u001b[39m     initials = \u001b[38;5;28;43minput\u001b[39;49m\u001b[43m(\u001b[49m\u001b[33;43m'\u001b[39;49m\u001b[33;43mPlease enter your initials here:\u001b[39;49m\u001b[33;43m'\u001b[39;49m\u001b[43m)\u001b[49m\n\u001b[32m      6\u001b[39m     fullname = \u001b[38;5;28minput\u001b[39m(\u001b[33m'\u001b[39m\u001b[33mPlease enter your full name here:\u001b[39m\u001b[33m'\u001b[39m)\n\u001b[32m      7\u001b[39m     email    = \u001b[38;5;28minput\u001b[39m(\u001b[33m'\u001b[39m\u001b[33mPlease enter your email address here:\u001b[39m\u001b[33m'\u001b[39m)\n",
      "\u001b[36mFile \u001b[39m\u001b[32m~/.local/lib/python3.13/site-packages/ipykernel/kernelbase.py:1260\u001b[39m, in \u001b[36mKernel.raw_input\u001b[39m\u001b[34m(self, prompt)\u001b[39m\n\u001b[32m   1258\u001b[39m     msg = \u001b[33m\"\u001b[39m\u001b[33mraw_input was called, but this frontend does not support input requests.\u001b[39m\u001b[33m\"\u001b[39m\n\u001b[32m   1259\u001b[39m     \u001b[38;5;28;01mraise\u001b[39;00m StdinNotImplementedError(msg)\n\u001b[32m-> \u001b[39m\u001b[32m1260\u001b[39m \u001b[38;5;28;01mreturn\u001b[39;00m \u001b[38;5;28;43mself\u001b[39;49m\u001b[43m.\u001b[49m\u001b[43m_input_request\u001b[49m\u001b[43m(\u001b[49m\n\u001b[32m   1261\u001b[39m \u001b[43m    \u001b[49m\u001b[38;5;28;43mstr\u001b[39;49m\u001b[43m(\u001b[49m\u001b[43mprompt\u001b[49m\u001b[43m)\u001b[49m\u001b[43m,\u001b[49m\n\u001b[32m   1262\u001b[39m \u001b[43m    \u001b[49m\u001b[38;5;28;43mself\u001b[39;49m\u001b[43m.\u001b[49m\u001b[43m_parent_ident\u001b[49m\u001b[43m[\u001b[49m\u001b[33;43m\"\u001b[39;49m\u001b[33;43mshell\u001b[39;49m\u001b[33;43m\"\u001b[39;49m\u001b[43m]\u001b[49m\u001b[43m,\u001b[49m\n\u001b[32m   1263\u001b[39m \u001b[43m    \u001b[49m\u001b[38;5;28;43mself\u001b[39;49m\u001b[43m.\u001b[49m\u001b[43mget_parent\u001b[49m\u001b[43m(\u001b[49m\u001b[33;43m\"\u001b[39;49m\u001b[33;43mshell\u001b[39;49m\u001b[33;43m\"\u001b[39;49m\u001b[43m)\u001b[49m\u001b[43m,\u001b[49m\n\u001b[32m   1264\u001b[39m \u001b[43m    \u001b[49m\u001b[43mpassword\u001b[49m\u001b[43m=\u001b[49m\u001b[38;5;28;43;01mFalse\u001b[39;49;00m\u001b[43m,\u001b[49m\n\u001b[32m   1265\u001b[39m \u001b[43m\u001b[49m\u001b[43m)\u001b[49m\n",
      "\u001b[36mFile \u001b[39m\u001b[32m~/.local/lib/python3.13/site-packages/ipykernel/kernelbase.py:1305\u001b[39m, in \u001b[36mKernel._input_request\u001b[39m\u001b[34m(self, prompt, ident, parent, password)\u001b[39m\n\u001b[32m   1302\u001b[39m \u001b[38;5;28;01mexcept\u001b[39;00m \u001b[38;5;167;01mKeyboardInterrupt\u001b[39;00m:\n\u001b[32m   1303\u001b[39m     \u001b[38;5;66;03m# re-raise KeyboardInterrupt, to truncate traceback\u001b[39;00m\n\u001b[32m   1304\u001b[39m     msg = \u001b[33m\"\u001b[39m\u001b[33mInterrupted by user\u001b[39m\u001b[33m\"\u001b[39m\n\u001b[32m-> \u001b[39m\u001b[32m1305\u001b[39m     \u001b[38;5;28;01mraise\u001b[39;00m \u001b[38;5;167;01mKeyboardInterrupt\u001b[39;00m(msg) \u001b[38;5;28;01mfrom\u001b[39;00m\u001b[38;5;250m \u001b[39m\u001b[38;5;28;01mNone\u001b[39;00m\n\u001b[32m   1306\u001b[39m \u001b[38;5;28;01mexcept\u001b[39;00m \u001b[38;5;167;01mException\u001b[39;00m:\n\u001b[32m   1307\u001b[39m     \u001b[38;5;28mself\u001b[39m.log.warning(\u001b[33m\"\u001b[39m\u001b[33mInvalid Message:\u001b[39m\u001b[33m\"\u001b[39m, exc_info=\u001b[38;5;28;01mTrue\u001b[39;00m)\n",
      "\u001b[31mKeyboardInterrupt\u001b[39m: Interrupted by user"
     ]
    }
   ],
   "source": [
    "# print('SAVE OPERATOR DETAILS FOR DECISION PROCESS.')\n",
    "try:\n",
    "    print(operator_details)\n",
    "except:\n",
    "    initials = input('Please enter your initials here:')\n",
    "    fullname = input('Please enter your full name here:')\n",
    "    email    = input('Please enter your email address here:')\n",
    "    operator_details = [initials, fullname, email]"
   ]
  },
  {
   "cell_type": "code",
   "execution_count": null,
   "id": "eb20ca18-8d36-4083-b5ab-3b4b64362b47",
   "metadata": {},
   "outputs": [],
   "source": [
    "\n",
    "date = str(datetime.datetime.utcnow())[2:10]\n",
    "\n",
    "try:\n",
    "    open('%s/dup_detection/dup_decisions_%s_%s_%s_BACKUP.csv'%(df.name, df.name, initials, date), 'r')\n",
    "except FileNotFoundError:\n",
    "    print('No BACKUP FILE FOUND.')\n",
    "    print('The duplicate decision process will therefore start from scratch.')\n",
    "    yn=''\n",
    "    while yn not in ['y', 'n']:\n",
    "        yn=input('Are you happy to start the decision process from scratch? [y/n]')\n",
    "        if yn=='n':\n",
    "            print('If you wish to continue from a previous decision process, please read the following instructions:'.upper())\n",
    "            print('1. Choose the backup file you wish to continue from.')\n",
    "            print('2. Duplicate or copy and paste this file to create an identical copy.')\n",
    "            print('3. Change the datestamp in the filename of the new backup file to TODAY\\'s date: %s.'%date)\n",
    "            print('4. The filename should read: dup_decisions_%s_%s_%s_BACKUP.csv'%(df.name, initials, date))\n",
    "            print('5. You can now proceed with the next line of code which will continue the decision process where you left off.')\n",
    "        elif yn=='y':\n",
    "            print('Start decision process from scratch!'.upper())\n",
    "        else:\n",
    "            print('Please type one of the following options: y(es) or n(o)!')\n",
    "    \n",
    "\n",
    "\n",
    "    "
   ]
  },
  {
   "cell_type": "markdown",
   "id": "cfda897d-95c6-4a2b-ac2d-e7ce7be8e3c8",
   "metadata": {
    "scrolled": true
   },
   "source": [
    "# go through the dups and make decisions for each candidate pair (except for recollections or updates which are automatically selected)\n",
    "# save decision for each record in csv. Provide link to figure in csv.\n",
    "# show decisions and confirm \n",
    "dupdet.duplicate_decisions(df, operator_details=operator_details)\n"
   ]
  },
  {
   "cell_type": "markdown",
   "id": "d291a5e6-68e8-4dcf-ac2b-7e8bfa3e91a7",
   "metadata": {},
   "source": []
  },
  {
   "cell_type": "code",
   "execution_count": null,
   "id": "6d876e2a-8bb2-4447-a024-888d455585a1",
   "metadata": {},
   "outputs": [],
   "source": [
    "dupdet.duplicate_decisions(df, operator_details=False, choose_recollection=True, keep_all=False,plot=True, remove_identicals=True, dist_tolerance_km=8)"
   ]
  },
  {
   "cell_type": "code",
   "execution_count": null,
   "id": "9dda4064-efb9-4973-b515-1953d5d3c006",
   "metadata": {},
   "outputs": [],
   "source": [
    "\n",
    "# date =  '24-11-22'\n",
    "date = str(datetime.datetime.utcnow())[2:10]\n",
    "fn = f.find('dup_decisions_%s_%s_%s.csv'%(df.name, initials, date), \n",
    "     '%s/dup_detection'%df.name)\n"
   ]
  },
  {
   "cell_type": "code",
   "execution_count": null,
   "id": "7c3c7d3f-ed71-4ce6-99f2-6f06d3155fc0",
   "metadata": {},
   "outputs": [],
   "source": [
    "if fn != []:\n",
    "    print('----------------------------------------------------')\n",
    "    print('Sucessfully finished the duplicate decision process!'.upper())\n",
    "    print('----------------------------------------------------')\n",
    "    print('Saved the decision output file in:')\n",
    "    print()\n",
    "    for ff in fn:\n",
    "        print('%s.'%ff)\n",
    "    print()\n",
    "    print('You are now able to proceed with the next notebook: dup_removal.ipynb')\n",
    "else:\n",
    "    print('!!!!!!!!!!!!WARNING!!!!!!!!!!!')\n",
    "    print('Final output file is missing.')\n",
    "    print()\n",
    "    print('Please re-run the notebook to complete duplicate decision process.')"
   ]
  }
 ],
 "metadata": {
  "kernelspec": {
   "display_name": "Python (dod2k-env)",
   "language": "python",
   "name": "dod2k-env"
  },
  "language_info": {
   "codemirror_mode": {
    "name": "ipython",
    "version": 3
   },
   "file_extension": ".py",
   "mimetype": "text/x-python",
   "name": "python",
   "nbconvert_exporter": "python",
   "pygments_lexer": "ipython3",
   "version": "3.13.5"
  }
 },
 "nbformat": 4,
 "nbformat_minor": 5
}
