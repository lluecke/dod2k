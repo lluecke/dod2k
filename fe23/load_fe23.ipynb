{
 "cells": [
  {
   "cell_type": "code",
   "execution_count": 1,
   "id": "d69f2a14-76d8-43c5-adb7-3cde183a3022",
   "metadata": {},
   "outputs": [
    {
     "data": {
      "text/plain": [
       "\"\\nload TRW data from FE23 \\ndownloaded from NCEI https://www.ncei.noaa.gov/access/paleo-search/study/36773\\nCreated 25/10/2024 by Lucie Luecke \\n21/11/2024 LL: added csv saving of compact dataframe, removed redundant output.\\n\\n\\n\\nHere we extract a dataframe with the following columns:\\n\\ncolumns=['archiveType', \\n        'climateInterpretation_variable',\\n        'climateInterpretation_variableDetail',\\n        'datasetId',\\n        'dataSetName',                                                                                \\n        'geo_meanElev', \\n        'geo_meanLat', \\n        'geo_meanLon',\\n        'year', 'yearUnits',                                                                                         \\n        'paleoData_variableName',\\n        'paleoData_units',                                                                                           \\n        'paleoData_values',\\n        'paleoData_notes',\\n        'paleoData_sensorSpecies',\\n        'originalDataURL',\\n        'originalDatabase'\\n]\\n\\nWe save a standardised compact dataframe for concatenation to DoD2k\\n\\n\""
      ]
     },
     "execution_count": 1,
     "metadata": {},
     "output_type": "execute_result"
    }
   ],
   "source": [
    "# -*- coding: utf-8 -*-\n",
    "\"\"\"\n",
    "load TRW data from FE23 \n",
    "downloaded from NCEI https://www.ncei.noaa.gov/access/paleo-search/study/36773\n",
    "Created 25/10/2024 by Lucie Luecke \n",
    "21/11/2024 LL: added csv saving of compact dataframe, removed redundant output.\n",
    "\n",
    "\n",
    "\n",
    "Here we extract a dataframe with the following columns:\n",
    "\n",
    "columns=['archiveType', \n",
    "        'climateInterpretation_variable',\n",
    "        'climateInterpretation_variableDetail',\n",
    "        'datasetId',\n",
    "        'dataSetName',                                                                                \n",
    "        'geo_meanElev', \n",
    "        'geo_meanLat', \n",
    "        'geo_meanLon',\n",
    "        'year', 'yearUnits',                                                                                         \n",
    "        'paleoData_variableName',\n",
    "        'paleoData_units',                                                                                           \n",
    "        'paleoData_values',\n",
    "        'paleoData_notes',\n",
    "        'paleoData_sensorSpecies',\n",
    "        'originalDataURL',\n",
    "        'originalDatabase'\n",
    "]\n",
    "\n",
    "We save a standardised compact dataframe for concatenation to DoD2k\n",
    "\n",
    "\"\"\"\n",
    "\n"
   ]
  },
  {
   "cell_type": "markdown",
   "id": "1373b224-ed23-43be-a8fd-a6d6fd462429",
   "metadata": {},
   "source": [
    "# Set up working environment"
   ]
  },
  {
   "cell_type": "code",
   "execution_count": 2,
   "id": "05e0678b-400f-41c0-8841-55bad89d9635",
   "metadata": {},
   "outputs": [],
   "source": [
    "%load_ext autoreload\n",
    "%autoreload 2"
   ]
  },
  {
   "cell_type": "code",
   "execution_count": 3,
   "id": "3bda6e9f-9166-4993-80d1-e3f731367259",
   "metadata": {},
   "outputs": [],
   "source": [
    "import os\n",
    "import xarray as xr\n",
    "import pandas as pd\n",
    "import numpy as np\n",
    "import matplotlib.pyplot as plt\n",
    "import cartopy.crs as ccrs\n",
    "import cartopy.feature as cfeature \n",
    "from matplotlib.gridspec import GridSpec as GS\n",
    "import scipy.io as sio\n",
    "from copy import deepcopy as dc"
   ]
  },
  {
   "cell_type": "code",
   "execution_count": 4,
   "id": "6ed663f4-e900-4702-a4ab-3c18fcc7b9ba",
   "metadata": {},
   "outputs": [
    {
     "name": "stdout",
     "output_type": "stream",
     "text": [
      "working directory: /home/jupyter-lluecke/compile_proxy_database_v2.1\n"
     ]
    }
   ],
   "source": [
    "# set up working directory. \n",
    "# The default working directory should be the parent folder (compile_proxy_database) so we can access the 'helper' files \n",
    "# Make sure this is changing to the correct path!\n",
    "\n",
    "#wdir = '/home/jupyter-lluecke/compile_proxy_database_v2.0' # working directory, this should work, but doesn't seem to...\n",
    "if not os.getcwd().endswith('compile_proxy_database_v2.1'):\n",
    "    os.chdir(os.getcwd()+'/..')\n",
    "wdir = os.getcwd()\n",
    "print('working directory: '+wdir)\n",
    "import functions as f # contains functions for plotting "
   ]
  },
  {
   "cell_type": "code",
   "execution_count": 5,
   "id": "71fec8d0-c99e-4a07-b963-bddcf6d30550",
   "metadata": {},
   "outputs": [],
   "source": [
    "\n",
    "#%run -i functions.py'\n",
    "import functions as f # Lucie's functions\n"
   ]
  },
  {
   "cell_type": "markdown",
   "id": "6cda8410-e4d9-4ff9-a617-a44a7015bb85",
   "metadata": {},
   "source": [
    "# load the source data"
   ]
  },
  {
   "cell_type": "code",
   "execution_count": 6,
   "id": "4927e2d2-625d-4cfd-931f-48ca427b5930",
   "metadata": {},
   "outputs": [],
   "source": [
    "vars = ['chronos', 'lonlat', 'investigator', 'trwsSm', 'chronology', 'country', 'species', \n",
    "        'elevation', 'sitename', 'treetime']"
   ]
  },
  {
   "cell_type": "code",
   "execution_count": 7,
   "id": "2b1137f1-f45c-4436-a8fa-75bd09a25537",
   "metadata": {},
   "outputs": [],
   "source": [
    "# # download and unzip FE23 \n",
    "# !wget -nH -P fe23 https://www.ncei.noaa.gov/pub/data/paleo/contributions_by_author/franke2022/franke2022-fe23.nc\n",
    "# fe23_full  = xr.open_dataset('fe23/franke2022-fe23.nc')\n",
    "\n",
    "# # # save slice of FE23 with only relevant variables as netCDF (fe23_full is 25GB)\n",
    "# fe23_slice = fe23_full[['chronos', 'lonlat', 'investigator', 'trwsSm', 'chronology', 'country', 'species', \n",
    "#         'elevation', 'sitename', 'treetime']]\n",
    "# fe23_slice.to_netcdf('fe23/franke2022-fe23_slice.nc')"
   ]
  },
  {
   "cell_type": "code",
   "execution_count": 8,
   "id": "7964ef7c-eddd-4954-bdcc-d8e293973130",
   "metadata": {},
   "outputs": [],
   "source": [
    "fe23_slice = xr.open_dataset('fe23/franke2022-fe23_slice.nc')"
   ]
  },
  {
   "cell_type": "code",
   "execution_count": 9,
   "id": "dd5e6592-899f-41bf-b7cf-e1ecbb1a8949",
   "metadata": {},
   "outputs": [
    {
     "name": "stdout",
     "output_type": "stream",
     "text": [
      "<xarray.Dataset> Size: 58MB\n",
      "Dimensions:       (ttime: 1159, nseries: 278, nregion: 22, lonlat: 2,\n",
      "                   nchars_cinv: 42, nchars_chr: 32, nchars_ctry: 22,\n",
      "                   nchars_csp: 6, nchars_cn: 51)\n",
      "Coordinates:\n",
      "    lonlat        (nseries, nregion, lonlat) float64 98kB ...\n",
      "Dimensions without coordinates: ttime, nseries, nregion, nchars_cinv,\n",
      "                                nchars_chr, nchars_ctry, nchars_csp, nchars_cn\n",
      "Data variables:\n",
      "    chronos       (ttime, nseries, nregion) float64 57MB ...\n",
      "    investigator  (nchars_cinv, nseries, nregion) |S1 257kB ...\n",
      "    trwsSm        (nseries, nregion) float64 49kB ...\n",
      "    chronology    (nchars_chr, nseries, nregion) |S1 196kB ...\n",
      "    country       (nchars_ctry, nseries, nregion) |S1 135kB ...\n",
      "    species       (nchars_csp, nseries, nregion) |S1 37kB ...\n",
      "    elevation     (nseries, nregion) float64 49kB ...\n",
      "    sitename      (nchars_cn, nseries, nregion) |S1 312kB ...\n",
      "    treetime      (ttime) float64 9kB ...\n",
      "Attributes:\n",
      "    reference:      Franke, J; Evans, MN; Schurer, AP; Hegerl, GC, 2022, Clim...\n",
      "    doi:            https://doi.org/10.25921/8hpf-a451\n",
      "    creation_time:  27-Oct-2024 11:45:29\n"
     ]
    }
   ],
   "source": [
    "print(fe23_slice)"
   ]
  },
  {
   "cell_type": "code",
   "execution_count": 10,
   "id": "c0fb89c6-9175-4a91-b8d5-71eccc0087af",
   "metadata": {},
   "outputs": [
    {
     "name": "stdout",
     "output_type": "stream",
     "text": [
      "chronos\n",
      "lonlat\n",
      "investigator\n",
      "trwsSm\n",
      "chronology\n",
      "country\n",
      "species\n",
      "elevation\n",
      "sitename\n"
     ]
    }
   ],
   "source": [
    "df_fe23 = {}\n",
    "vars = ['chronos', 'lonlat', 'investigator', 'trwsSm', 'chronology', 'country', 'species', \n",
    "        'elevation', 'sitename']\n",
    "for var in vars:\n",
    "    print(var)\n",
    "    df_fe23[var] = []\n",
    "    for ii in fe23_slice.nregion:        # loop through the regions\n",
    "        fe23_slice[var] = np.squeeze(fe23_slice[var])\n",
    "        # print(fe23_full[var].shape)\n",
    "        for jj in fe23_slice.nseries:        # loop through the records in any one region\n",
    "            if var in ['chronos']:  data = fe23_slice[var][:, jj, ii].data\n",
    "            elif var in ['trwsSm', 'elevation']: data = float(fe23_slice[var][jj, ii].data)\n",
    "            elif var in ['lonlat', 'trwsSm']:    data = fe23_slice[var][jj, ii, :].data\n",
    "            elif var in ['investigator', 'chronology', 'country', 'species', 'sitename']:\n",
    "                data = b''.join([ss for ss in fe23_slice[var][:, jj, ii].data]).decode(\"latin-1\").replace(' ','')\n",
    "    \n",
    "            if ~np.all(np.isnan(fe23_slice['chronos'][:, jj, ii].data)):\n",
    "                df_fe23[var].append(data)\n",
    "# len(all_trees)\n"
   ]
  },
  {
   "cell_type": "markdown",
   "id": "7a69f415-88b2-4acf-b96b-06bda947ff25",
   "metadata": {},
   "source": [
    "# create compact dataframe"
   ]
  },
  {
   "cell_type": "code",
   "execution_count": 11,
   "id": "a847b152-7250-4c7c-81e6-6d47f579bdec",
   "metadata": {},
   "outputs": [],
   "source": [
    "df_compact = pd.DataFrame(columns=['archiveType', 'climateInterpretation_variable', 'dataSetName', 'datasetId', \n",
    "                                   'geo_meanElev', 'geo_meanLat', 'geo_meanLon', 'geo_siteName', \n",
    "                                   'originalDatabase', 'originalDataURL', 'paleoData_notes', 'paleoData_proxy', \n",
    "                                   'paleoData_units', 'paleoData_values', 'year', 'yearUnits'])"
   ]
  },
  {
   "cell_type": "code",
   "execution_count": 12,
   "id": "e2f07759-d4f7-4950-990b-95897573a47e",
   "metadata": {},
   "outputs": [],
   "source": [
    "df_compact['paleoData_values'] = df_fe23['chronos']\n",
    "df_compact['year']             = [fe23_slice.treetime.data for ii in range(len(df_compact))]"
   ]
  },
  {
   "cell_type": "code",
   "execution_count": 13,
   "id": "abd7b1ce-c443-4904-8cab-08640bfb1ba3",
   "metadata": {},
   "outputs": [],
   "source": [
    "for ii in df_compact.index:\n",
    "    dd=f.convert_to_nparray(df_compact.at[ii, 'paleoData_values'])\n",
    "    df_compact.at[ii, 'paleoData_values']=dd.data[~dd.mask]\n",
    "    df_compact.at[ii, 'year']=np.array(df_compact.at[ii, 'year'])[~dd.mask]"
   ]
  },
  {
   "cell_type": "code",
   "execution_count": 14,
   "id": "2535a572-8c70-4c5b-8d54-af524a02c7fb",
   "metadata": {},
   "outputs": [],
   "source": [
    "df_compact[['geo_meanLon', 'geo_meanLat']] = df_fe23['lonlat']\n",
    "df_compact['geo_meanElev']                 = df_fe23['elevation']"
   ]
  },
  {
   "cell_type": "code",
   "execution_count": 15,
   "id": "7024c4d0-067b-4972-b194-30776c1903d2",
   "metadata": {},
   "outputs": [],
   "source": [
    "df_compact['datasetId']   = df_fe23['chronology']\n",
    "df_compact['datasetId']   = df_compact['datasetId'].apply(lambda x: x.replace('.rwl',''))\n",
    "df_compact['dataSetName'] = df_compact['datasetId']\n",
    "df_compact['datasetId']   = df_compact['datasetId'].apply(lambda x: 'FE23_'+x)"
   ]
  },
  {
   "cell_type": "code",
   "execution_count": 16,
   "id": "bc2e049c-e34e-4597-a530-72d9b702e9bb",
   "metadata": {},
   "outputs": [],
   "source": [
    "url = 'https://www.ncei.noaa.gov/pub/data/paleo/treering/measurements/'\n",
    "df_compact['geo_siteName']            = df_fe23['sitename']\n",
    "df_compact['paleoData_sensorSpecies'] = df_fe23['species']\n",
    "df_compact['paleoData_notes']         = df_fe23['investigator']\n",
    "df_compact['paleoData_notes']         = df_compact['paleoData_notes'].apply(lambda x: 'Investigator: '+x)\n",
    "df_compact['originalDataURL']         = df_compact['dataSetName'].apply(lambda x: url+x.replace('_','/')+'.rwl')"
   ]
  },
  {
   "cell_type": "code",
   "execution_count": 17,
   "id": "7cbc53f9-bfe8-4143-8d73-a5bc3edc80eb",
   "metadata": {},
   "outputs": [],
   "source": [
    "df_compact['archiveType']      = 'tree' # fills called 'paleoData_variableName' \n",
    "df_compact['paleoData_proxy']  = 'TRW' # fills column called 'paleoData_variableName' \n",
    "df_compact['paleoData_units']  = 'standardized_anomalies' # fills column called 'paleoData_units' \n",
    "df_compact['originalDatabase'] = 'FE23 (Breitenmoser et al. (2014))' # fills column 'originalDatabase' \n",
    "df_compact['yearUnits']        = 'CE'  # fills column 'yearUnits'"
   ]
  },
  {
   "cell_type": "code",
   "execution_count": 18,
   "id": "b4ebc0f3-ce8e-4e7b-b71a-c3d6aa6fa84b",
   "metadata": {},
   "outputs": [],
   "source": [
    "TM = {1.:'temperature', 2.:'moisture', 3.:'temperature+moisture', 4.: 'NOT temperature NOT moisture', 0:'nan'}\n",
    "df_compact['climateInterpretation_variable'] = df_fe23['trwsSm']\n",
    "df_compact['climateInterpretation_variable'] = df_compact['climateInterpretation_variable'].apply(lambda x: TM[x] if ~np.isnan(x) else 'N/A')\n",
    "df_compact['climateInterpretation_variableDetail'] = 'N/A'"
   ]
  },
  {
   "cell_type": "code",
   "execution_count": 19,
   "id": "24001dcd-7fab-4014-a628-c8da7ef19c8f",
   "metadata": {},
   "outputs": [
    {
     "name": "stdout",
     "output_type": "stream",
     "text": [
      "[]\n"
     ]
    }
   ],
   "source": [
    "# mask nans and exclude from dataframe\n",
    "for ii in df_compact.index:\n",
    "    dd=f.convert_to_nparray(df_compact.at[ii, 'paleoData_values'])\n",
    "    df_compact.at[ii, 'paleoData_values']=dd.data[~dd.mask]\n",
    "    df_compact.at[ii, 'year']=df_compact.at[ii, 'year'][~dd.mask]\n",
    "    \n",
    "drop_inds = []\n",
    "for ii in range(df_compact.shape[0]):\n",
    "    if len(df_compact.iloc[ii]['year'])==0:\n",
    "        print('empty', ii, df_compact.iloc[ii]['year'], df_compact.iloc[ii]['originalDatabase'])\n",
    "        print(df_compact.iloc[ii]['paleoData_values'])\n",
    "        drop_inds += [df_compact.index[ii]]\n",
    "        \n",
    "for ii, row in enumerate(df_compact.paleoData_values):\n",
    "    if np.std(row)==0: \n",
    "        print(ii, 'std=0')\n",
    "    elif np.sum(np.diff(row)**2)==0: \n",
    "        print(ii, 'diff=0')\n",
    "    elif np.isnan(np.std(row)):\n",
    "        print(ii, 'std nan')\n",
    "    else:\n",
    "        continue\n",
    "    if df.index[ii] not in drop_inds: \n",
    "        drop_inds += [df_compact.index[ii]]\n",
    "    \n",
    "print(drop_inds)\n",
    "df_compact = df_compact.drop(index=drop_inds)"
   ]
  },
  {
   "cell_type": "code",
   "execution_count": 20,
   "id": "f2e54373-bb3e-4bf3-9eb4-386ab3cdb86c",
   "metadata": {},
   "outputs": [
    {
     "name": "stdout",
     "output_type": "stream",
     "text": [
      "2754\n",
      "2754\n"
     ]
    }
   ],
   "source": [
    "#  check that the datasetId is unique \n",
    "print(len(df_compact.datasetId.unique()))\n",
    "print(len(df_compact))"
   ]
  },
  {
   "cell_type": "markdown",
   "id": "52b48cbe-5fda-4097-82a6-736611aff849",
   "metadata": {},
   "source": [
    "## save compact dataframe"
   ]
  },
  {
   "cell_type": "markdown",
   "id": "1cc0753f-1d26-49f2-bad6-34aa1325b7e8",
   "metadata": {},
   "source": [
    "### save pickle"
   ]
  },
  {
   "cell_type": "code",
   "execution_count": 21,
   "id": "4fa4ce27-4629-4766-af9e-e4cf3b0d04c2",
   "metadata": {},
   "outputs": [],
   "source": [
    "# save to a pickle file (security: is it better to save to csv?)\n",
    "df_compact = df_compact[sorted(df_compact.columns)]\n",
    "df_compact.to_pickle('fe23/fe23_compact.pkl')"
   ]
  },
  {
   "cell_type": "markdown",
   "id": "5bd64e16-ff5a-4eb1-88db-74701191aa14",
   "metadata": {},
   "source": [
    "### save csv"
   ]
  },
  {
   "cell_type": "code",
   "execution_count": 22,
   "id": "cdf0fc06-7cf3-468f-a213-b96852353c08",
   "metadata": {},
   "outputs": [
    {
     "name": "stdout",
     "output_type": "stream",
     "text": [
      "METADATA: archiveType, climateInterpretation_variable, climateInterpretation_variableDetail, dataSetName, datasetId, geo_meanElev, geo_meanLat, geo_meanLon, geo_siteName, originalDataURL, originalDatabase, paleoData_notes, paleoData_proxy, paleoData_sensorSpecies, paleoData_units, yearUnits\n",
      "Saved to /home/jupyter-lluecke/compile_proxy_database_v2.1/fe23/fe23_compact_%s.csv\n"
     ]
    }
   ],
   "source": [
    "# save to a list of csv files (metadata, data, year)\n",
    "df_compact.name='fe23'\n",
    "f.write_compact_dataframe_to_csv(df_compact)"
   ]
  },
  {
   "cell_type": "code",
   "execution_count": 23,
   "id": "19a5e8b7-68f6-4642-9009-b439593ae98a",
   "metadata": {},
   "outputs": [
    {
     "name": "stdout",
     "output_type": "stream",
     "text": [
      "<class 'pandas.core.frame.DataFrame'>\n",
      "RangeIndex: 2754 entries, 0 to 2753\n",
      "Data columns (total 18 columns):\n",
      " #   Column                                Non-Null Count  Dtype  \n",
      "---  ------                                --------------  -----  \n",
      " 0   archiveType                           2754 non-null   object \n",
      " 1   climateInterpretation_variable        2754 non-null   object \n",
      " 2   climateInterpretation_variableDetail  2754 non-null   object \n",
      " 3   dataSetName                           2754 non-null   object \n",
      " 4   datasetId                             2754 non-null   object \n",
      " 5   geo_meanElev                          2710 non-null   float32\n",
      " 6   geo_meanLat                           2754 non-null   float32\n",
      " 7   geo_meanLon                           2754 non-null   float32\n",
      " 8   geo_siteName                          2754 non-null   object \n",
      " 9   originalDataURL                       2754 non-null   object \n",
      " 10  originalDatabase                      2754 non-null   object \n",
      " 11  paleoData_notes                       2754 non-null   object \n",
      " 12  paleoData_proxy                       2754 non-null   object \n",
      " 13  paleoData_sensorSpecies               2754 non-null   object \n",
      " 14  paleoData_units                       2754 non-null   object \n",
      " 15  paleoData_values                      2754 non-null   object \n",
      " 16  year                                  2754 non-null   object \n",
      " 17  yearUnits                             2754 non-null   object \n",
      "dtypes: float32(3), object(15)\n",
      "memory usage: 355.1+ KB\n"
     ]
    }
   ],
   "source": [
    "# load dataframe\n",
    "f.load_compact_dataframe_from_csv('fe23').info()"
   ]
  },
  {
   "cell_type": "markdown",
   "id": "73d48a4a-4797-4470-be9f-efb9351bbf02",
   "metadata": {},
   "source": [
    "# check output"
   ]
  },
  {
   "cell_type": "markdown",
   "id": "f94eddf1-b04e-473d-b3bc-db791e23f620",
   "metadata": {},
   "source": [
    "## dataset metadata: dataSetName, datasetId, originalDataURL, originalDatabase"
   ]
  },
  {
   "cell_type": "markdown",
   "id": "6a3bc98c-4e22-4795-a716-3d8f06c7abc4",
   "metadata": {},
   "source": [
    "### index"
   ]
  },
  {
   "cell_type": "code",
   "execution_count": 24,
   "id": "ee7d8c62-9b84-4c79-b41e-93e062f8fba2",
   "metadata": {},
   "outputs": [
    {
     "name": "stdout",
     "output_type": "stream",
     "text": [
      "RangeIndex(start=0, stop=2754, step=1)\n"
     ]
    }
   ],
   "source": [
    "# # check index\n",
    "print(df_compact.index)"
   ]
  },
  {
   "cell_type": "markdown",
   "id": "6b7abe92-5f9d-4c45-9fe2-db16cb5931ed",
   "metadata": {},
   "source": [
    "### dataSetName"
   ]
  },
  {
   "cell_type": "code",
   "execution_count": 25,
   "id": "09422637-f66d-46b9-9408-d6cb1cb90d18",
   "metadata": {},
   "outputs": [
    {
     "name": "stdout",
     "output_type": "stream",
     "text": [
      "dataSetName: \n",
      "['africa_keny001' 'africa_keny002' 'africa_morc001' ...\n",
      " 'northamerica_usa_wy034' 'northamerica_usa_wy035'\n",
      " 'northamerica_usa_wy036']\n"
     ]
    }
   ],
   "source": [
    "# # check dataSetName\n",
    "key = 'dataSetName'\n",
    "print('%s: '%key)\n",
    "print(df_compact[key].values)"
   ]
  },
  {
   "cell_type": "markdown",
   "id": "6d473c0d-b64c-4ebf-b7f7-cb8dee89bd83",
   "metadata": {},
   "source": [
    "### datasetId"
   ]
  },
  {
   "cell_type": "code",
   "execution_count": 26,
   "id": "712d5f10-4b3b-4a93-a008-95f99a938cb5",
   "metadata": {},
   "outputs": [
    {
     "name": "stdout",
     "output_type": "stream",
     "text": [
      "2754\n",
      "2754\n",
      "datasetId (starts with): \n",
      "['FE23_africa_keny001' 'FE23_africa_keny002' 'FE23_africa_morc001' ...\n",
      " 'FE23_northamerica_usa_wy034' 'FE23_northamerica_usa_wy035'\n",
      " 'FE23_northamerica_usa_wy036']\n"
     ]
    }
   ],
   "source": [
    "# # check datasetId\n",
    "\n",
    "print(len(df_compact.datasetId.unique()))\n",
    "print(len(df_compact))\n",
    "key = 'datasetId'\n",
    "print('%s (starts with): '%key)\n",
    "print(df_compact[key].values)"
   ]
  },
  {
   "cell_type": "markdown",
   "id": "26fff46a-b592-4d7b-a226-6de47e372aee",
   "metadata": {},
   "source": [
    "### originalDataURL"
   ]
  },
  {
   "cell_type": "code",
   "execution_count": 27,
   "id": "7ce63a09-cb9f-4791-80ca-5b87416f3d5d",
   "metadata": {},
   "outputs": [
    {
     "name": "stdout",
     "output_type": "stream",
     "text": [
      "originalDataURL: \n",
      "['https://www.ncei.noaa.gov/pub/data/paleo/treering/measurements/africa/keny001.rwl'\n",
      " 'https://www.ncei.noaa.gov/pub/data/paleo/treering/measurements/africa/keny002.rwl'\n",
      " 'https://www.ncei.noaa.gov/pub/data/paleo/treering/measurements/africa/morc001.rwl'\n",
      " ...\n",
      " 'https://www.ncei.noaa.gov/pub/data/paleo/treering/measurements/southamerica/chil016.rwl'\n",
      " 'https://www.ncei.noaa.gov/pub/data/paleo/treering/measurements/southamerica/chil017.rwl'\n",
      " 'https://www.ncei.noaa.gov/pub/data/paleo/treering/measurements/southamerica/chil018.rwl']\n"
     ]
    }
   ],
   "source": [
    "# originalDataURL\n",
    "key = 'originalDataURL'\n",
    "print('%s: '%key)\n",
    "print(np.sort(np.unique([kk for kk in df_compact[key]])))\n",
    "# 'this study' should point to the correct URL (PAGES2k)"
   ]
  },
  {
   "cell_type": "markdown",
   "id": "84c895fb-444c-4fd5-89d9-4f1e4bb0ba4c",
   "metadata": {},
   "source": [
    "### originalDatabase"
   ]
  },
  {
   "cell_type": "code",
   "execution_count": 28,
   "id": "9a585c54-f237-4fbe-812f-699ac7ebb74c",
   "metadata": {},
   "outputs": [
    {
     "name": "stdout",
     "output_type": "stream",
     "text": [
      "originalDatabase: \n",
      "['FE23 (Breitenmoser et al. (2014))']\n"
     ]
    }
   ],
   "source": [
    "# # originalDataSet\n",
    "key = 'originalDatabase'\n",
    "print('%s: '%key)\n",
    "print(np.unique([kk for kk in df_compact[key]]))\n",
    "# Note: the last two records have missing URLs"
   ]
  },
  {
   "cell_type": "markdown",
   "id": "74c35651-1160-4133-b2e8-4fca70b153f4",
   "metadata": {},
   "source": [
    "## geographical metadata: elevation, latitude, longitude, site name"
   ]
  },
  {
   "cell_type": "markdown",
   "id": "d8533efd-a542-4d91-bf22-ffa574f29042",
   "metadata": {},
   "source": [
    "### geo_meanElev"
   ]
  },
  {
   "cell_type": "code",
   "execution_count": 29,
   "id": "d26f6f67-e348-4828-a857-801235aaf59d",
   "metadata": {},
   "outputs": [
    {
     "name": "stdout",
     "output_type": "stream",
     "text": [
      "geo_meanElev: \n",
      "0       2010.0\n",
      "1       2010.0\n",
      "2       2200.0\n",
      "3       1700.0\n",
      "4       2200.0\n",
      "         ...  \n",
      "2749    2500.0\n",
      "2750    2542.0\n",
      "2751    1319.0\n",
      "2752    2400.0\n",
      "2753    2378.0\n",
      "Name: geo_meanElev, Length: 2754, dtype: float64\n",
      "['0' '1' '10' '100' '1000' '1002' '1005' '1006' '101' '1010' '1020' '1030'\n",
      " '1036' '1040' '1047' '105' '1050' '1051' '1052' '1055' '1060' '1065'\n",
      " '1067' '107' '1070' '1071' '1075' '108' '1080' '1085' '109' '1090' '1095'\n",
      " '1097' '110' '1100' '111' '1110' '1120' '1128' '1130' '1132' '1140'\n",
      " '1146' '115' '1150' '1155' '1156' '1158' '116' '1160' '1167' '1169'\n",
      " '1170' '1175' '1180' '1194' '12' '120' '1200' '1201' '1206' '1208' '1219'\n",
      " '1220' '1224' '1225' '1230' '1231' '1234' '1235' '1237' '1240' '1250'\n",
      " '1253' '126' '1260' '1270' '1275' '1280' '1285' '13' '130' '1300' '1302'\n",
      " '131' '1310' '1311' '1315' '1317' '1319' '1320' '1325' '1330' '1340'\n",
      " '135' '1350' '1354' '136' '1360' '1366' '1367' '1370' '1372' '1375'\n",
      " '1377' '138' '1380' '1385' '1390' '1391' '1392' '1395' '14' '140' '1400'\n",
      " '1402' '1405' '1410' '1415' '1417' '1418' '1420' '1425' '143' '1432'\n",
      " '1433' '1436' '1440' '1448' '145' '1450' '1460' '1463' '1464' '1465'\n",
      " '1468' '1469' '1470' '1474' '1475' '1480' '149' '1490' '1493' '1494'\n",
      " '1495' '15' '150' '1500' '1510' '152' '1520' '1524' '1525' '153' '1530'\n",
      " '1531' '1540' '1545' '1550' '1555' '1560' '1565' '1570' '1580' '1585'\n",
      " '1586' '1595' '1596' '1598' '16' '160' '1600' '1601' '1620' '1625' '1630'\n",
      " '1633' '164' '1640' '1644' '1645' '165' '1650' '1656' '1658' '1660'\n",
      " '1670' '1675' '1676' '168' '1680' '1682' '1690' '1694' '17' '170' '1700'\n",
      " '1701' '1706' '1707' '1710' '1720' '1722' '1723' '1725' '1731' '1735'\n",
      " '1737' '1740' '175' '1750' '1755' '1760' '1767' '1768' '1770' '1772'\n",
      " '1775' '1780' '1785' '1790' '1793' '1798' '18' '180' '1800' '1803' '1804'\n",
      " '1811' '1817' '182' '1820' '1825' '1828' '1829' '183' '1830' '1840'\n",
      " '1841' '1848' '185' '1850' '1852' '1853' '1859' '1860' '1862' '1870'\n",
      " '1875' '188' '1889' '189' '1890' '19' '190' '1900' '1905' '191' '1910'\n",
      " '192' '1920' '1921' '1922' '1925' '1938' '194' '1940' '1942' '1945' '195'\n",
      " '1950' '1951' '1958' '1960' '1965' '1966' '1969' '197' '1970' '1975'\n",
      " '1980' '1981' '199' '1996' '2' '20' '200' '2000' '2002' '2004' '201'\n",
      " '2010' '2011' '2012' '2013' '2020' '2024' '2027' '2030' '2042' '205'\n",
      " '2050' '2057' '2060' '2065' '207' '2070' '2072' '2073' '2075' '208'\n",
      " '2080' '2084' '2085' '209' '2090' '2097' '2098' '210' '2100' '2103' '211'\n",
      " '2115' '2118' '2121' '213' '2130' '2133' '2134' '214' '2140' '2142' '215'\n",
      " '2150' '2160' '2164' '2165' '217' '2170' '2179' '218' '2180' '2185'\n",
      " '2187' '2194' '2195' '2196' '220' '2200' '2210' '2215' '2225' '2229'\n",
      " '223' '2242' '225' '2250' '2255' '2256' '2265' '2268' '2270' '2271'\n",
      " '2272' '228' '2280' '2284' '2286' '2289' '229' '2290' '230' '2300' '2301'\n",
      " '2310' '2316' '232' '2320' '2323' '233' '2332' '2333' '2346' '2347' '235'\n",
      " '2350' '2362' '2370' '2375' '2377' '2378' '2380' '2385' '239' '2392'\n",
      " '2393' '2394' '24' '240' '2400' '2407' '2408' '2417' '2420' '2423' '243'\n",
      " '2438' '244' '2441' '245' '246' '2460' '2465' '2469' '2475' '2484' '2498'\n",
      " '2499' '25' '250' '2500' '251' '2514' '2515' '2530' '2535' '2542' '2550'\n",
      " '2560' '257' '258' '2580' '259' '2590' '2591' '2592' '26' '260' '2600'\n",
      " '2605' '2615' '262' '2621' '2626' '2630' '2636' '2637' '2641' '2645'\n",
      " '2650' '2651' '2652' '2658' '267' '2670' '2682' '2688' '2690' '2696'\n",
      " '2697' '27' '270' '2700' '2713' '2727' '2730' '2731' '274' '2740' '2741'\n",
      " '2743' '2745' '2746' '275' '2750' '2755' '2760' '2774' '2790' '280'\n",
      " '2800' '2804' '2805' '2816' '282' '2820' '2828' '2835' '285' '2850'\n",
      " '2865' '2877' '2880' '2890' '2894' '2895' '2896' '290' '2900' '291'\n",
      " '2925' '2926' '2930' '2940' '295' '2950' '2956' '2960' '297' '2970'\n",
      " '2987' '2990' '3' '30' '300' '3000' '3017' '3020' '3025' '3033' '3048'\n",
      " '305' '3050' '3065' '307' '308' '3095' '310' '3100' '3110' '3113' '3115'\n",
      " '3120' '3125' '314' '3140' '315' '3150' '3154' '317' '3170' '3190' '320'\n",
      " '3200' '3208' '321' '3218' '3220' '3221' '3230' '3235' '325' '3250'\n",
      " '3261' '3276' '329' '3290' '3291' '330' '3300' '3320' '3330' '335' '3352'\n",
      " '3353' '3370' '3378' '339' '340' '3400' '3413' '3415' '342' '3420' '3425'\n",
      " '345' '3450' '3470' '3475' '3480' '35' '350' '3500' '3505' '3519' '3535'\n",
      " '3536' '354' '355' '3570' '360' '3600' '362' '3630' '366' '3660' '3688'\n",
      " '370' '3700' '3719' '3720' '3740' '375' '376' '378' '38' '380' '3800'\n",
      " '381' '384' '385' '387' '390' '392' '395' '396' '40' '400' '401' '402'\n",
      " '405' '408' '410' '411' '413' '420' '421' '424' '425' '426' '427' '43'\n",
      " '430' '438' '44' '440' '442' '443' '445' '45' '450' '455' '457' '459'\n",
      " '46' '460' '465' '468' '469' '47' '470' '475' '480' '482' '490' '493'\n",
      " '494' '5' '50' '500' '501' '503' '510' '512' '518' '520' '523' '525' '53'\n",
      " '530' '535' '540' '55' '550' '555' '558' '56' '560' '564' '570' '575'\n",
      " '576' '579' '580' '582' '590' '597' '6' '60' '600' '607' '61' '610' '611'\n",
      " '612' '620' '625' '63' '630' '631' '64' '640' '645' '646' '65' '650'\n",
      " '658' '660' '67' '670' '672' '675' '68' '680' '690' '7' '70' '700' '701'\n",
      " '705' '710' '715' '716' '720' '725' '730' '731' '738' '74' '740' '745'\n",
      " '747' '75' '750' '755' '76' '762' '765' '77' '770' '775' '78' '780' '785'\n",
      " '790' '792' '798' '8' '80' '800' '803' '805' '808' '810' '820' '822'\n",
      " '823' '825' '830' '838' '840' '85' '850' '853' '854' '860' '867' '87'\n",
      " '870' '872' '875' '880' '884' '89' '890' '9' '90' '900' '910' '914' '915'\n",
      " '918' '920' '923' '925' '929' '930' '940' '945' '95' '950' '952' '960'\n",
      " '967' '970' '975' '976' '980' '988' '99' '990' '991' '994' '995']\n"
     ]
    }
   ],
   "source": [
    "# check Elevation\n",
    "key = 'geo_meanElev'\n",
    "print('%s: '%key)\n",
    "print(df_compact[key])\n",
    "print(np.unique(['%d'%kk for kk in df_compact[key] if np.isfinite(kk)]))"
   ]
  },
  {
   "cell_type": "markdown",
   "id": "00aa18f1-c04f-404a-9bf2-6b140228818f",
   "metadata": {},
   "source": [
    "### geo_meanLat"
   ]
  },
  {
   "cell_type": "code",
   "execution_count": 30,
   "id": "d302d8ee-1992-4562-ada3-96d2ed4b3957",
   "metadata": {},
   "outputs": [
    {
     "name": "stdout",
     "output_type": "stream",
     "text": [
      "geo_meanLat: \n",
      "['-18' '-22' '-23' '-24' '-25' '-26' '-27' '-31' '-32' '-33' '-34' '-35'\n",
      " '-36' '-37' '-38' '-39' '-40' '-41' '-42' '-43' '-44' '-45' '-46' '-50'\n",
      " '-53' '-54' '-7' '0' '16' '17' '19' '20' '21' '23' '24' '25' '26' '27'\n",
      " '28' '29' '30' '31' '32' '33' '34' '35' '36' '37' '38' '39' '40' '41'\n",
      " '42' '43' '44' '45' '46' '47' '48' '49' '50' '51' '52' '53' '54' '55'\n",
      " '56' '57' '58' '59' '60' '61' '62' '63' '64' '65' '66' '67' '68' '69'\n",
      " '70' '71' '72']\n"
     ]
    }
   ],
   "source": [
    "# # Latitude\n",
    "key = 'geo_meanLat'\n",
    "print('%s: '%key)\n",
    "print(np.unique(['%d'%kk for kk in df_compact[key]]))"
   ]
  },
  {
   "cell_type": "markdown",
   "id": "6ea4e97f-ec57-4233-a1e6-1f4b8ffe7e51",
   "metadata": {},
   "source": [
    "### geo_meanLon"
   ]
  },
  {
   "cell_type": "code",
   "execution_count": 31,
   "id": "343aa471-70fb-46a5-8394-eb67a2742455",
   "metadata": {},
   "outputs": [
    {
     "name": "stdout",
     "output_type": "stream",
     "text": [
      "geo_meanLon: \n",
      "['-1' '-100' '-101' '-102' '-103' '-104' '-105' '-106' '-107' '-108'\n",
      " '-109' '-110' '-111' '-112' '-113' '-114' '-115' '-116' '-117' '-118'\n",
      " '-119' '-120' '-121' '-122' '-123' '-124' '-125' '-126' '-127' '-128'\n",
      " '-129' '-130' '-133' '-134' '-135' '-136' '-137' '-138' '-139' '-140'\n",
      " '-141' '-142' '-143' '-144' '-145' '-146' '-147' '-148' '-149' '-150'\n",
      " '-151' '-152' '-153' '-154' '-159' '-162' '-163' '-2' '-3' '-4' '-5'\n",
      " '-58' '-6' '-61' '-62' '-63' '-64' '-65' '-66' '-67' '-68' '-69' '-7'\n",
      " '-70' '-71' '-72' '-73' '-74' '-75' '-76' '-77' '-78' '-79' '-8' '-80'\n",
      " '-81' '-82' '-83' '-84' '-85' '-86' '-87' '-88' '-89' '-9' '-90' '-91'\n",
      " '-92' '-93' '-94' '-95' '-96' '-97' '-98' '-99' '0' '1' '10' '100' '101'\n",
      " '103' '104' '105' '106' '107' '109' '11' '110' '111' '112' '114' '115'\n",
      " '117' '118' '119' '12' '122' '125' '127' '128' '129' '13' '130' '132'\n",
      " '133' '136' '137' '138' '14' '141' '142' '143' '145' '146' '147' '148'\n",
      " '149' '15' '150' '151' '153' '154' '155' '158' '159' '16' '160' '163'\n",
      " '165' '167' '168' '169' '17' '170' '171' '172' '173' '174' '175' '176'\n",
      " '177' '18' '19' '2' '20' '21' '22' '23' '24' '25' '26' '27' '28' '29'\n",
      " '30' '31' '32' '33' '34' '35' '36' '37' '4' '41' '42' '43' '44' '45' '5'\n",
      " '50' '51' '53' '56' '57' '58' '59' '6' '60' '64' '65' '69' '7' '71' '72'\n",
      " '74' '75' '76' '77' '78' '79' '8' '80' '81' '82' '83' '84' '85' '86' '87'\n",
      " '88' '89' '9' '90' '91' '93' '94' '95' '97' '98' '99']\n"
     ]
    }
   ],
   "source": [
    "# # Longitude \n",
    "key = 'geo_meanLon'\n",
    "print('%s: '%key)\n",
    "print(np.unique(['%d'%kk for kk in df_compact[key]]))"
   ]
  },
  {
   "cell_type": "markdown",
   "id": "6839b709-c2a5-476f-b0ff-e032e3af9325",
   "metadata": {},
   "source": [
    "### geo_siteName"
   ]
  },
  {
   "cell_type": "code",
   "execution_count": 32,
   "id": "d42a7ab7-9463-430a-b1d8-21036f653fd7",
   "metadata": {},
   "outputs": [
    {
     "name": "stdout",
     "output_type": "stream",
     "text": [
      "geo_siteName: \n",
      "['RagatiForestStationNyeriDistrict' 'RagatiForestStationNyeriDistrict'\n",
      " 'Tounfite' ... 'DevilsTowerNationalMonument' 'CookingHillside'\n",
      " 'KretecVale']\n"
     ]
    }
   ],
   "source": [
    "# Site Name \n",
    "key = 'geo_siteName'\n",
    "print('%s: '%key)\n",
    "print(df_compact[key].values)"
   ]
  },
  {
   "cell_type": "markdown",
   "id": "b55c1033-4852-4002-9b7f-b0f2484f6337",
   "metadata": {},
   "source": [
    "## proxy metadata: archive type, proxy type, interpretation"
   ]
  },
  {
   "cell_type": "markdown",
   "id": "72959fe8-1fdc-48d0-8fb1-a68c48366065",
   "metadata": {},
   "source": [
    "### archiveType"
   ]
  },
  {
   "cell_type": "code",
   "execution_count": 33,
   "id": "52b44c8e-7584-40b8-85af-a7e60cd1dfe8",
   "metadata": {},
   "outputs": [
    {
     "name": "stdout",
     "output_type": "stream",
     "text": [
      "archiveType: \n",
      "['tree']\n"
     ]
    }
   ],
   "source": [
    "# now check all the entries bit by bit (can be omitted at a later stage)\n",
    "\n",
    "# archiveType\n",
    "key = 'archiveType'\n",
    "print('%s: '%key)\n",
    "print(np.unique(df_compact[key]))"
   ]
  },
  {
   "cell_type": "markdown",
   "id": "1c0caf7a-3d88-40e4-a768-8a7fe85c4262",
   "metadata": {},
   "source": [
    "### paleoData_proxy"
   ]
  },
  {
   "cell_type": "code",
   "execution_count": 34,
   "id": "b65a7db7-08c8-4dad-ab0c-9eb472b29a3c",
   "metadata": {},
   "outputs": [
    {
     "name": "stdout",
     "output_type": "stream",
     "text": [
      "paleoData_proxy: \n",
      "['TRW']\n"
     ]
    }
   ],
   "source": [
    "# paleoData_proxy\n",
    "key = 'paleoData_proxy'\n",
    "print('%s: '%key)\n",
    "print(np.unique([kk for kk in df_compact[key]]))"
   ]
  },
  {
   "cell_type": "markdown",
   "id": "47320577-21c6-448a-8dfd-e9983a598d11",
   "metadata": {},
   "source": [
    "### paleoData_notes"
   ]
  },
  {
   "cell_type": "code",
   "execution_count": 35,
   "id": "1559315e-1b71-4a60-aa07-015732a4d69a",
   "metadata": {
    "jupyter": {
     "source_hidden": true
    }
   },
   "outputs": [
    {
     "name": "stdout",
     "output_type": "stream",
     "text": [
      "paleoData_notes: \n",
      "['Investigator: Stahle' 'Investigator: Stahle' 'Investigator: Stockton'\n",
      " ... 'Investigator: Stambaugh' 'Investigator: King' 'Investigator: King']\n"
     ]
    }
   ],
   "source": [
    "# # paleoData_notes\n",
    "key = 'paleoData_notes'\n",
    "print('%s: '%key)\n",
    "print(df_compact[key].values)"
   ]
  },
  {
   "cell_type": "markdown",
   "id": "2645201f-2f56-4c65-a011-fa4598ea29bf",
   "metadata": {},
   "source": [
    "### climateInterpretation_variable"
   ]
  },
  {
   "cell_type": "code",
   "execution_count": 36,
   "id": "f2323c20-9e71-4c73-8bde-d784746999a6",
   "metadata": {
    "scrolled": true
   },
   "outputs": [
    {
     "name": "stdout",
     "output_type": "stream",
     "text": [
      "climateInterpretation_variable: \n",
      "['N/A' 'NOT temperature NOT moisture' 'moisture' 'temperature'\n",
      " 'temperature+moisture']\n"
     ]
    }
   ],
   "source": [
    "# climate_interpretation\n",
    "key = 'climateInterpretation_variable'\n",
    "print('%s: '%key)\n",
    "print(np.unique([kk for kk in df_compact[key]]))\n"
   ]
  },
  {
   "cell_type": "markdown",
   "id": "95c01178-a6e5-417b-a66d-5018f19f5441",
   "metadata": {},
   "source": [
    "### climateInterpretation_variableDetail"
   ]
  },
  {
   "cell_type": "code",
   "execution_count": 37,
   "id": "32b37484-1bf7-442c-b254-c93c24c744db",
   "metadata": {},
   "outputs": [
    {
     "name": "stdout",
     "output_type": "stream",
     "text": [
      "climateInterpretation_variableDetail: \n",
      "['N/A']\n"
     ]
    }
   ],
   "source": [
    "# climate_interpretation\n",
    "key = 'climateInterpretation_variableDetail'\n",
    "print('%s: '%key)\n",
    "print(np.unique([kk for kk in df_compact[key]]))\n"
   ]
  },
  {
   "cell_type": "markdown",
   "id": "885bf3f3-4d70-4ffe-8366-5579f74cd52f",
   "metadata": {},
   "source": [
    "### paleoData_sensorSpecies"
   ]
  },
  {
   "cell_type": "code",
   "execution_count": 38,
   "id": "c57fe627-1a0e-44c5-9b1c-537f9c017006",
   "metadata": {},
   "outputs": [
    {
     "name": "stdout",
     "output_type": "stream",
     "text": [
      "paleoData_sensorSpecies: \n",
      "['ABAL' 'ABAM' 'ABBA' 'ABBO' 'ABCE' 'ABCI' 'ABCO' 'ABLA' 'ABMA' 'ABPI'\n",
      " 'ABPN' 'ABPR' 'ABSB' 'ABSP' 'ACRU' 'ACSH' 'ADHO' 'ADUS' 'AGAU' 'ARAR'\n",
      " 'ATCU' 'ATSE' 'AUCH' 'BEPU' 'CABU' 'CADE' 'CADN' 'CARO' 'CDAT' 'CDBR'\n",
      " 'CDDE' 'CDLI' 'CEAN' 'CESP' 'CHLA' 'CHNO' 'DABI' 'DACO' 'FAGR' 'FASY'\n",
      " 'FICU' 'FRNI' 'HABI' 'JGAU' 'JUEX' 'JUFO' 'JUOC' 'JUPH' 'JUPR' 'JURE'\n",
      " 'JUSC' 'JUSP' 'JUVI' 'LADE' 'LAGM' 'LALA' 'LALY' 'LAOC' 'LASI' 'LGFR'\n",
      " 'LIBI' 'LITU' 'NOBE' 'NOGU' 'NOME' 'NOPU' 'NOSO' 'PCAB' 'PCEN' 'PCGL'\n",
      " 'PCGN' 'PCMA' 'PCOB' 'PCOM' 'PCPU' 'PCRU' 'PCSH' 'PCSI' 'PCSM' 'PCSP'\n",
      " 'PHAL' 'PHAS' 'PHGL' 'PHTR' 'PIAL' 'PIAM' 'PIAR' 'PIBA' 'PIBN' 'PIBR'\n",
      " 'PICE' 'PICL' 'PICO' 'PIEC' 'PIED' 'PIFL' 'PIHA' 'PIHR' 'PIJE' 'PIKO'\n",
      " 'PILA' 'PILE' 'PILO' 'PIMO' 'PIMU' 'PIMZ' 'PINI' 'PIPA' 'PIPE' 'PIPI'\n",
      " 'PIPN' 'PIPO' 'PIPU' 'PIRE' 'PIRI' 'PIRO' 'PISF' 'PISI' 'PISP' 'PIST'\n",
      " 'PISY' 'PITA' 'PITO' 'PIUN' 'PIVI' 'PIWA' 'PLRA' 'PLUV' 'PPDE' 'PPSP'\n",
      " 'PRMA' 'PSMA' 'PSME' 'PTAN' 'QUAL' 'QUDG' 'QUFR' 'QUHA' 'QUKE' 'QULO'\n",
      " 'QULY' 'QUMA' 'QUMC' 'QUPE' 'QUPR' 'QURO' 'QURU' 'QUSP' 'QUST' 'QUVE'\n",
      " 'TABA' 'TADI' 'TAMU' 'TEGR' 'THOC' 'THPL' 'TSCA' 'TSCR' 'TSDU' 'TSHE'\n",
      " 'TSME' 'ULSP' 'VIKE' 'WICE']\n"
     ]
    }
   ],
   "source": [
    "# climate_interpretation\n",
    "key = 'paleoData_sensorSpecies'\n",
    "print('%s: '%key)\n",
    "print(np.unique([kk for kk in df_compact[key]]))\n"
   ]
  },
  {
   "cell_type": "markdown",
   "id": "cb147f47-33f0-4ec5-ba96-2838ed22b87c",
   "metadata": {},
   "source": [
    "## data "
   ]
  },
  {
   "cell_type": "markdown",
   "id": "88b84cf2-0bb5-4160-8c29-c18b818530a2",
   "metadata": {},
   "source": [
    "### paleoData_units"
   ]
  },
  {
   "cell_type": "code",
   "execution_count": 39,
   "id": "d129887c-0e1b-4fc7-ade5-1d820f87c1c6",
   "metadata": {},
   "outputs": [
    {
     "name": "stdout",
     "output_type": "stream",
     "text": [
      "paleoData_units: \n",
      "['standardized_anomalies']\n"
     ]
    }
   ],
   "source": [
    "# paleoData_units\n",
    "key = 'paleoData_units'\n",
    "print('%s: '%key)\n",
    "print(np.unique([kk for kk in df_compact[key]]))"
   ]
  },
  {
   "cell_type": "markdown",
   "id": "5ec9d639-bd4a-4a00-98b1-3b567d9b6bba",
   "metadata": {},
   "source": [
    "### paleoData_values"
   ]
  },
  {
   "cell_type": "code",
   "execution_count": 40,
   "id": "e235c798-6838-4db5-892f-efbc1c275a7c",
   "metadata": {},
   "outputs": [
    {
     "name": "stdout",
     "output_type": "stream",
     "text": [
      "paleoData_values: \n",
      "africa_keny001                : 0.4 -- 1.423\n",
      "<class 'numpy.ndarray'>\n",
      "africa_keny002                : 0.499 -- 1.631\n",
      "<class 'numpy.ndarray'>\n",
      "africa_morc001                : -0.014 -- 2.226\n",
      "<class 'numpy.ndarray'>\n",
      "africa_morc002                : 0.323 -- 1.587\n",
      "<class 'numpy.ndarray'>\n",
      "africa_morc003                : 0.004 -- 1.617\n",
      "<class 'numpy.ndarray'>\n",
      "africa_morc011                : 0.005 -- 2.094\n",
      "<class 'numpy.ndarray'>\n",
      "africa_morc012                : 0.435 -- 1.866\n",
      "<class 'numpy.ndarray'>\n",
      "africa_morc013                : 0.166 -- 1.389\n",
      "<class 'numpy.ndarray'>\n",
      "africa_morc014                : -0.025 -- 2.012\n",
      "<class 'numpy.ndarray'>\n",
      "africa_safr001                : 0.485 -- 2.129\n",
      "<class 'numpy.ndarray'>\n",
      "africa_zimb001                : 0.15 -- 2.415\n",
      "<class 'numpy.ndarray'>\n",
      "africa_zimb002                : 0.178 -- 2.044\n",
      "<class 'numpy.ndarray'>\n",
      "africa_zimb003                : 0.24 -- 2.701\n",
      "<class 'numpy.ndarray'>\n",
      "southamerica_arge             : 0.161 -- 1.867\n",
      "<class 'numpy.ndarray'>\n",
      "southamerica_arge001          : 0.336 -- 2.362\n",
      "<class 'numpy.ndarray'>\n",
      "southamerica_arge002          : 0.478 -- 1.815\n",
      "<class 'numpy.ndarray'>\n",
      "southamerica_arge004          : 0.508 -- 1.714\n",
      "<class 'numpy.ndarray'>\n",
      "southamerica_arge005          : 0.313 -- 1.563\n",
      "<class 'numpy.ndarray'>\n",
      "southamerica_arge006          : 0.203 -- 1.791\n",
      "<class 'numpy.ndarray'>\n",
      "southamerica_arge007          : 0.368 -- 1.652\n",
      "<class 'numpy.ndarray'>\n"
     ]
    }
   ],
   "source": [
    "# # paleoData_values\n",
    "key = 'paleoData_values'\n",
    "\n",
    "print('%s: '%key)\n",
    "for ii, vv in enumerate(df_compact[key][:20]):\n",
    "    try: \n",
    "        print('%-30s: %s -- %s'%(df_compact['dataSetName'].iloc[ii][:30], str(np.nanmin(vv)), str(np.nanmax(vv))))\n",
    "        print(type(vv))\n",
    "    except: print(df_compact['dataSetName'].iloc[ii], 'NaNs detected.')"
   ]
  },
  {
   "cell_type": "markdown",
   "id": "e75fbbc4-c1cd-4cd4-9668-f70a4e6d2ce2",
   "metadata": {},
   "source": [
    "### year"
   ]
  },
  {
   "cell_type": "code",
   "execution_count": 41,
   "id": "5635727e-45ba-4e58-be6e-a165ac8506f8",
   "metadata": {},
   "outputs": [
    {
     "name": "stdout",
     "output_type": "stream",
     "text": [
      "year: \n",
      "africa_keny001                : 1944.0 -- 1993.0\n",
      "africa_keny002                : 1950.0 -- 1994.0\n",
      "africa_morc001                : 1360.0 -- 1983.0\n",
      "africa_morc002                : 1686.0 -- 1984.0\n",
      "africa_morc003                : 1755.0 -- 1984.0\n",
      "africa_morc011                : 1598.0 -- 1984.0\n",
      "africa_morc012                : 1813.0 -- 1984.0\n",
      "africa_morc013                : 1854.0 -- 1984.0\n",
      "africa_morc014                : 1200.0 -- 1984.0\n",
      "africa_safr001                : 1665.0 -- 1976.0\n",
      "africa_zimb001                : 1925.0 -- 1994.0\n",
      "africa_zimb002                : 1877.0 -- 1997.0\n",
      "africa_zimb003                : 1880.0 -- 1996.0\n",
      "southamerica_arge             : 1900.0 -- 1974.0\n",
      "southamerica_arge001          : 1605.0 -- 1974.0\n",
      "southamerica_arge002          : 1800.0 -- 1974.0\n",
      "southamerica_arge004          : 1532.0 -- 1974.0\n",
      "southamerica_arge005          : 1641.0 -- 1974.0\n",
      "southamerica_arge006          : 1449.0 -- 1974.0\n",
      "southamerica_arge007          : 1579.0 -- 1974.0\n"
     ]
    }
   ],
   "source": [
    "# # year\n",
    "key = 'year'\n",
    "print('%s: '%key)\n",
    "for ii, vv in enumerate(df_compact[key][:20]):\n",
    "    try: print('%-30s: %s -- %s'%(df_compact['dataSetName'].iloc[ii][:30], str(np.nanmin(vv)), str(np.nanmax(vv))))\n",
    "    except: print('NaNs detected.', vv)"
   ]
  },
  {
   "cell_type": "markdown",
   "id": "7b56822b-f733-4d00-840e-f87f0b3dfe35",
   "metadata": {},
   "source": [
    "### yearUnits"
   ]
  },
  {
   "cell_type": "code",
   "execution_count": 42,
   "id": "ce1f995d-759f-41f5-8f17-76593b8247b2",
   "metadata": {
    "jupyter": {
     "source_hidden": true
    },
    "scrolled": true
   },
   "outputs": [
    {
     "name": "stdout",
     "output_type": "stream",
     "text": [
      "yearUnits: \n",
      "['CE']\n"
     ]
    }
   ],
   "source": [
    "# yearUnits\n",
    "key = 'yearUnits'\n",
    "print('%s: '%key)\n",
    "print(np.unique([kk for kk in df_compact[key]]))"
   ]
  }
 ],
 "metadata": {
  "kernelspec": {
   "display_name": "Python (cfr-env)",
   "language": "python",
   "name": "cfr-env"
  },
  "language_info": {
   "codemirror_mode": {
    "name": "ipython",
    "version": 3
   },
   "file_extension": ".py",
   "mimetype": "text/x-python",
   "name": "python",
   "nbconvert_exporter": "python",
   "pygments_lexer": "ipython3",
   "version": "3.11.8"
  }
 },
 "nbformat": 4,
 "nbformat_minor": 5
}
