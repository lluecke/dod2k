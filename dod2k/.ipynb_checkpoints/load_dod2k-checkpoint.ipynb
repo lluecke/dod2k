{
 "cells": [
  {
   "cell_type": "code",
   "execution_count": 1,
   "id": "9516b7b0-3ed8-4424-8b36-92b4583b28f2",
   "metadata": {},
   "outputs": [
    {
     "data": {
      "text/plain": [
       "\"\\nCreated on Mon Jul  3 12:53:15 2023\\n\\n@author: lluecke\\n\\nCreate a common database from multiple collated databases\\n    - PAGES2k (load_pages2k.ipynb)\\n    - FE23 (Breitenmoser 14) (load_fe23.ipynb)\\n    - SISAL v3 (load_sisal.ipynb)\\n    - CH2k (load_ch2k.ipynb)\\n    - Iso2k (load_iso2k.ipynb)\\n\\n\\nWe obtain a common dataframe with the following columns:\\ncolumns=['archiveType', \\n        'climateInterpretation_variable',\\n        'climateInterpretation_variableDetail',\\n        'datasetId',\\n        'dataSetName',                                                                                \\n        'geo_meanElev', \\n        'geo_meanLat', \\n        'geo_meanLon',\\n        'year', 'yearUnits',                                                                                         \\n        'paleoData_variableName',\\n        'paleoData_units',                                                                                           \\n        'paleoData_values',\\n        'paleoData_notes',\\n        'paleoData_sensorSpecies',\\n        'originalDataURL',\\n        'originalDatabase'\\n]\\n\\n\""
      ]
     },
     "execution_count": 1,
     "metadata": {},
     "output_type": "execute_result"
    }
   ],
   "source": [
    "# -*- coding: utf-8 -*-\n",
    "\"\"\"\n",
    "Created on Mon Jul  3 12:53:15 2023\n",
    "\n",
    "@author: lluecke\n",
    "\n",
    "Create a common database from multiple collated databases\n",
    "    - PAGES2k (load_pages2k.ipynb)\n",
    "    - FE23 (Breitenmoser 14) (load_fe23.ipynb)\n",
    "    - SISAL v3 (load_sisal.ipynb)\n",
    "    - CH2k (load_ch2k.ipynb)\n",
    "    - Iso2k (load_iso2k.ipynb)\n",
    "\n",
    "This database is subject to duplicates, so please run the duplicate detection \n",
    "files on the output.\n",
    "\n",
    "We obtain a common dataframe with the following columns:\n",
    "columns=['archiveType', \n",
    "        'climateInterpretation_variable',\n",
    "        'climateInterpretation_variableDetail',\n",
    "        'datasetId',\n",
    "        'dataSetName',                                                                                \n",
    "        'geo_meanElev', \n",
    "        'geo_meanLat', \n",
    "        'geo_meanLon',\n",
    "        'year', 'yearUnits',                                                                                         \n",
    "        'paleoData_variableName',\n",
    "        'paleoData_units',                                                                                           \n",
    "        'paleoData_values',\n",
    "        'paleoData_notes',\n",
    "        'paleoData_sensorSpecies',\n",
    "        'originalDataURL',\n",
    "        'originalDatabase'\n",
    "]\n",
    "\n",
    "\n",
    "\"\"\"\n"
   ]
  },
  {
   "cell_type": "markdown",
   "id": "66a006b0-0d80-4c66-829a-558552de0a0b",
   "metadata": {},
   "source": [
    "# set up working environment"
   ]
  },
  {
   "cell_type": "code",
   "execution_count": 2,
   "id": "a3570e01-a4dc-4502-8eff-3a6213501a3f",
   "metadata": {},
   "outputs": [],
   "source": [
    "%load_ext autoreload\n",
    "%autoreload 2"
   ]
  },
  {
   "cell_type": "code",
   "execution_count": 3,
   "id": "08b41847-0446-4201-8b4d-bcdea4201ca0",
   "metadata": {},
   "outputs": [],
   "source": [
    "import os\n",
    "import pandas as pd\n",
    "import numpy as np\n",
    "import matplotlib.pyplot as plt\n",
    "import cartopy.crs as ccrs\n",
    "import cartopy.feature as cfeature \n",
    "from matplotlib.gridspec import GridSpec as GS\n",
    "from copy import deepcopy as dc"
   ]
  },
  {
   "cell_type": "code",
   "execution_count": 4,
   "id": "eec782ad-c974-4390-872d-9ef53013bcd5",
   "metadata": {},
   "outputs": [
    {
     "name": "stdout",
     "output_type": "stream",
     "text": [
      "working directory: /home/jupyter-lluecke/compile_proxy_database_v2.1\n"
     ]
    }
   ],
   "source": [
    "#wdir = '/home/jupyter-lluecke/compile_proxy_database_v2.0' # working directory, this should work, but doesn't seem to...\n",
    "if os.getcwd().endswith('compile_proxy_database_v2.0'):\n",
    "    pass\n",
    "else:\n",
    "    os.chdir(os.getcwd()+'/..')\n",
    "wdir = os.getcwd()\n",
    "print('working directory: '+wdir)\n",
    "import functions as f"
   ]
  },
  {
   "cell_type": "markdown",
   "id": "0c917be3-1bd6-42a7-908b-fccb572456ed",
   "metadata": {},
   "source": [
    "# load compact dataframes"
   ]
  },
  {
   "cell_type": "code",
   "execution_count": 5,
   "id": "d89b2e92-bd81-4d73-922c-08a2f4ac938a",
   "metadata": {},
   "outputs": [
    {
     "name": "stdout",
     "output_type": "stream",
     "text": [
      "Index(['archiveType', 'climateInterpretation_variable',\n",
      "       'climateInterpretation_variableDetail', 'dataSetName', 'datasetId',\n",
      "       'geo_meanElev', 'geo_meanLat', 'geo_meanLon', 'geo_siteName',\n",
      "       'originalDataURL', 'originalDatabase', 'paleoData_notes',\n",
      "       'paleoData_proxy', 'paleoData_sensorSpecies', 'paleoData_units',\n",
      "       'paleoData_values', 'year', 'yearUnits'],\n",
      "      dtype='object')\n",
      "------------\n",
      "Index(['archiveType', 'climateInterpretation_variable',\n",
      "       'climateInterpretation_variableDetail', 'dataSetName', 'datasetId',\n",
      "       'geo_meanElev', 'geo_meanLat', 'geo_meanLon', 'geo_siteName',\n",
      "       'originalDataURL', 'originalDatabase', 'paleoData_notes',\n",
      "       'paleoData_proxy', 'paleoData_sensorSpecies', 'paleoData_units',\n",
      "       'paleoData_values', 'year', 'yearUnits'],\n",
      "      dtype='object')\n",
      "------------\n",
      "Index(['archiveType', 'climateInterpretation_variable',\n",
      "       'climateInterpretation_variableDetail', 'dataSetName', 'datasetId',\n",
      "       'geo_meanElev', 'geo_meanLat', 'geo_meanLon', 'geo_siteName',\n",
      "       'originalDataURL', 'originalDatabase', 'paleoData_notes',\n",
      "       'paleoData_proxy', 'paleoData_sensorSpecies', 'paleoData_units',\n",
      "       'paleoData_values', 'year', 'yearUnits'],\n",
      "      dtype='object')\n",
      "------------\n",
      "Index(['archiveType', 'climateInterpretation_variable',\n",
      "       'climateInterpretation_variableDetail', 'dataSetName', 'datasetId',\n",
      "       'geo_meanElev', 'geo_meanLat', 'geo_meanLon', 'geo_siteName',\n",
      "       'originalDataURL', 'originalDatabase', 'paleoData_notes',\n",
      "       'paleoData_proxy', 'paleoData_sensorSpecies', 'paleoData_units',\n",
      "       'paleoData_values', 'year', 'yearUnits'],\n",
      "      dtype='object')\n",
      "------------\n",
      "Index(['archiveType', 'climateInterpretation_variable',\n",
      "       'climateInterpretation_variableDetail', 'dataSetName', 'datasetId',\n",
      "       'geo_meanElev', 'geo_meanLat', 'geo_meanLon', 'geo_siteName',\n",
      "       'originalDataURL', 'originalDatabase', 'paleoData_notes',\n",
      "       'paleoData_proxy', 'paleoData_sensorSpecies', 'paleoData_units',\n",
      "       'paleoData_values', 'year', 'yearUnits'],\n",
      "      dtype='object')\n",
      "------------\n"
     ]
    }
   ],
   "source": [
    "# read compact dataframes from all the single databases\n",
    "\n",
    "dataset_names = ['pages2k', 'fe23', 'ch2k', 'iso2k', 'sisal' ]\n",
    "\n",
    "\n",
    "dfs = []\n",
    "for ii, dn in enumerate(dataset_names):\n",
    "    dfs += [f.load_compact_dataframe_from_csv(dn)]\n",
    "    # dfs += [pd.read_pickle('%s/%s_compact.pkl'%(dn, dn))]\n",
    "    # print(ddir[ii], set(dfs[ii]['originalDatabase']), dfs[ii].info(verbose=False))\n",
    "    print(dfs[ii].columns)\n",
    "    print('------------')\n",
    "    "
   ]
  },
  {
   "cell_type": "code",
   "execution_count": 6,
   "id": "6702ae8f-ae7e-4890-b59c-24b406473dba",
   "metadata": {},
   "outputs": [
    {
     "name": "stdout",
     "output_type": "stream",
     "text": [
      "pages2k {'PAGES2k v2.0.0 (Ocn_103 updated with Dee et al. 2020)'}\n",
      "<class 'pandas.core.frame.DataFrame'>\n",
      "RangeIndex: 692 entries, 0 to 691\n",
      "Columns: 18 entries, archiveType to yearUnits\n",
      "dtypes: float64(3), object(15)\n",
      "memory usage: 97.4+ KB\n",
      "None\n"
     ]
    }
   ],
   "source": [
    "# create DoD dataframe, start by loading first dataframe\n",
    "dn = dataset_names[0]\n",
    "df = pd.read_pickle('%s/%s_compact.pkl'%(dn, dn))\n",
    "print(dn, set(df['originalDatabase']))\n",
    "print(df.info(verbose=False))"
   ]
  },
  {
   "cell_type": "code",
   "execution_count": 7,
   "id": "64ed5865-6d2b-481d-a7bd-3f73598986b0",
   "metadata": {},
   "outputs": [
    {
     "name": "stdout",
     "output_type": "stream",
     "text": [
      "<class 'pandas.core.frame.DataFrame'>\n",
      "RangeIndex: 2754 entries, 0 to 2753\n",
      "Columns: 18 entries, archiveType to yearUnits\n",
      "dtypes: float64(3), object(15)\n",
      "memory usage: 387.4+ KB\n",
      "fe23 {'FE23 (Breitenmoser et al. (2014))'} None\n",
      "------------\n",
      "<class 'pandas.core.frame.DataFrame'>\n",
      "RangeIndex: 272 entries, 0 to 271\n",
      "Columns: 18 entries, archiveType to yearUnits\n",
      "dtypes: float32(3), object(15)\n",
      "memory usage: 35.2+ KB\n",
      "ch2k {'CoralHydro2k v1.0.0'} None\n",
      "------------\n",
      "<class 'pandas.core.frame.DataFrame'>\n",
      "Index: 582 entries, 0 to 595\n",
      "Columns: 18 entries, archiveType to yearUnits\n",
      "dtypes: float32(3), object(15)\n",
      "memory usage: 79.6+ KB\n",
      "iso2k {'Iso2k v1.0.1'} None\n",
      "------------\n",
      "<class 'pandas.core.frame.DataFrame'>\n",
      "Index: 541 entries, 0 to 545\n",
      "Columns: 18 entries, archiveType to yearUnits\n",
      "dtypes: float64(3), object(15)\n",
      "memory usage: 80.3+ KB\n",
      "sisal {'SISAL v3'} None\n",
      "------------\n",
      "{'SISAL v3', 'FE23 (Breitenmoser et al. (2014))', 'PAGES2k v2.0.0 (Ocn_103 updated with Dee et al. 2020)', 'CoralHydro2k v1.0.0', 'Iso2k v1.0.1'}\n",
      "<class 'pandas.core.frame.DataFrame'>\n",
      "RangeIndex: 4841 entries, 0 to 4840\n",
      "Columns: 18 entries, archiveType to yearUnits\n",
      "dtypes: float64(3), object(15)\n",
      "memory usage: 680.9+ KB\n"
     ]
    }
   ],
   "source": [
    "# load other dataframes and concatenate to common dataframe\n",
    "for dn in dataset_names[1:]:\n",
    "    add_df = pd.read_pickle('%s/%s_compact.pkl'%(dn, dn))\n",
    "    print(dn, set(add_df['originalDatabase']), add_df.info(verbose=False))\n",
    "    df = pd.concat([df, add_df], ignore_index=True)\n",
    "    print('------------')\n",
    "\n",
    "print(set(df['originalDatabase']))\n",
    "df.info(verbose=False)"
   ]
  },
  {
   "cell_type": "code",
   "execution_count": 8,
   "id": "eb0e8772-d024-45cb-9d23-85d2db1234fc",
   "metadata": {},
   "outputs": [
    {
     "name": "stdout",
     "output_type": "stream",
     "text": [
      "(4841, 18)\n",
      "[]\n"
     ]
    }
   ],
   "source": [
    "print(df.shape)\n",
    "drop_inds = []\n",
    "for ii in range(df.shape[0]):\n",
    "    if len(df.iloc[ii]['year'])==0:\n",
    "        print('empty', ii, df.iloc[ii]['year'], df.iloc[ii]['originalDatabase'])\n",
    "        drop_inds += [df.index[ii]]\n",
    "print(drop_inds)\n",
    "# df = df.drop(index=drop_inds)"
   ]
  },
  {
   "cell_type": "markdown",
   "id": "f672c9cc-de7e-48c1-b777-663b910c7c37",
   "metadata": {},
   "source": [
    "# save pickle"
   ]
  },
  {
   "cell_type": "code",
   "execution_count": 9,
   "id": "2c4abd40-8e65-43c5-9673-d289327300a2",
   "metadata": {},
   "outputs": [],
   "source": [
    "# save concatenate dataframe as DoD2k\n",
    "df.name='DoD2k_v1'\n",
    "df.to_pickle('dod2k/dod2k_compact.pkl')"
   ]
  },
  {
   "cell_type": "code",
   "execution_count": 10,
   "id": "84a961f8-43b7-4658-b3ab-4505a8b89977",
   "metadata": {},
   "outputs": [
    {
     "name": "stdout",
     "output_type": "stream",
     "text": [
      "<class 'pandas.core.frame.DataFrame'>\n",
      "RangeIndex: 4841 entries, 0 to 4840\n",
      "Data columns (total 18 columns):\n",
      " #   Column                                Non-Null Count  Dtype  \n",
      "---  ------                                --------------  -----  \n",
      " 0   archiveType                           4841 non-null   object \n",
      " 1   climateInterpretation_variable        4841 non-null   object \n",
      " 2   climateInterpretation_variableDetail  4841 non-null   object \n",
      " 3   dataSetName                           4841 non-null   object \n",
      " 4   datasetId                             4841 non-null   object \n",
      " 5   geo_meanElev                          4750 non-null   float64\n",
      " 6   geo_meanLat                           4841 non-null   float64\n",
      " 7   geo_meanLon                           4841 non-null   float64\n",
      " 8   geo_siteName                          4841 non-null   object \n",
      " 9   originalDataURL                       4841 non-null   object \n",
      " 10  originalDatabase                      4841 non-null   object \n",
      " 11  paleoData_notes                       4841 non-null   object \n",
      " 12  paleoData_proxy                       4841 non-null   object \n",
      " 13  paleoData_sensorSpecies               4841 non-null   object \n",
      " 14  paleoData_units                       4841 non-null   object \n",
      " 15  paleoData_values                      4841 non-null   object \n",
      " 16  year                                  4841 non-null   object \n",
      " 17  yearUnits                             4841 non-null   object \n",
      "dtypes: float64(3), object(15)\n",
      "memory usage: 680.9+ KB\n",
      "None\n"
     ]
    }
   ],
   "source": [
    "print(df.info())"
   ]
  },
  {
   "cell_type": "markdown",
   "id": "6fd8d6fc-d175-4951-b110-14990d7eb302",
   "metadata": {},
   "source": [
    "# save csv"
   ]
  },
  {
   "cell_type": "code",
   "execution_count": 11,
   "id": "73d23950-a185-4d4b-ad10-199fd1d1fa37",
   "metadata": {},
   "outputs": [
    {
     "name": "stdout",
     "output_type": "stream",
     "text": [
      "METADATA: archiveType, climateInterpretation_variable, climateInterpretation_variableDetail, dataSetName, datasetId, geo_meanElev, geo_meanLat, geo_meanLon, geo_siteName, originalDataURL, originalDatabase, paleoData_notes, paleoData_proxy, paleoData_sensorSpecies, paleoData_units, yearUnits\n",
      "Saved to /home/jupyter-lluecke/compile_proxy_database_v2.1/dod2k/dod2k_compact_%s.csv\n"
     ]
    }
   ],
   "source": [
    "# save to a list of csv files (metadata, data, year)\n",
    "df.name='dod2k'\n",
    "f.write_compact_dataframe_to_csv(df)"
   ]
  },
  {
   "cell_type": "code",
   "execution_count": 12,
   "id": "fa0f0c55-ab44-45c2-8a5f-c3d084d32139",
   "metadata": {},
   "outputs": [
    {
     "name": "stdout",
     "output_type": "stream",
     "text": [
      "<class 'pandas.core.frame.DataFrame'>\n",
      "RangeIndex: 4841 entries, 0 to 4840\n",
      "Data columns (total 18 columns):\n",
      " #   Column                                Non-Null Count  Dtype  \n",
      "---  ------                                --------------  -----  \n",
      " 0   archiveType                           4841 non-null   object \n",
      " 1   climateInterpretation_variable        4841 non-null   object \n",
      " 2   climateInterpretation_variableDetail  4841 non-null   object \n",
      " 3   dataSetName                           4841 non-null   object \n",
      " 4   datasetId                             4841 non-null   object \n",
      " 5   geo_meanElev                          4750 non-null   float32\n",
      " 6   geo_meanLat                           4841 non-null   float32\n",
      " 7   geo_meanLon                           4841 non-null   float32\n",
      " 8   geo_siteName                          4841 non-null   object \n",
      " 9   originalDataURL                       4841 non-null   object \n",
      " 10  originalDatabase                      4841 non-null   object \n",
      " 11  paleoData_notes                       4841 non-null   object \n",
      " 12  paleoData_proxy                       4841 non-null   object \n",
      " 13  paleoData_sensorSpecies               4841 non-null   object \n",
      " 14  paleoData_units                       4841 non-null   object \n",
      " 15  paleoData_values                      4841 non-null   object \n",
      " 16  year                                  4841 non-null   object \n",
      " 17  yearUnits                             4841 non-null   object \n",
      "dtypes: float32(3), object(15)\n",
      "memory usage: 624.2+ KB\n",
      "None\n",
      "<class 'pandas.core.frame.DataFrame'>\n",
      "RangeIndex: 4841 entries, 0 to 4840\n",
      "Data columns (total 18 columns):\n",
      " #   Column                                Non-Null Count  Dtype  \n",
      "---  ------                                --------------  -----  \n",
      " 0   archiveType                           4841 non-null   object \n",
      " 1   climateInterpretation_variable        4841 non-null   object \n",
      " 2   climateInterpretation_variableDetail  4841 non-null   object \n",
      " 3   dataSetName                           4841 non-null   object \n",
      " 4   datasetId                             4841 non-null   object \n",
      " 5   geo_meanElev                          4750 non-null   float64\n",
      " 6   geo_meanLat                           4841 non-null   float64\n",
      " 7   geo_meanLon                           4841 non-null   float64\n",
      " 8   geo_siteName                          4841 non-null   object \n",
      " 9   originalDataURL                       4841 non-null   object \n",
      " 10  originalDatabase                      4841 non-null   object \n",
      " 11  paleoData_notes                       4841 non-null   object \n",
      " 12  paleoData_proxy                       4841 non-null   object \n",
      " 13  paleoData_sensorSpecies               4841 non-null   object \n",
      " 14  paleoData_units                       4841 non-null   object \n",
      " 15  paleoData_values                      4841 non-null   object \n",
      " 16  year                                  4841 non-null   object \n",
      " 17  yearUnits                             4841 non-null   object \n",
      "dtypes: float64(3), object(15)\n",
      "memory usage: 680.9+ KB\n",
      "None\n"
     ]
    }
   ],
   "source": [
    "# load dataframe\n",
    "print(f.load_compact_dataframe_from_csv('dod2k').info())\n",
    "print(df.info())"
   ]
  }
 ],
 "metadata": {
  "kernelspec": {
   "display_name": "Python (cfr-env)",
   "language": "python",
   "name": "cfr-env"
  },
  "language_info": {
   "codemirror_mode": {
    "name": "ipython",
    "version": 3
   },
   "file_extension": ".py",
   "mimetype": "text/x-python",
   "name": "python",
   "nbconvert_exporter": "python",
   "pygments_lexer": "ipython3",
   "version": "3.11.8"
  }
 },
 "nbformat": 4,
 "nbformat_minor": 5
}
