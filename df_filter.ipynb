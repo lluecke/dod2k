{
 "cells": [
  {
   "cell_type": "markdown",
   "id": "33f57846-79af-4cbd-a827-b4f5c73c504a",
   "metadata": {},
   "source": [
    "This file reads the compact dataframes and filters for specific records (e.g. for moisture sensitive records). \n",
    "The filtered dataset is saved in a separate directory and can be loaded for further analysis or plotting etc.\n",
    "\n",
    "Author: Lucie Luecke\n",
    "\n",
    "Date produced: 21/01/2025\n",
    "\n",
    "Input: \n",
    "reads dataframe with the following keys:\n",
    "['archiveType', 'climateInterpretation_variable', 'climateInterpretation_variableDetail',\n",
    " 'dataSetName', 'geo_meanElev', 'geo_meanLat', 'geo_meanLon', \n",
    " 'originalDataURL', 'paleoData_TSid', 'paleoData_notes', 'paleoData_proxy', \n",
    " 'paleoData_units', 'paleoData_values', 'paleoData_variableName', 'year', 'yearUnits', (optional: 'DuplicateDetails')]\n",
    "\n",
    "modify directory and filename (currently reads pickle) as needed"
   ]
  },
  {
   "cell_type": "code",
   "execution_count": null,
   "id": "22a04ebe-99c0-4672-89b6-356ddc3f4703",
   "metadata": {},
   "outputs": [],
   "source": []
  },
  {
   "cell_type": "code",
   "execution_count": 1,
   "id": "5bfba0c0-be65-4179-bea5-4c7ad3ff852c",
   "metadata": {},
   "outputs": [],
   "source": [
    "%load_ext autoreload\n",
    "%autoreload 2"
   ]
  },
  {
   "cell_type": "code",
   "execution_count": 2,
   "id": "87de2658-2887-4a5a-8c94-4160c6ad3af6",
   "metadata": {},
   "outputs": [],
   "source": [
    "import os\n",
    "import pandas as pd\n",
    "import numpy as np\n",
    "import matplotlib.pyplot as plt\n",
    "import cartopy.crs as ccrs\n",
    "import cartopy.feature as cfeature \n",
    "from matplotlib.gridspec import GridSpec as GS\n",
    "import scipy.io as sio\n",
    "from copy import deepcopy as dc"
   ]
  },
  {
   "cell_type": "code",
   "execution_count": 3,
   "id": "60e22cf7-bcb7-4aa3-84c9-bd6f6bf5fdd1",
   "metadata": {},
   "outputs": [
    {
     "name": "stdout",
     "output_type": "stream",
     "text": [
      "/home/jupyter-lluecke/compile_proxy_database_v2.1\n"
     ]
    }
   ],
   "source": [
    "# choose working directory\n",
    "wdir = '/home/jupyter-lluecke/compile_proxy_database_v2.1'\n",
    "os.chdir(wdir)\n",
    "print(wdir)\n",
    "import functions as f # contains functions for plotting "
   ]
  },
  {
   "cell_type": "code",
   "execution_count": 4,
   "id": "e017f834-97a3-4ed4-a66d-9d57c440bfe8",
   "metadata": {},
   "outputs": [
    {
     "name": "stdout",
     "output_type": "stream",
     "text": [
      "['FE23 (Breitenmoser et al. (2014))' 'CoralHydro2k v1.0.0'\n",
      " 'dod2k_composite_standardised' 'Iso2k v1.0.1'\n",
      " 'PAGES2k v2.0.0 (Ocn_103 updated with Dee et al. 2020)' 'SISAL v3']\n"
     ]
    }
   ],
   "source": [
    "# read dataframe \n",
    "# e.g. PAGES2k but works with any dataframe as long as notation is followed\n",
    "\n",
    "db_name = 'dod2k_dupfree_dupfree'\n",
    "# db_name = 'dod2k_dupfree'\n",
    "# db_name = 'dod2k'\n",
    "\n",
    "# load dataframe\n",
    "df = f.load_compact_dataframe_from_csv(db_name)\n",
    "\n",
    "# df = pd.read_pickle('%s/%s_compact.pkl')\n",
    "\n",
    "print(df.originalDatabase.unique())\n",
    "\n",
    "df.name = db_name"
   ]
  },
  {
   "cell_type": "code",
   "execution_count": 5,
   "id": "33599671-85a7-4526-8afc-944ad98bd25b",
   "metadata": {},
   "outputs": [
    {
     "name": "stdout",
     "output_type": "stream",
     "text": [
      "<class 'pandas.core.frame.DataFrame'>\n",
      "RangeIndex: 4516 entries, 0 to 4515\n",
      "Data columns (total 19 columns):\n",
      " #   Column                                Non-Null Count  Dtype  \n",
      "---  ------                                --------------  -----  \n",
      " 0   archiveType                           4516 non-null   object \n",
      " 1   climateInterpretation_variable        4516 non-null   object \n",
      " 2   climateInterpretation_variableDetail  4516 non-null   object \n",
      " 3   dataSetName                           4516 non-null   object \n",
      " 4   datasetId                             4516 non-null   object \n",
      " 5   duplicateDetails                      4516 non-null   object \n",
      " 6   geo_meanElev                          4433 non-null   float32\n",
      " 7   geo_meanLat                           4516 non-null   float32\n",
      " 8   geo_meanLon                           4516 non-null   float32\n",
      " 9   geo_siteName                          4516 non-null   object \n",
      " 10  originalDataURL                       4516 non-null   object \n",
      " 11  originalDatabase                      4516 non-null   object \n",
      " 12  paleoData_notes                       4516 non-null   object \n",
      " 13  paleoData_proxy                       4516 non-null   object \n",
      " 14  paleoData_sensorSpecies               4516 non-null   object \n",
      " 15  paleoData_units                       4516 non-null   object \n",
      " 16  paleoData_values                      4516 non-null   object \n",
      " 17  year                                  4516 non-null   object \n",
      " 18  yearUnits                             4516 non-null   object \n",
      "dtypes: float32(3), object(16)\n",
      "memory usage: 617.6+ KB\n",
      "None\n"
     ]
    }
   ],
   "source": [
    "print(df.info())"
   ]
  },
  {
   "cell_type": "markdown",
   "id": "d4ccce94-a8bf-4b7f-bd14-adedda715b0f",
   "metadata": {},
   "source": [
    "## filter dataframe for specific record types"
   ]
  },
  {
   "cell_type": "code",
   "execution_count": 6,
   "id": "0a67160c-2b5a-4e8e-87cc-0f53f612bd9f",
   "metadata": {},
   "outputs": [],
   "source": [
    "# if you want to filter for specific metadata, e.g. temperature or moisture records, run this:\n",
    "\n",
    "\n",
    "# ---> climateInterpretation_variable\n",
    "# e.g.\n",
    "\n",
    "# # filter for >>moisture<< sensitive records only (also include records which are moisture and temperature sensitive)\n",
    "# df = df.loc[(df['climateInterpretation_variable']=='moisture')|(df['climateInterpretation_variable']=='temperature+moisture')]\n",
    "\n",
    "# # filter for >>exclusively moisture<< sensitive records only (without t+m)\n",
    "df = df.loc[(df['climateInterpretation_variable']=='moisture')]\n",
    "\n",
    "# # filter for >>temperature<< sensitive records only (also include records which are moisture and temperature sensitive)\n",
    "# df = df.loc[(df['climateInterpretation_variable']=='temperature')|(df['climateInterpretation_variable']=='temperature+moisture'])]\n",
    "\n",
    "\n",
    "\n",
    "# ---> archiveType and paleoData_proxy\n",
    "# e.g.\n",
    "\n",
    "# # filter for specific proxy type, e.g. archiveType='speleothem' and paleoData_proxy='d18O'\n",
    "# df = df.loc[(df['archiveType']=='speleothem')&(df['paleoData_proxy']=='d18O')]\n",
    "\n",
    "\n",
    "# ---> paleoData_proxy only\n",
    "# e.g. \n",
    "\n",
    "# df = df.loc[(df['paleoData_proxy']=='MXD')]\n",
    "\n",
    "# etc."
   ]
  },
  {
   "cell_type": "code",
   "execution_count": 7,
   "id": "e9b4af5f-1aba-4ade-aec6-ce76b9648741",
   "metadata": {},
   "outputs": [
    {
     "name": "stdout",
     "output_type": "stream",
     "text": [
      "dod2k_dupfree_dupfree_M\n"
     ]
    }
   ],
   "source": [
    "# df needs name reassigned as it gets lost otherwise after assigning new value to df (through the filtering above)\n",
    "\n",
    "# for the M+T filtered example, revise df.name to\n",
    "df.name = db_name + \"_M\" \n",
    "print(df.name)"
   ]
  },
  {
   "cell_type": "code",
   "execution_count": 8,
   "id": "d999ba0f-a2e4-42ec-9e30-a4644230281b",
   "metadata": {},
   "outputs": [
    {
     "name": "stdout",
     "output_type": "stream",
     "text": [
      "<class 'pandas.core.frame.DataFrame'>\n",
      "Index: 1073 entries, 2 to 3409\n",
      "Data columns (total 19 columns):\n",
      " #   Column                                Non-Null Count  Dtype  \n",
      "---  ------                                --------------  -----  \n",
      " 0   archiveType                           1073 non-null   object \n",
      " 1   climateInterpretation_variable        1073 non-null   object \n",
      " 2   climateInterpretation_variableDetail  1073 non-null   object \n",
      " 3   dataSetName                           1073 non-null   object \n",
      " 4   datasetId                             1073 non-null   object \n",
      " 5   duplicateDetails                      1073 non-null   object \n",
      " 6   geo_meanElev                          1068 non-null   float32\n",
      " 7   geo_meanLat                           1073 non-null   float32\n",
      " 8   geo_meanLon                           1073 non-null   float32\n",
      " 9   geo_siteName                          1073 non-null   object \n",
      " 10  originalDataURL                       1073 non-null   object \n",
      " 11  originalDatabase                      1073 non-null   object \n",
      " 12  paleoData_notes                       1073 non-null   object \n",
      " 13  paleoData_proxy                       1073 non-null   object \n",
      " 14  paleoData_sensorSpecies               1073 non-null   object \n",
      " 15  paleoData_units                       1073 non-null   object \n",
      " 16  paleoData_values                      1073 non-null   object \n",
      " 17  year                                  1073 non-null   object \n",
      " 18  yearUnits                             1073 non-null   object \n",
      "dtypes: float32(3), object(16)\n",
      "memory usage: 155.1+ KB\n",
      "None\n"
     ]
    }
   ],
   "source": [
    "print(df.info())"
   ]
  },
  {
   "cell_type": "markdown",
   "id": "178f4369-79be-49eb-9e79-6f06f82f7eb5",
   "metadata": {},
   "source": [
    "## save filtered dataframe"
   ]
  },
  {
   "cell_type": "code",
   "execution_count": 9,
   "id": "6f447639-6704-4699-bba3-e98acb6c8a87",
   "metadata": {},
   "outputs": [],
   "source": [
    "# create new directory if dir does not exist\n",
    "path = '/'+df.name\n",
    "if not os.path.exists(os.getcwd()+path):\n",
    "    os.makedirs(os.getcwd()+path)"
   ]
  },
  {
   "cell_type": "code",
   "execution_count": 10,
   "id": "765ab8e4-dbcd-4778-baa1-86e71db7b55c",
   "metadata": {},
   "outputs": [],
   "source": [
    "# save as pickle\n",
    "df.to_pickle('%s/%sl_compact.pkl'%(df.name, df.name))"
   ]
  },
  {
   "cell_type": "code",
   "execution_count": 11,
   "id": "de0a2800-3fe6-416d-af95-e7be21d3abb2",
   "metadata": {},
   "outputs": [
    {
     "name": "stdout",
     "output_type": "stream",
     "text": [
      "METADATA: archiveType, climateInterpretation_variable, climateInterpretation_variableDetail, dataSetName, datasetId, duplicateDetails, geo_meanElev, geo_meanLat, geo_meanLon, geo_siteName, originalDataURL, originalDatabase, paleoData_notes, paleoData_proxy, paleoData_sensorSpecies, paleoData_units, yearUnits\n",
      "Saved to /home/jupyter-lluecke/compile_proxy_database_v2.1/dod2k_dupfree_dupfree_M/dod2k_dupfree_dupfree_M_compact_%s.csv\n"
     ]
    }
   ],
   "source": [
    "# save csv\n",
    "f.write_compact_dataframe_to_csv(df)"
   ]
  },
  {
   "cell_type": "code",
   "execution_count": 12,
   "id": "f4446855-345b-4ae7-a7ce-0107cb0fdc46",
   "metadata": {},
   "outputs": [
    {
     "name": "stdout",
     "output_type": "stream",
     "text": [
      "<class 'pandas.core.frame.DataFrame'>\n",
      "RangeIndex: 1073 entries, 0 to 1072\n",
      "Data columns (total 19 columns):\n",
      " #   Column                                Non-Null Count  Dtype  \n",
      "---  ------                                --------------  -----  \n",
      " 0   archiveType                           1073 non-null   object \n",
      " 1   climateInterpretation_variable        1073 non-null   object \n",
      " 2   climateInterpretation_variableDetail  1073 non-null   object \n",
      " 3   dataSetName                           1073 non-null   object \n",
      " 4   datasetId                             1073 non-null   object \n",
      " 5   duplicateDetails                      1073 non-null   object \n",
      " 6   geo_meanElev                          1068 non-null   float32\n",
      " 7   geo_meanLat                           1073 non-null   float32\n",
      " 8   geo_meanLon                           1073 non-null   float32\n",
      " 9   geo_siteName                          1073 non-null   object \n",
      " 10  originalDataURL                       1073 non-null   object \n",
      " 11  originalDatabase                      1073 non-null   object \n",
      " 12  paleoData_notes                       1073 non-null   object \n",
      " 13  paleoData_proxy                       1073 non-null   object \n",
      " 14  paleoData_sensorSpecies               1073 non-null   object \n",
      " 15  paleoData_units                       1073 non-null   object \n",
      " 16  paleoData_values                      1073 non-null   object \n",
      " 17  year                                  1073 non-null   object \n",
      " 18  yearUnits                             1073 non-null   object \n",
      "dtypes: float32(3), object(16)\n",
      "memory usage: 146.8+ KB\n"
     ]
    }
   ],
   "source": [
    "# load dataframe\n",
    "f.load_compact_dataframe_from_csv(df.name).info()"
   ]
  }
 ],
 "metadata": {
  "kernelspec": {
   "display_name": "Python (cfr-env)",
   "language": "python",
   "name": "cfr-env"
  },
  "language_info": {
   "codemirror_mode": {
    "name": "ipython",
    "version": 3
   },
   "file_extension": ".py",
   "mimetype": "text/x-python",
   "name": "python",
   "nbconvert_exporter": "python",
   "pygments_lexer": "ipython3",
   "version": "3.11.8"
  }
 },
 "nbformat": 4,
 "nbformat_minor": 5
}
