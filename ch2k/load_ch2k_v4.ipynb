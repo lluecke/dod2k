{
 "cells": [
  {
   "cell_type": "code",
   "execution_count": 1,
   "metadata": {},
   "outputs": [
    {
     "data": {
      "text/plain": [
       "\"\\nUpdate 21/11/24 LL : added option to save as csv\\nUpdate 30/10/24 by LL (v4): added check for empty paleoData_values row\\nUpdate 29/10/2024 by LL (v4): modified datasetId to create unique identifier for each record.\\n\\nLoad the ch2k database from https://lipdverse.org/CoralHydro2k/current_version/\\n\\n\\nHere we use the template (from Julien and Feng's lipd2df notebook) \\nto extract a dataframe with the following columns:\\n\\ncolumns=['archiveType', \\n        'climateInterpretation_variable',\\n        'climateInterpretation_variableDetail',\\n        'datasetId',\\n        'dataSetName',                                                                                \\n        'geo_meanElev', \\n        'geo_meanLat', \\n        'geo_meanLon',\\n        'year', 'yearUnits',                                                                                         \\n        'paleoData_variableName',\\n        'paleoData_units',                                                                                           \\n        'paleoData_values',\\n        'paleoData_notes',\\n        'paleoData_sensorSpecies',\\n        'originalDataURL',\\n        'originalDatabase'\\n]\\n\\nWe save a standardised compact dataframe for concatenation to DoD2k\\n\\n\\nInitially created by Kevin Fan\\n\""
      ]
     },
     "execution_count": 1,
     "metadata": {},
     "output_type": "execute_result"
    }
   ],
   "source": [
    "\"\"\"\n",
    "Update 21/11/24 LL : added option to save as csv\n",
    "Update 30/10/24 by LL (v4): added check for empty paleoData_values row\n",
    "Update 29/10/2024 by LL (v4): modified datasetId to create unique identifier for each record.\n",
    "\n",
    "Load the ch2k database from https://lipdverse.org/CoralHydro2k/current_version/\n",
    "\n",
    "\n",
    "Here we use the template (from Julien and Feng's lipd2df notebook) \n",
    "to extract a dataframe with the following columns:\n",
    "\n",
    "columns=['archiveType', \n",
    "        'climateInterpretation_variable',\n",
    "        'climateInterpretation_variableDetail',\n",
    "        'datasetId',\n",
    "        'dataSetName',                                                                                \n",
    "        'geo_meanElev', \n",
    "        'geo_meanLat', \n",
    "        'geo_meanLon',\n",
    "        'year', 'yearUnits',                                                                                         \n",
    "        'paleoData_variableName',\n",
    "        'paleoData_units',                                                                                           \n",
    "        'paleoData_values',\n",
    "        'paleoData_notes',\n",
    "        'paleoData_sensorSpecies',\n",
    "        'originalDataURL',\n",
    "        'originalDatabase'\n",
    "]\n",
    "\n",
    "We save a standardised compact dataframe for concatenation to DoD2k\n",
    "\n",
    "\n",
    "Initially created by Kevin Fan\n",
    "\"\"\""
   ]
  },
  {
   "cell_type": "markdown",
   "metadata": {},
   "source": [
    "# Set up working environment"
   ]
  },
  {
   "cell_type": "code",
   "execution_count": 2,
   "metadata": {},
   "outputs": [],
   "source": [
    "%load_ext autoreload\n",
    "%autoreload 2"
   ]
  },
  {
   "cell_type": "code",
   "execution_count": 3,
   "metadata": {},
   "outputs": [],
   "source": [
    "# Import packages\n",
    "import pandas as pd\n",
    "import lipd\n",
    "import numpy as np\n",
    "import os"
   ]
  },
  {
   "cell_type": "code",
   "execution_count": 4,
   "metadata": {},
   "outputs": [
    {
     "name": "stdout",
     "output_type": "stream",
     "text": [
      "working directory: /home/jupyter-mnevans/dod2k\n"
     ]
    }
   ],
   "source": [
    "# set up working directory. \n",
    "# The default working directory should be the parent folder (compile_proxy_database) so we can access the 'helper' files \n",
    "# Make sure this is changing to the correct path!\n",
    "\n",
    "#wdir = '/home/jupyter-lluecke/compile_proxy_database_v2.0' # working directory, this should work, but doesn't seem to...\n",
    "if not os.getcwd().endswith('compile_proxy_database_v2.1'):\n",
    "    os.chdir(os.getcwd()+'/..')\n",
    "wdir = os.getcwd()\n",
    "print('working directory: '+wdir)\n",
    "import functions as f # contains functions for plotting "
   ]
  },
  {
   "cell_type": "markdown",
   "metadata": {},
   "source": [
    "# Load source data and apply corrections"
   ]
  },
  {
   "cell_type": "code",
   "execution_count": 5,
   "metadata": {},
   "outputs": [],
   "source": [
    "# download and unzip the dataset in LiPD\n",
    "#!wget https://lipdverse.org/CoralHydro2k/current_version/CoralHydro2k1_0_0.zip\n",
    "#!unzip CoralHydro2k1_0_0.zip"
   ]
  },
  {
   "cell_type": "code",
   "execution_count": 6,
   "metadata": {
    "scrolled": true
   },
   "outputs": [
    {
     "name": "stdout",
     "output_type": "stream",
     "text": [
      "Disclaimer: LiPD files may be updated and modified to adhere to standards\n",
      "\n",
      "Found: 179 LiPD file(s)\n",
      "reading: CH03BUN01.lpd\n",
      "reading: ZI15MER01.lpd\n",
      "reading: CO03PAL03.lpd\n",
      "reading: CO03PAL02.lpd\n",
      "reading: CA13PEL01.lpd\n",
      "reading: LI06RAR01.lpd\n",
      "reading: CO03PAL07.lpd\n",
      "reading: FL18DTO03.lpd\n",
      "reading: SM06LKF02.lpd\n",
      "reading: UR00MAI01.lpd\n",
      "reading: TU95MAD01.lpd\n",
      "reading: ZI04IFR01.lpd\n",
      "reading: RE18CAY01.lpd\n",
      "reading: KU99HOU01.lpd\n",
      "reading: OS13NLP01.lpd\n",
      "reading: EV98KIR01.lpd\n",
      "reading: LI00RAR01.lpd\n",
      "reading: NU11PAL01.lpd\n",
      "reading: MA08DTO01.lpd\n",
      "reading: AB20MEN03.lpd\n",
      "reading: CA14TIM01.lpd\n",
      "reading: KA17RYU01.lpd\n",
      "reading: MC11KIR01.lpd\n",
      "reading: AB20MEN09.lpd\n",
      "reading: HE08LRA01.lpd\n",
      "reading: DA06MAF01.lpd\n",
      "reading: SM06LKF01.lpd\n",
      "reading: NA09MAL01.lpd\n",
      "reading: SW98STP01.lpd\n",
      "reading: MU18GSI01.lpd\n",
      "reading: ZI14HOU01.lpd\n",
      "reading: FL17DTO02.lpd\n",
      "reading: DA06MAF02.lpd\n",
      "reading: SA19PAL02.lpd\n",
      "reading: CO03PAL01.lpd\n",
      "reading: ZI16ROD01.lpd\n",
      "reading: OS13NGP01.lpd\n",
      "reading: CH98PIR01.lpd\n",
      "reading: RE19GBR02.lpd\n",
      "reading: MU18RED04.lpd\n",
      "reading: GR13MAD01.lpd\n",
      "reading: XI17HAI01.lpd\n",
      "reading: DE14DTO03.lpd\n",
      "reading: KL97DAH01.lpd\n",
      "reading: QU06RAB01.lpd\n",
      "reading: DE14DTO01.lpd\n",
      "reading: KU00NIN01.lpd\n",
      "reading: TU01SIA01.lpd\n",
      "reading: RE19GBR01.lpd\n",
      "reading: GR13MAD02.lpd\n",
      "reading: AB20MEN07.lpd\n",
      "reading: BR19RED01.lpd\n",
      "reading: NU09FAN01.lpd\n",
      "reading: MU18RED01.lpd\n",
      "reading: OS14RIP01.lpd\n",
      "reading: DE14DTO02.lpd\n",
      "reading: LI04FIJ01.lpd\n",
      "reading: EV18ROC01.lpd\n",
      "reading: CA13SAP01.lpd\n",
      "reading: JI18GAL02.lpd\n",
      "reading: TU01LAI01.lpd\n",
      "reading: HE13MIS01.lpd\n",
      "reading: GU99NAU02.lpd\n",
      "reading: ZI15IMP02.lpd\n",
      "reading: PF04PBA01.lpd\n",
      "reading: SA20FAN02.lpd\n",
      "reading: WE09ARR01.lpd\n",
      "reading: CO03PAL05.lpd\n",
      "reading: XU15BVI01.lpd\n",
      "reading: HE18COC02.lpd\n",
      "reading: MU18NPI01.lpd\n",
      "reading: MO06PED01.lpd\n",
      "reading: KR20SAR01.lpd\n",
      "reading: SA18GBR01.lpd\n",
      "reading: OS14UCP01.lpd\n",
      "reading: AB20MEN08.lpd\n",
      "reading: HE13MIS02.lpd\n",
      "reading: HE10GUA01.lpd\n",
      "reading: BO14HTI01.lpd\n",
      "reading: DE12ANC01.lpd\n",
      "reading: WA17BAN01.lpd\n",
      "reading: DR99ABR01.lpd\n",
      "reading: RO19MAR01.lpd\n",
      "reading: LI06RAR02.lpd\n",
      "reading: MU18RED03.lpd\n",
      "reading: SW99LIG01.lpd\n",
      "reading: SA16CLA01.lpd\n",
      "reading: ZI15TAN01.lpd\n",
      "reading: RE19GBR03.lpd\n",
      "reading: DR00KSB01.lpd\n",
      "reading: BO14HTI02.lpd\n",
      "reading: MU17DOA01.lpd\n",
      "reading: TA18TAS01.lpd\n",
      "reading: XU15BVI03.lpd\n",
      "reading: DU94URV02.lpd\n",
      "reading: AS05GUA01.lpd\n",
      "reading: FE09OGA01.lpd\n",
      "reading: GU99NAU01.lpd\n",
      "reading: SA20FAN01.lpd\n",
      "reading: CA13DIA01.lpd\n",
      "reading: AL16PUR02.lpd\n",
      "reading: CO03PAL10.lpd\n",
      "reading: RE19GBR05.lpd\n",
      "reading: ZI15IMP01.lpd\n",
      "reading: KR20SAR02.lpd\n",
      "reading: RO19YUC01.lpd\n",
      "reading: ST13MAL01.lpd\n",
      "reading: DR00NBB01.lpd\n",
      "reading: PF19LAR01.lpd\n",
      "reading: AL16YUC01.lpd\n",
      "reading: CO03PAL09.lpd\n",
      "reading: ZI16ROD02.lpd\n",
      "reading: AB20MEN05.lpd\n",
      "reading: SH92PUN01.lpd\n",
      "reading: KI04MCV01.lpd\n",
      "reading: AL16PUR01.lpd\n",
      "reading: CH18YOA02.lpd\n",
      "reading: DE14DTO04.lpd\n",
      "reading: AB20MEN04.lpd\n",
      "reading: DE16RED01.lpd\n",
      "reading: BA04FIJ02.lpd\n",
      "reading: CO03PAL06.lpd\n",
      "reading: JI18GAL01.lpd\n",
      "reading: CH18YOA01.lpd\n",
      "reading: RE19GBR04.lpd\n",
      "reading: DO18DAV01.lpd\n",
      "reading: GO12SBV01.lpd\n",
      "reading: CA07FLI01.lpd\n",
      "reading: SW99LIG02.lpd\n",
      "reading: MC04PNG01.lpd\n",
      "reading: CO93TAR01.lpd\n",
      "reading: RO19PAR01.lpd\n",
      "reading: CO00MAL01.lpd\n",
      "reading: MO20WOA01.lpd\n",
      "reading: AB20MEN01.lpd\n",
      "reading: QU96ESV01.lpd\n",
      "reading: DE13HAI01.lpd\n",
      "reading: LI94SEC01.lpd\n",
      "reading: ZI15CLE01.lpd\n",
      "reading: MU18RED02.lpd\n",
      "reading: ZI08MAY01.lpd\n",
      "reading: TU01DEP01.lpd\n",
      "reading: CO03PAL04.lpd\n",
      "reading: RA19PAI01.lpd\n",
      "reading: AB15BHB01.lpd\n",
      "reading: FL18DTO01.lpd\n",
      "reading: MO20KOI01.lpd\n",
      "reading: DU94URV01.lpd\n",
      "reading: CO03PAL08.lpd\n",
      "reading: WU14CLI01.lpd\n",
      "reading: ZI14TUR01.lpd\n",
      "reading: AB20MEN02.lpd\n",
      "reading: LI99CLI01.lpd\n",
      "reading: ZI15BUN01.lpd\n",
      "reading: FE18RUS01.lpd\n",
      "reading: WU13TON01.lpd\n",
      "reading: KI14PAR01.lpd\n",
      "reading: ZI14IFR02.lpd\n",
      "reading: XU15BVI02.lpd\n",
      "reading: KI08PAR01.lpd\n",
      "reading: AB20MEN06.lpd\n",
      "reading: AB08MEN01.lpd\n",
      "reading: NU09KIR01.lpd\n",
      "reading: RI10PBL01.lpd\n",
      "reading: CA14BUT01.lpd\n",
      "reading: FL18DTO02.lpd\n",
      "reading: FL18DTO04.lpd\n",
      "reading: BA04FIJ01.lpd\n",
      "reading: HE02GBR01.lpd\n",
      "reading: GO08BER01.lpd\n",
      "reading: CA13TUR01.lpd\n",
      "reading: LI06FIJ01.lpd\n",
      "reading: HE18COC01.lpd\n",
      "reading: FL17DTO01.lpd\n",
      "reading: BO99MOO01.lpd\n",
      "reading: CH03LOM01.lpd\n",
      "reading: SA19PAL01.lpd\n",
      "reading: CH97BVB01.lpd\n",
      "reading: RA20TAI01.lpd\n",
      "Finished read: 179 records\n",
      "extracting paleoData...\n",
      "extracting: CH03BUN01\n",
      "extracting: ZI15MER01\n",
      "extracting: CO03PAL03\n",
      "extracting: CO03PAL02\n",
      "extracting: CA13PEL01\n",
      "extracting: LI06RAR01\n",
      "extracting: CO03PAL07\n",
      "extracting: FL18DTO03\n",
      "extracting: SM06LKF02\n",
      "extracting: UR00MAI01\n",
      "extracting: TU95MAD01\n",
      "extracting: ZI04IFR01\n",
      "extracting: RE18CAY01\n",
      "extracting: KU99HOU01\n",
      "extracting: OS13NLP01\n",
      "extracting: EV98KIR01\n",
      "extracting: LI00RAR01\n",
      "extracting: NU11PAL01\n",
      "extracting: MA08DTO01\n",
      "extracting: AB20MEN03\n",
      "extracting: CA14TIM01\n",
      "extracting: KA17RYU01\n",
      "extracting: MC11KIR01\n",
      "extracting: AB20MEN09\n",
      "extracting: HE08LRA01\n",
      "extracting: DA06MAF01\n",
      "extracting: SM06LKF01\n",
      "extracting: NA09MAL01\n",
      "extracting: SW98STP01\n",
      "extracting: MU18GSI01\n",
      "extracting: ZI14HOU01\n",
      "extracting: FL17DTO02\n",
      "extracting: DA06MAF02\n",
      "extracting: SA19PAL02\n",
      "extracting: CO03PAL01\n",
      "extracting: ZI16ROD01\n",
      "extracting: OS13NGP01\n",
      "extracting: CH98PIR01\n",
      "extracting: RE19GBR02\n",
      "extracting: MU18RED04\n",
      "extracting: GR13MAD01\n",
      "extracting: XI17HAI01\n",
      "extracting: DE14DTO03\n",
      "extracting: KL97DAH01\n",
      "extracting: QU06RAB01\n",
      "extracting: DE14DTO01\n",
      "extracting: KU00NIN01\n",
      "extracting: TU01SIA01\n",
      "extracting: RE19GBR01\n",
      "extracting: GR13MAD02\n",
      "extracting: AB20MEN07\n",
      "extracting: BR19RED01\n",
      "extracting: NU09FAN01\n",
      "extracting: MU18RED01\n",
      "extracting: OS14RIP01\n",
      "extracting: DE14DTO02\n",
      "extracting: LI04FIJ01\n",
      "extracting: EV18ROC01\n",
      "extracting: CA13SAP01\n",
      "extracting: JI18GAL02\n",
      "extracting: TU01LAI01\n",
      "extracting: HE13MIS01\n",
      "extracting: GU99NAU02\n",
      "extracting: ZI15IMP02\n",
      "extracting: PF04PBA01\n",
      "extracting: SA20FAN02\n",
      "extracting: WE09ARR01\n",
      "extracting: CO03PAL05\n",
      "extracting: XU15BVI01\n",
      "extracting: HE18COC02\n",
      "extracting: MU18NPI01\n",
      "extracting: MO06PED01\n",
      "extracting: KR20SAR01\n",
      "extracting: SA18GBR01\n",
      "extracting: OS14UCP01\n",
      "extracting: AB20MEN08\n",
      "extracting: HE13MIS02\n",
      "extracting: HE10GUA01\n",
      "extracting: BO14HTI01\n",
      "extracting: DE12ANC01\n",
      "extracting: WA17BAN01\n",
      "extracting: DR99ABR01\n",
      "extracting: RO19MAR01\n",
      "extracting: LI06RAR02\n",
      "extracting: MU18RED03\n",
      "extracting: SW99LIG01\n",
      "extracting: SA16CLA01\n",
      "extracting: ZI15TAN01\n",
      "extracting: RE19GBR03\n",
      "extracting: DR00KSB01\n",
      "extracting: BO14HTI02\n",
      "extracting: MU17DOA01\n",
      "extracting: TA18TAS01\n",
      "extracting: XU15BVI03\n",
      "extracting: DU94URV02\n",
      "extracting: AS05GUA01\n",
      "extracting: FE09OGA01\n",
      "extracting: GU99NAU01\n",
      "extracting: SA20FAN01\n",
      "extracting: CA13DIA01\n",
      "extracting: AL16PUR02\n",
      "extracting: CO03PAL10\n",
      "extracting: RE19GBR05\n",
      "extracting: ZI15IMP01\n",
      "extracting: KR20SAR02\n",
      "extracting: RO19YUC01\n",
      "extracting: ST13MAL01\n",
      "extracting: DR00NBB01\n",
      "extracting: PF19LAR01\n",
      "extracting: AL16YUC01\n",
      "extracting: CO03PAL09\n",
      "extracting: ZI16ROD02\n",
      "extracting: AB20MEN05\n",
      "extracting: SH92PUN01\n",
      "extracting: KI04MCV01\n",
      "extracting: AL16PUR01\n",
      "extracting: CH18YOA02\n",
      "extracting: DE14DTO04\n",
      "extracting: AB20MEN04\n",
      "extracting: DE16RED01\n",
      "extracting: BA04FIJ02\n",
      "extracting: CO03PAL06\n",
      "extracting: JI18GAL01\n",
      "extracting: CH18YOA01\n",
      "extracting: RE19GBR04\n",
      "extracting: DO18DAV01\n",
      "extracting: GO12SBV01\n",
      "extracting: CA07FLI01\n",
      "extracting: SW99LIG02\n",
      "extracting: MC04PNG01\n",
      "extracting: CO93TAR01\n",
      "extracting: RO19PAR01\n",
      "extracting: CO00MAL01\n",
      "extracting: MO20WOA01\n",
      "extracting: AB20MEN01\n",
      "extracting: QU96ESV01\n",
      "extracting: DE13HAI01\n",
      "extracting: LI94SEC01\n",
      "extracting: ZI15CLE01\n",
      "extracting: MU18RED02\n",
      "extracting: ZI08MAY01\n",
      "extracting: TU01DEP01\n",
      "extracting: CO03PAL04\n",
      "extracting: RA19PAI01\n",
      "extracting: AB15BHB01\n",
      "extracting: FL18DTO01\n",
      "extracting: MO20KOI01\n",
      "extracting: DU94URV01\n",
      "extracting: CO03PAL08\n",
      "extracting: WU14CLI01\n",
      "extracting: ZI14TUR01\n",
      "extracting: AB20MEN02\n",
      "extracting: LI99CLI01\n",
      "extracting: ZI15BUN01\n",
      "extracting: FE18RUS01\n",
      "extracting: WU13TON01\n",
      "extracting: KI14PAR01\n",
      "extracting: ZI14IFR02\n",
      "extracting: XU15BVI02\n",
      "extracting: KI08PAR01\n",
      "extracting: AB20MEN06\n",
      "extracting: AB08MEN01\n",
      "extracting: NU09KIR01\n",
      "extracting: RI10PBL01\n",
      "extracting: CA14BUT01\n",
      "extracting: FL18DTO02\n",
      "extracting: FL18DTO04\n",
      "extracting: BA04FIJ01\n",
      "extracting: HE02GBR01\n",
      "extracting: GO08BER01\n",
      "extracting: CA13TUR01\n",
      "extracting: LI06FIJ01\n",
      "extracting: HE18COC01\n",
      "extracting: FL17DTO01\n",
      "extracting: BO99MOO01\n",
      "extracting: CH03LOM01\n",
      "extracting: SA19PAL01\n",
      "extracting: CH97BVB01\n",
      "extracting: RA20TAI01\n",
      "Created time series: 608 entries\n"
     ]
    }
   ],
   "source": [
    "# load LiPD files from the given directory\n",
    "\n",
    "D = lipd.readLipd(os.getcwd()+'/ch2k/lipdfiles/');\n",
    "TS = lipd.extractTs(D);\n",
    "len(TS)\n",
    "os.chdir(os.getcwd()+'/../..')"
   ]
  },
  {
   "cell_type": "markdown",
   "metadata": {},
   "source": [
    "# Create compact dataframe"
   ]
  },
  {
   "cell_type": "markdown",
   "metadata": {},
   "source": [
    "## Dataframe construction"
   ]
  },
  {
   "cell_type": "code",
   "execution_count": 7,
   "metadata": {},
   "outputs": [],
   "source": [
    "# create a null DataFrame with desired columns\n",
    "\n",
    "col_str=['archiveType', 'dataSetName', 'datasetId', 'geo_meanElev', 'geo_meanLat', 'geo_meanLon', 'geo_siteName', \n",
    "         'originalDataUrl', 'paleoData_notes', 'paleoData_variableName',\n",
    "         'paleoData_archiveSpecies','paleoData_units', 'paleoData_values', 'year']\n",
    "\n",
    "df_tmp = pd.DataFrame(index=range(len(TS)), columns=col_str)"
   ]
  },
  {
   "cell_type": "code",
   "execution_count": 8,
   "metadata": {
    "scrolled": true
   },
   "outputs": [],
   "source": [
    "# loop over the timeseries and pick those for global temperature analysis\n",
    "i = 0                                                                                                                \n",
    "for ts in TS: #for every time series\n",
    "    # need to filter these variables in the list\n",
    "    if ts['paleoData_variableName'] not in ['year', 'd18OUncertainty', 'SrCaUncertainty']: #filter out all ts with thee three as the var name\n",
    "        for name in col_str:     #for each of the 12 main keys, shove the wanted data into the df                                                                                    \n",
    "            try:\n",
    "                df_tmp.loc[i, name] = ts[name]                                                                       \n",
    "            except:\n",
    "                df_tmp.loc[i, name] = np.nan                                                                         \n",
    "    \n",
    "    i += 1 \n",
    "        \n",
    "# drop the rows with all NaNs (those not for global temperature analysis)\n",
    "df = df_tmp.dropna(how='all')"
   ]
  },
  {
   "cell_type": "code",
   "execution_count": 9,
   "metadata": {},
   "outputs": [
    {
     "data": {
      "text/plain": [
       "{'SrCa', 'SrCa_annual', 'd18O', 'd18O_annual', 'd18O_sw', 'd18O_sw_annual'}"
      ]
     },
     "execution_count": 9,
     "metadata": {},
     "output_type": "execute_result"
    }
   ],
   "source": [
    "# double check the variable names we have\n",
    "set(df['paleoData_variableName'])"
   ]
  },
  {
   "cell_type": "code",
   "execution_count": 10,
   "metadata": {
    "scrolled": true
   },
   "outputs": [],
   "source": [
    "# KF: adding original dataset name and yearUnits\n",
    "df.insert(7, 'originalDatabase', ['CoralHydro2k v1.0.0']*len(df))\n",
    "df.insert(len(df.columns), 'yearUnits', ['CE'] * len(df))\n",
    "df.insert(1, 'climateInterpretation_variable', ['N/A']*len(df))\n",
    "df.insert(1, 'climateInterpretation_variableDetail', ['N/A']*len(df))"
   ]
  },
  {
   "cell_type": "code",
   "execution_count": 11,
   "metadata": {
    "scrolled": true
   },
   "outputs": [],
   "source": [
    "# Rename columns to fit naming conventions\n",
    "df = df.rename(columns={'paleoData_variableName': 'paleoData_proxy', 'originalDataUrl': 'originalDataURL',\n",
    "                        'paleoData_archiveSpecies': 'paleoData_sensorSpecies'})"
   ]
  },
  {
   "cell_type": "code",
   "execution_count": 12,
   "metadata": {},
   "outputs": [],
   "source": [
    "# assign climateInterpretation_variable\n",
    "\n",
    "# d18O is temperature and moisture\n",
    "df.loc[np.isin(df['paleoData_proxy'], ['d18O', 'd18O_annual']), 'climateInterpretation_variable']='temperature+moisture' \n",
    "df.loc[np.isin(df['paleoData_proxy'], ['d18O', 'd18O_annual']), 'climateInterpretation_variableDetail']='temperature+moisture - manually assigned by DoD2k authors for paleoData_proxy = d18O' \n",
    "# d18O_sw is moisture\n",
    "df.loc[np.isin(df['paleoData_proxy'], ['d18O_sw', 'd18O_sw_annual']), 'climateInterpretation_variable']='moisture' \n",
    "df.loc[np.isin(df['paleoData_proxy'], ['d18O_sw', 'd18O_sw_annual']), 'climateInterpretation_variableDetail']='moisture - manually assigned by DoD2k authors for paleoData_proxy = d18O_sw' \n",
    "# SrCa is temperature\n",
    "df.loc[np.isin(df['paleoData_proxy'], ['SrCa', 'SrCa_annual']), 'climateInterpretation_variable']='temperature' \n",
    "df.loc[np.isin(df['paleoData_proxy'], ['SrCa', 'SrCa_annual']), 'climateInterpretation_variableDetail']='temperature - manually assigned by DoD2k authors for paleoData_proxy = Sr/Ca' \n"
   ]
  },
  {
   "cell_type": "code",
   "execution_count": 13,
   "metadata": {
    "scrolled": true
   },
   "outputs": [
    {
     "name": "stdout",
     "output_type": "stream",
     "text": [
      "Number of rows discarded:  0\n"
     ]
    }
   ],
   "source": [
    "import re\n",
    "# KF: Extract and exclude sw values\n",
    "df_sw = df[df['paleoData_proxy'].isin(['d18O_sw', 'd18O_sw_annual'])]\n",
    "df = df[df['paleoData_proxy'].isin(['d18O_sw', 'd18O_sw_annual']) == False]\n",
    "# KF: I was told to exclude the SW data for the concatented data by Mike\n",
    "\n",
    "# KF: Turn annual measurements into regular\n",
    "df_annual = df[df['paleoData_proxy'].isin(['SrCa_annual', 'd18O_annual'])]\n",
    "df ['paleoData_proxy'] = df['paleoData_proxy'].apply(lambda x: re.match(r'(.*)_annual', x).group(1) if re.match(r'(.*)_annual', x) else x)\n",
    "\n",
    "# KF: Replace SrCa with Sr/Ca for concat consistency\n",
    "df_annual = df[df['paleoData_proxy'].isin(['SrCa_annual', 'd18O_annual'])]\n",
    "df ['paleoData_proxy'] = df['paleoData_proxy'].apply(lambda x: 'Sr/Ca' if re.match('SrCa', x) else x)\n",
    "\n",
    "# KF: Temp cleaning rows with NAN in year\n",
    "length = len(df['year'])\n",
    "df = df[df['year'].notna()]\n",
    "df = df[df['year'].map(lambda x: len(x) > 0)]\n",
    "df = df[df['paleoData_values'].map(lambda x: not any(pd.isnull(x)))]\n",
    "print('Number of rows discarded: ', (length - len(df['year'])))\n",
    "\n",
    "# KF: Make datasetIds unique\n",
    "df['datasetId'] = df['datasetId'] + np.array(df.index, dtype = str)"
   ]
  },
  {
   "cell_type": "code",
   "execution_count": 14,
   "metadata": {},
   "outputs": [],
   "source": [
    "# KF: Type-checking\n",
    "\n",
    "df = df.astype({'archiveType': str, 'dataSetName': str, 'datasetId': str, 'geo_meanElev': np.float32, 'geo_meanLat': np.float32, 'geo_meanLon': np.float32, 'geo_siteName': str, \n",
    "                    'originalDatabase': str, 'originalDataURL': str, 'paleoData_notes': str, 'paleoData_proxy': str, 'paleoData_units': str, 'yearUnits': str})\n",
    "df['year']             = df['year'].map(lambda x: np.array(x, dtype = np.float32))\n",
    "df['paleoData_values'] = df['paleoData_values'].map(lambda x: np.array(x, dtype = np.float32))"
   ]
  },
  {
   "cell_type": "code",
   "execution_count": 15,
   "metadata": {},
   "outputs": [],
   "source": [
    "for ii in df.index:\n",
    "    year = np.array(df.at[ii, 'year'], dtype=float)\n",
    "    vals = np.array(df.at[ii, 'paleoData_values'], dtype=float)\n",
    "    df.at[ii, 'year']             = year[year>=1]\n",
    "    df.at[ii, 'paleoData_values'] = vals[year>=1]"
   ]
  },
  {
   "cell_type": "code",
   "execution_count": 16,
   "metadata": {},
   "outputs": [
    {
     "name": "stdout",
     "output_type": "stream",
     "text": [
      "<class 'pandas.core.frame.DataFrame'>\n",
      "RangeIndex: 272 entries, 0 to 271\n",
      "Data columns (total 18 columns):\n",
      " #   Column                                Non-Null Count  Dtype  \n",
      "---  ------                                --------------  -----  \n",
      " 0   archiveType                           272 non-null    object \n",
      " 1   climateInterpretation_variable        272 non-null    object \n",
      " 2   climateInterpretation_variableDetail  272 non-null    object \n",
      " 3   dataSetName                           272 non-null    object \n",
      " 4   datasetId                             272 non-null    object \n",
      " 5   geo_meanElev                          229 non-null    float32\n",
      " 6   geo_meanLat                           272 non-null    float32\n",
      " 7   geo_meanLon                           272 non-null    float32\n",
      " 8   geo_siteName                          272 non-null    object \n",
      " 9   originalDataURL                       272 non-null    object \n",
      " 10  originalDatabase                      272 non-null    object \n",
      " 11  paleoData_notes                       272 non-null    object \n",
      " 12  paleoData_proxy                       272 non-null    object \n",
      " 13  paleoData_sensorSpecies               272 non-null    object \n",
      " 14  paleoData_units                       272 non-null    object \n",
      " 15  paleoData_values                      272 non-null    object \n",
      " 16  year                                  272 non-null    object \n",
      " 17  yearUnits                             272 non-null    object \n",
      "dtypes: float32(3), object(15)\n",
      "memory usage: 35.2+ KB\n",
      "None\n"
     ]
    }
   ],
   "source": [
    "# Display dataframe\n",
    "\n",
    "df = df[sorted(df.columns)]\n",
    "df.reset_index(drop= True, inplace= True)\n",
    "print(df.info())"
   ]
  },
  {
   "cell_type": "code",
   "execution_count": 17,
   "metadata": {},
   "outputs": [
    {
     "name": "stdout",
     "output_type": "stream",
     "text": [
      "272\n",
      "272\n"
     ]
    }
   ],
   "source": [
    "#  check that the datasetId is unique - it currently is not (df has 272 records).\n",
    "print(len(df.datasetId.unique()))\n",
    "# make datasetId unique by simply adding index number\n",
    "df.datasetId=df.apply(lambda x: x.datasetId.replace('ch2k','ch2k_')+'_'+str(x.name), axis=1)\n",
    "# check uniqueness - problem solved.\n",
    "print(len(df.datasetId.unique()))"
   ]
  },
  {
   "cell_type": "code",
   "execution_count": 18,
   "metadata": {},
   "outputs": [],
   "source": [
    "# KF: apply -9999.99 masking to nans\n",
    "df['paleoData_values'] = df['paleoData_values'].map(lambda x: [-9999.99 if pd.isnull(y) else y for y in x])\n",
    "df['paleoData_values'] = df['paleoData_values'].map(lambda x: [-9999.99 if y == 'nan' else y for y in x])\n",
    "df['paleoData_values'] = df['paleoData_values'].map(lambda x: [-9999.99 if np.isnan(y) else y for y in x])\n",
    "\n",
    "df['year'] = df['year'].map(lambda x: [-9999.99 if pd.isnull(y) else y for y in x])\n",
    "df['year'] = df['year'].map(lambda x: [-9999.99 if y == 'nan' else y for y in x])\n",
    "df['year'] = df['year'].map(lambda x: [-9999.99 if np.isnan(y) else y for y in x])"
   ]
  },
  {
   "cell_type": "code",
   "execution_count": 19,
   "metadata": {},
   "outputs": [
    {
     "name": "stdout",
     "output_type": "stream",
     "text": [
      "[]\n"
     ]
    }
   ],
   "source": [
    "# drop nans \n",
    "\n",
    "for ii in df.index:\n",
    "    dd   = np.array(df.at[ii, 'paleoData_values'])\n",
    "    mask = dd==-9999.99\n",
    "    df.at[ii, 'paleoData_values']=dd[~mask]\n",
    "    df.at[ii, 'year']=np.array(df.at[ii, 'year'])[~mask]\n",
    "    \n",
    "drop_inds = []\n",
    "for ii in range(df.shape[0]):\n",
    "    # print(df.iloc[ii]['year'])\n",
    "    if len(df.iloc[ii]['year'])==0:\n",
    "        print('empty', ii, df.iloc[ii]['year'], df.iloc[ii]['originalDatabase'])\n",
    "        print(df.iloc[ii]['paleoData_values'])\n",
    "        drop_inds += [df.index[ii]]\n",
    "\n",
    "for ii, row in enumerate(df.paleoData_values):\n",
    "    if np.std(row)==0: \n",
    "        print(ii, 'std=0')\n",
    "    elif np.sum(np.diff(row)**2)==0: \n",
    "        print(ii, 'diff=0')\n",
    "    elif np.isnan(np.std(row)):\n",
    "        print(ii, 'std nan')\n",
    "    else:\n",
    "        continue\n",
    "    if df.index[ii] not in drop_inds: \n",
    "        drop_inds += [df.index[ii]]\n",
    "    \n",
    "print(drop_inds)\n",
    "df = df.drop(index=drop_inds)"
   ]
  },
  {
   "cell_type": "code",
   "execution_count": 20,
   "metadata": {},
   "outputs": [
    {
     "name": "stdout",
     "output_type": "stream",
     "text": [
      "<class 'pandas.core.frame.DataFrame'>\n",
      "RangeIndex: 272 entries, 0 to 271\n",
      "Data columns (total 18 columns):\n",
      " #   Column                                Non-Null Count  Dtype  \n",
      "---  ------                                --------------  -----  \n",
      " 0   archiveType                           272 non-null    object \n",
      " 1   climateInterpretation_variable        272 non-null    object \n",
      " 2   climateInterpretation_variableDetail  272 non-null    object \n",
      " 3   dataSetName                           272 non-null    object \n",
      " 4   datasetId                             272 non-null    object \n",
      " 5   geo_meanElev                          229 non-null    float32\n",
      " 6   geo_meanLat                           272 non-null    float32\n",
      " 7   geo_meanLon                           272 non-null    float32\n",
      " 8   geo_siteName                          272 non-null    object \n",
      " 9   originalDataURL                       272 non-null    object \n",
      " 10  originalDatabase                      272 non-null    object \n",
      " 11  paleoData_notes                       272 non-null    object \n",
      " 12  paleoData_proxy                       272 non-null    object \n",
      " 13  paleoData_sensorSpecies               272 non-null    object \n",
      " 14  paleoData_units                       272 non-null    object \n",
      " 15  paleoData_values                      272 non-null    object \n",
      " 16  year                                  272 non-null    object \n",
      " 17  yearUnits                             272 non-null    object \n",
      "dtypes: float32(3), object(15)\n",
      "memory usage: 35.2+ KB\n",
      "None\n"
     ]
    }
   ],
   "source": [
    "print(df.info())"
   ]
  },
  {
   "cell_type": "markdown",
   "metadata": {},
   "source": [
    "## save compact dataframe"
   ]
  },
  {
   "cell_type": "markdown",
   "metadata": {},
   "source": [
    "### save pickle"
   ]
  },
  {
   "cell_type": "code",
   "execution_count": 21,
   "metadata": {},
   "outputs": [
    {
     "name": "stdout",
     "output_type": "stream",
     "text": [
      "<class 'pandas.core.frame.DataFrame'>\n",
      "RangeIndex: 272 entries, 0 to 271\n",
      "Data columns (total 18 columns):\n",
      " #   Column                                Non-Null Count  Dtype  \n",
      "---  ------                                --------------  -----  \n",
      " 0   archiveType                           272 non-null    object \n",
      " 1   climateInterpretation_variable        272 non-null    object \n",
      " 2   climateInterpretation_variableDetail  272 non-null    object \n",
      " 3   dataSetName                           272 non-null    object \n",
      " 4   datasetId                             272 non-null    object \n",
      " 5   geo_meanElev                          229 non-null    float32\n",
      " 6   geo_meanLat                           272 non-null    float32\n",
      " 7   geo_meanLon                           272 non-null    float32\n",
      " 8   geo_siteName                          272 non-null    object \n",
      " 9   originalDataURL                       272 non-null    object \n",
      " 10  originalDatabase                      272 non-null    object \n",
      " 11  paleoData_notes                       272 non-null    object \n",
      " 12  paleoData_proxy                       272 non-null    object \n",
      " 13  paleoData_sensorSpecies               272 non-null    object \n",
      " 14  paleoData_units                       272 non-null    object \n",
      " 15  paleoData_values                      272 non-null    object \n",
      " 16  year                                  272 non-null    object \n",
      " 17  yearUnits                             272 non-null    object \n",
      "dtypes: float32(3), object(15)\n",
      "memory usage: 35.2+ KB\n"
     ]
    }
   ],
   "source": [
    "df.info()"
   ]
  },
  {
   "cell_type": "code",
   "execution_count": 22,
   "metadata": {},
   "outputs": [],
   "source": [
    "# save to a pickle file\n",
    "df.to_pickle('ch2k/ch2k_compact.pkl')"
   ]
  },
  {
   "cell_type": "markdown",
   "metadata": {},
   "source": [
    "### save csv"
   ]
  },
  {
   "cell_type": "code",
   "execution_count": 23,
   "metadata": {},
   "outputs": [
    {
     "name": "stdout",
     "output_type": "stream",
     "text": [
      "METADATA: archiveType, climateInterpretation_variable, climateInterpretation_variableDetail, dataSetName, datasetId, geo_meanElev, geo_meanLat, geo_meanLon, geo_siteName, originalDataURL, originalDatabase, paleoData_notes, paleoData_proxy, paleoData_sensorSpecies, paleoData_units, yearUnits\n",
      "Saved to /home/jupyter-mnevans/dod2k/ch2k/ch2k_compact_%s.csv\n"
     ]
    }
   ],
   "source": [
    "# save to a list of csv files (metadata, data, year)\n",
    "df.name='ch2k'\n",
    "f.write_compact_dataframe_to_csv(df)"
   ]
  },
  {
   "cell_type": "code",
   "execution_count": 24,
   "metadata": {},
   "outputs": [
    {
     "name": "stdout",
     "output_type": "stream",
     "text": [
      "<class 'pandas.core.frame.DataFrame'>\n",
      "RangeIndex: 272 entries, 0 to 271\n",
      "Data columns (total 18 columns):\n",
      " #   Column                                Non-Null Count  Dtype  \n",
      "---  ------                                --------------  -----  \n",
      " 0   archiveType                           272 non-null    object \n",
      " 1   climateInterpretation_variable        272 non-null    object \n",
      " 2   climateInterpretation_variableDetail  272 non-null    object \n",
      " 3   dataSetName                           272 non-null    object \n",
      " 4   datasetId                             272 non-null    object \n",
      " 5   geo_meanElev                          229 non-null    float32\n",
      " 6   geo_meanLat                           272 non-null    float32\n",
      " 7   geo_meanLon                           272 non-null    float32\n",
      " 8   geo_siteName                          272 non-null    object \n",
      " 9   originalDataURL                       272 non-null    object \n",
      " 10  originalDatabase                      272 non-null    object \n",
      " 11  paleoData_notes                       272 non-null    object \n",
      " 12  paleoData_proxy                       272 non-null    object \n",
      " 13  paleoData_sensorSpecies               272 non-null    object \n",
      " 14  paleoData_units                       272 non-null    object \n",
      " 15  paleoData_values                      272 non-null    object \n",
      " 16  year                                  272 non-null    object \n",
      " 17  yearUnits                             272 non-null    object \n",
      "dtypes: float32(3), object(15)\n",
      "memory usage: 35.2+ KB\n"
     ]
    }
   ],
   "source": [
    "# load dataframe\n",
    "f.load_compact_dataframe_from_csv('ch2k').info()"
   ]
  },
  {
   "cell_type": "markdown",
   "metadata": {},
   "source": [
    "# check output"
   ]
  },
  {
   "cell_type": "markdown",
   "metadata": {},
   "source": [
    "## dataset metadata: dataSetName, datasetId, originalDataURL, originalDatabase"
   ]
  },
  {
   "cell_type": "markdown",
   "metadata": {},
   "source": [
    "### index"
   ]
  },
  {
   "cell_type": "code",
   "execution_count": 25,
   "metadata": {},
   "outputs": [
    {
     "name": "stdout",
     "output_type": "stream",
     "text": [
      "RangeIndex(start=0, stop=272, step=1)\n"
     ]
    }
   ],
   "source": [
    "# # check index\n",
    "print(df.index)"
   ]
  },
  {
   "cell_type": "markdown",
   "metadata": {},
   "source": [
    "### dataSetName"
   ]
  },
  {
   "cell_type": "code",
   "execution_count": 26,
   "metadata": {},
   "outputs": [
    {
     "name": "stdout",
     "output_type": "stream",
     "text": [
      "dataSetName: \n",
      "['CH03BUN01' 'ZI15MER01' 'ZI15MER01' 'CO03PAL03' 'CO03PAL02' 'CA13PEL01'\n",
      " 'LI06RAR01' 'CO03PAL07' 'FL18DTO03' 'SM06LKF02' 'SM06LKF02' 'UR00MAI01'\n",
      " 'TU95MAD01' 'ZI04IFR01' 'ZI04IFR01' 'RE18CAY01' 'RE18CAY01' 'RE18CAY01'\n",
      " 'RE18CAY01' 'KU99HOU01' 'OS13NLP01' 'EV98KIR01' 'LI00RAR01' 'LI00RAR01'\n",
      " 'NU11PAL01' 'NU11PAL01' 'MA08DTO01' 'MA08DTO01' 'AB20MEN03' 'CA14TIM01'\n",
      " 'CA14TIM01' 'KA17RYU01' 'MC11KIR01' 'AB20MEN09' 'HE08LRA01' 'DA06MAF01'\n",
      " 'SM06LKF01' 'SM06LKF01' 'NA09MAL01' 'SW98STP01' 'MU18GSI01' 'MU18GSI01'\n",
      " 'ZI14HOU01' 'ZI14HOU01' 'ZI14HOU01' 'ZI14HOU01' 'FL17DTO02' 'FL17DTO02'\n",
      " 'DA06MAF02' 'SA19PAL02' 'SA19PAL02' 'CO03PAL01' 'ZI16ROD01' 'OS13NGP01'\n",
      " 'CH98PIR01' 'RE19GBR02' 'RE19GBR02' 'MU18RED04' 'MU18RED04' 'GR13MAD01'\n",
      " 'XI17HAI01' 'XI17HAI01' 'XI17HAI01' 'XI17HAI01' 'DE14DTO03' 'KL97DAH01'\n",
      " 'QU06RAB01' 'QU06RAB01' 'DE14DTO01' 'KU00NIN01' 'TU01SIA01' 'RE19GBR01'\n",
      " 'RE19GBR01' 'GR13MAD02' 'AB20MEN07' 'BR19RED01' 'BR19RED01' 'NU09FAN01'\n",
      " 'NU09FAN01' 'MU18RED01' 'OS14RIP01' 'DE14DTO02' 'LI04FIJ01' 'LI04FIJ01'\n",
      " 'EV18ROC01' 'EV18ROC01' 'CA13SAP01' 'JI18GAL02' 'TU01LAI01' 'HE13MIS01'\n",
      " 'HE13MIS01' 'GU99NAU02' 'ZI15IMP02' 'ZI15IMP02' 'PF04PBA01' 'SA20FAN02'\n",
      " 'WE09ARR01' 'WE09ARR01' 'CO03PAL05' 'XU15BVI01' 'HE18COC02' 'HE18COC02'\n",
      " 'MU18NPI01' 'MU18NPI01' 'MO06PED01' 'KR20SAR01' 'KR20SAR01' 'SA18GBR01'\n",
      " 'OS14UCP01' 'AB20MEN08' 'HE13MIS02' 'HE13MIS02' 'HE10GUA01' 'HE10GUA01'\n",
      " 'HE10GUA01' 'HE10GUA01' 'BO14HTI01' 'BO14HTI01' 'DE12ANC01' 'WA17BAN01'\n",
      " 'WA17BAN01' 'DR99ABR01' 'DR99ABR01' 'RO19MAR01' 'LI06RAR02' 'MU18RED03'\n",
      " 'SW99LIG01' 'SA16CLA01' 'ZI15TAN01' 'ZI15TAN01' 'RE19GBR03' 'RE19GBR03'\n",
      " 'DR00KSB01' 'BO14HTI02' 'BO14HTI02' 'MU17DOA01' 'TA18TAS01' 'XU15BVI03'\n",
      " 'DU94URV02' 'DU94URV02' 'AS05GUA01' 'FE09OGA01' 'FE09OGA01' 'FE09OGA01'\n",
      " 'FE09OGA01' 'GU99NAU01' 'SA20FAN01' 'CA13DIA01' 'AL16PUR02' 'CO03PAL10'\n",
      " 'RE19GBR05' 'ZI15IMP01' 'ZI15IMP01' 'KR20SAR02' 'KR20SAR02' 'RO19YUC01'\n",
      " 'RO19YUC01' 'ST13MAL01' 'ST13MAL01' 'DR00NBB01' 'PF19LAR01' 'PF19LAR01'\n",
      " 'AL16YUC01' 'CO03PAL09' 'ZI16ROD02' 'AB20MEN05' 'SH92PUN01' 'KI04MCV01'\n",
      " 'KI04MCV01' 'AL16PUR01' 'CH18YOA02' 'DE14DTO04' 'AB20MEN04' 'DE16RED01'\n",
      " 'BA04FIJ02' 'BA04FIJ02' 'CO03PAL06' 'JI18GAL01' 'CH18YOA01' 'RE19GBR04'\n",
      " 'DO18DAV01' 'GO12SBV01' 'GO12SBV01' 'CA07FLI01' 'CA07FLI01' 'SW99LIG02'\n",
      " 'MC04PNG01' 'CO93TAR01' 'RO19PAR01' 'CO00MAL01' 'MO20WOA01' 'MO20WOA01'\n",
      " 'AB20MEN01' 'QU96ESV01' 'DE13HAI01' 'DE13HAI01' 'DE13HAI01' 'DE13HAI01'\n",
      " 'LI94SEC01' 'ZI15CLE01' 'ZI15CLE01' 'MU18RED02' 'ZI08MAY01' 'ZI08MAY01'\n",
      " 'TU01DEP01' 'CO03PAL04' 'RA19PAI01' 'RA19PAI01' 'AB15BHB01' 'FL18DTO01'\n",
      " 'MO20KOI01' 'MO20KOI01' 'DU94URV01' 'DU94URV01' 'CO03PAL08' 'WU14CLI01'\n",
      " 'WU14CLI01' 'ZI14TUR01' 'ZI14TUR01' 'AB20MEN02' 'LI99CLI01' 'ZI15BUN01'\n",
      " 'ZI15BUN01' 'FE18RUS01' 'FE18RUS01' 'FE18RUS01' 'FE18RUS01' 'WU13TON01'\n",
      " 'WU13TON01' 'WU13TON01' 'WU13TON01' 'KI14PAR01' 'KI14PAR01' 'KI14PAR01'\n",
      " 'KI14PAR01' 'ZI14IFR02' 'ZI14IFR02' 'XU15BVI02' 'KI08PAR01' 'KI08PAR01'\n",
      " 'KI08PAR01' 'KI08PAR01' 'AB20MEN06' 'AB08MEN01' 'NU09KIR01' 'NU09KIR01'\n",
      " 'RI10PBL01' 'CA14BUT01' 'CA14BUT01' 'FL18DTO02' 'FL18DTO04' 'BA04FIJ01'\n",
      " 'BA04FIJ01' 'HE02GBR01' 'HE02GBR01' 'GO08BER01' 'GO08BER01' 'GO08BER01'\n",
      " 'GO08BER01' 'CA13TUR01' 'LI06FIJ01' 'HE18COC01' 'HE18COC01' 'FL17DTO01'\n",
      " 'FL17DTO01' 'BO99MOO01' 'CH03LOM01' 'SA19PAL01' 'SA19PAL01' 'CH97BVB01'\n",
      " 'RA20TAI01' 'RA20TAI01']\n"
     ]
    }
   ],
   "source": [
    "# # check dataSetName\n",
    "key = 'dataSetName'\n",
    "print('%s: '%key)\n",
    "print(df[key].values)"
   ]
  },
  {
   "cell_type": "markdown",
   "metadata": {},
   "source": [
    "### datasetId"
   ]
  },
  {
   "cell_type": "code",
   "execution_count": 27,
   "metadata": {},
   "outputs": [
    {
     "name": "stdout",
     "output_type": "stream",
     "text": [
      "272\n",
      "272\n",
      "datasetId (starts with): \n",
      "['ch2k_CH03BUN010_0' 'ch2k_ZI15MER012_1' 'ch2k_ZI15MER014_2'\n",
      " 'ch2k_CO03PAL036_3' 'ch2k_CO03PAL028_4' 'ch2k_CA13PEL0110_5'\n",
      " 'ch2k_LI06RAR0112_6' 'ch2k_CO03PAL0714_7' 'ch2k_FL18DTO0316_8'\n",
      " 'ch2k_SM06LKF0218_9' 'ch2k_SM06LKF0220_10' 'ch2k_UR00MAI0122_11'\n",
      " 'ch2k_TU95MAD0124_12' 'ch2k_ZI04IFR0126_13' 'ch2k_ZI04IFR0128_14'\n",
      " 'ch2k_RE18CAY0130_15' 'ch2k_RE18CAY0132_16' 'ch2k_RE18CAY0134_17'\n",
      " 'ch2k_RE18CAY0136_18' 'ch2k_KU99HOU0140_19' 'ch2k_OS13NLP0142_20'\n",
      " 'ch2k_EV98KIR0144_21' 'ch2k_LI00RAR0146_22' 'ch2k_LI00RAR0148_23'\n",
      " 'ch2k_NU11PAL0152_24' 'ch2k_NU11PAL0154_25' 'ch2k_MA08DTO0158_26'\n",
      " 'ch2k_MA08DTO0160_27' 'ch2k_AB20MEN0362_28' 'ch2k_CA14TIM0164_29'\n",
      " 'ch2k_CA14TIM0166_30' 'ch2k_KA17RYU0170_31' 'ch2k_MC11KIR0172_32'\n",
      " 'ch2k_AB20MEN0974_33' 'ch2k_HE08LRA0176_34' 'ch2k_DA06MAF0178_35'\n",
      " 'ch2k_SM06LKF0180_36' 'ch2k_SM06LKF0182_37' 'ch2k_NA09MAL0184_38'\n",
      " 'ch2k_SW98STP0186_39' 'ch2k_MU18GSI0188_40' 'ch2k_MU18GSI0190_41'\n",
      " 'ch2k_ZI14HOU0192_42' 'ch2k_ZI14HOU0194_43' 'ch2k_ZI14HOU0196_44'\n",
      " 'ch2k_ZI14HOU0198_45' 'ch2k_FL17DTO02100_46' 'ch2k_FL17DTO02102_47'\n",
      " 'ch2k_DA06MAF02104_48' 'ch2k_SA19PAL02106_49' 'ch2k_SA19PAL02108_50'\n",
      " 'ch2k_CO03PAL01110_51' 'ch2k_ZI16ROD01112_52' 'ch2k_OS13NGP01114_53'\n",
      " 'ch2k_CH98PIR01116_54' 'ch2k_RE19GBR02118_55' 'ch2k_RE19GBR02120_56'\n",
      " 'ch2k_MU18RED04122_57' 'ch2k_MU18RED04124_58' 'ch2k_GR13MAD01126_59'\n",
      " 'ch2k_XI17HAI01128_60' 'ch2k_XI17HAI01130_61' 'ch2k_XI17HAI01134_62'\n",
      " 'ch2k_XI17HAI01136_63' 'ch2k_DE14DTO03140_64' 'ch2k_KL97DAH01142_65'\n",
      " 'ch2k_QU06RAB01144_66' 'ch2k_QU06RAB01146_67' 'ch2k_DE14DTO01148_68'\n",
      " 'ch2k_KU00NIN01150_69' 'ch2k_TU01SIA01152_70' 'ch2k_RE19GBR01154_71'\n",
      " 'ch2k_RE19GBR01156_72' 'ch2k_GR13MAD02158_73' 'ch2k_AB20MEN07160_74'\n",
      " 'ch2k_BR19RED01162_75' 'ch2k_BR19RED01164_76' 'ch2k_NU09FAN01166_77'\n",
      " 'ch2k_NU09FAN01168_78' 'ch2k_MU18RED01172_79' 'ch2k_OS14RIP01174_80'\n",
      " 'ch2k_DE14DTO02176_81' 'ch2k_LI04FIJ01178_82' 'ch2k_LI04FIJ01180_83'\n",
      " 'ch2k_EV18ROC01184_84' 'ch2k_EV18ROC01186_85' 'ch2k_CA13SAP01188_86'\n",
      " 'ch2k_JI18GAL02190_87' 'ch2k_TU01LAI01192_88' 'ch2k_HE13MIS01194_89'\n",
      " 'ch2k_HE13MIS01196_90' 'ch2k_GU99NAU02198_91' 'ch2k_ZI15IMP02200_92'\n",
      " 'ch2k_ZI15IMP02202_93' 'ch2k_PF04PBA01204_94' 'ch2k_SA20FAN02206_95'\n",
      " 'ch2k_WE09ARR01208_96' 'ch2k_WE09ARR01210_97' 'ch2k_CO03PAL05212_98'\n",
      " 'ch2k_XU15BVI01214_99' 'ch2k_HE18COC02216_100' 'ch2k_HE18COC02218_101'\n",
      " 'ch2k_MU18NPI01222_102' 'ch2k_MU18NPI01224_103' 'ch2k_MO06PED01226_104'\n",
      " 'ch2k_KR20SAR01228_105' 'ch2k_KR20SAR01230_106' 'ch2k_SA18GBR01234_107'\n",
      " 'ch2k_OS14UCP01236_108' 'ch2k_AB20MEN08238_109' 'ch2k_HE13MIS02240_110'\n",
      " 'ch2k_HE13MIS02242_111' 'ch2k_HE10GUA01244_112' 'ch2k_HE10GUA01246_113'\n",
      " 'ch2k_HE10GUA01248_114' 'ch2k_HE10GUA01250_115' 'ch2k_BO14HTI01252_116'\n",
      " 'ch2k_BO14HTI01254_117' 'ch2k_DE12ANC01258_118' 'ch2k_WA17BAN01260_119'\n",
      " 'ch2k_WA17BAN01262_120' 'ch2k_DR99ABR01264_121' 'ch2k_DR99ABR01266_122'\n",
      " 'ch2k_RO19MAR01268_123' 'ch2k_LI06RAR02270_124' 'ch2k_MU18RED03272_125'\n",
      " 'ch2k_SW99LIG01274_126' 'ch2k_SA16CLA01276_127' 'ch2k_ZI15TAN01278_128'\n",
      " 'ch2k_ZI15TAN01280_129' 'ch2k_RE19GBR03282_130' 'ch2k_RE19GBR03284_131'\n",
      " 'ch2k_DR00KSB01286_132' 'ch2k_BO14HTI02288_133' 'ch2k_BO14HTI02290_134'\n",
      " 'ch2k_MU17DOA01292_135' 'ch2k_TA18TAS01294_136' 'ch2k_XU15BVI03296_137'\n",
      " 'ch2k_DU94URV02298_138' 'ch2k_DU94URV02300_139' 'ch2k_AS05GUA01302_140'\n",
      " 'ch2k_FE09OGA01304_141' 'ch2k_FE09OGA01306_142' 'ch2k_FE09OGA01308_143'\n",
      " 'ch2k_FE09OGA01310_144' 'ch2k_GU99NAU01314_145' 'ch2k_SA20FAN01316_146'\n",
      " 'ch2k_CA13DIA01318_147' 'ch2k_AL16PUR02320_148' 'ch2k_CO03PAL10324_149'\n",
      " 'ch2k_RE19GBR05326_150' 'ch2k_ZI15IMP01328_151' 'ch2k_ZI15IMP01330_152'\n",
      " 'ch2k_KR20SAR02332_153' 'ch2k_KR20SAR02334_154' 'ch2k_RO19YUC01338_155'\n",
      " 'ch2k_RO19YUC01340_156' 'ch2k_ST13MAL01344_157' 'ch2k_ST13MAL01346_158'\n",
      " 'ch2k_DR00NBB01348_159' 'ch2k_PF19LAR01350_160' 'ch2k_PF19LAR01352_161'\n",
      " 'ch2k_AL16YUC01354_162' 'ch2k_CO03PAL09358_163' 'ch2k_ZI16ROD02360_164'\n",
      " 'ch2k_AB20MEN05362_165' 'ch2k_SH92PUN01364_166' 'ch2k_KI04MCV01366_167'\n",
      " 'ch2k_KI04MCV01368_168' 'ch2k_AL16PUR01370_169' 'ch2k_CH18YOA02374_170'\n",
      " 'ch2k_DE14DTO04376_171' 'ch2k_AB20MEN04378_172' 'ch2k_DE16RED01380_173'\n",
      " 'ch2k_BA04FIJ02382_174' 'ch2k_BA04FIJ02384_175' 'ch2k_CO03PAL06386_176'\n",
      " 'ch2k_JI18GAL01388_177' 'ch2k_CH18YOA01390_178' 'ch2k_RE19GBR04392_179'\n",
      " 'ch2k_DO18DAV01394_180' 'ch2k_GO12SBV01396_181' 'ch2k_GO12SBV01398_182'\n",
      " 'ch2k_CA07FLI01400_183' 'ch2k_CA07FLI01402_184' 'ch2k_SW99LIG02404_185'\n",
      " 'ch2k_MC04PNG01406_186' 'ch2k_CO93TAR01408_187' 'ch2k_RO19PAR01410_188'\n",
      " 'ch2k_CO00MAL01412_189' 'ch2k_MO20WOA01414_190' 'ch2k_MO20WOA01416_191'\n",
      " 'ch2k_AB20MEN01420_192' 'ch2k_QU96ESV01422_193' 'ch2k_DE13HAI01424_194'\n",
      " 'ch2k_DE13HAI01426_195' 'ch2k_DE13HAI01430_196' 'ch2k_DE13HAI01432_197'\n",
      " 'ch2k_LI94SEC01436_198' 'ch2k_ZI15CLE01438_199' 'ch2k_ZI15CLE01440_200'\n",
      " 'ch2k_MU18RED02442_201' 'ch2k_ZI08MAY01444_202' 'ch2k_ZI08MAY01446_203'\n",
      " 'ch2k_TU01DEP01450_204' 'ch2k_CO03PAL04452_205' 'ch2k_RA19PAI01454_206'\n",
      " 'ch2k_RA19PAI01456_207' 'ch2k_AB15BHB01458_208' 'ch2k_FL18DTO01460_209'\n",
      " 'ch2k_MO20KOI01462_210' 'ch2k_MO20KOI01464_211' 'ch2k_DU94URV01468_212'\n",
      " 'ch2k_DU94URV01470_213' 'ch2k_CO03PAL08472_214' 'ch2k_WU14CLI01474_215'\n",
      " 'ch2k_WU14CLI01476_216' 'ch2k_ZI14TUR01480_217' 'ch2k_ZI14TUR01482_218'\n",
      " 'ch2k_AB20MEN02484_219' 'ch2k_LI99CLI01486_220' 'ch2k_ZI15BUN01488_221'\n",
      " 'ch2k_ZI15BUN01490_222' 'ch2k_FE18RUS01492_223' 'ch2k_FE18RUS01494_224'\n",
      " 'ch2k_FE18RUS01496_225' 'ch2k_FE18RUS01498_226' 'ch2k_WU13TON01502_227'\n",
      " 'ch2k_WU13TON01504_228' 'ch2k_WU13TON01506_229' 'ch2k_WU13TON01508_230'\n",
      " 'ch2k_KI14PAR01510_231' 'ch2k_KI14PAR01512_232' 'ch2k_KI14PAR01516_233'\n",
      " 'ch2k_KI14PAR01518_234' 'ch2k_ZI14IFR02522_235' 'ch2k_ZI14IFR02524_236'\n",
      " 'ch2k_XU15BVI02526_237' 'ch2k_KI08PAR01528_238' 'ch2k_KI08PAR01530_239'\n",
      " 'ch2k_KI08PAR01532_240' 'ch2k_KI08PAR01534_241' 'ch2k_AB20MEN06536_242'\n",
      " 'ch2k_AB08MEN01538_243' 'ch2k_NU09KIR01540_244' 'ch2k_NU09KIR01542_245'\n",
      " 'ch2k_RI10PBL01546_246' 'ch2k_CA14BUT01548_247' 'ch2k_CA14BUT01550_248'\n",
      " 'ch2k_FL18DTO02554_249' 'ch2k_FL18DTO04556_250' 'ch2k_BA04FIJ01558_251'\n",
      " 'ch2k_BA04FIJ01560_252' 'ch2k_HE02GBR01562_253' 'ch2k_HE02GBR01564_254'\n",
      " 'ch2k_GO08BER01568_255' 'ch2k_GO08BER01570_256' 'ch2k_GO08BER01572_257'\n",
      " 'ch2k_GO08BER01574_258' 'ch2k_CA13TUR01580_259' 'ch2k_LI06FIJ01582_260'\n",
      " 'ch2k_HE18COC01584_261' 'ch2k_HE18COC01586_262' 'ch2k_FL17DTO01590_263'\n",
      " 'ch2k_FL17DTO01592_264' 'ch2k_BO99MOO01594_265' 'ch2k_CH03LOM01596_266'\n",
      " 'ch2k_SA19PAL01598_267' 'ch2k_SA19PAL01600_268' 'ch2k_CH97BVB01602_269'\n",
      " 'ch2k_RA20TAI01604_270' 'ch2k_RA20TAI01606_271']\n"
     ]
    }
   ],
   "source": [
    "# # check datasetId\n",
    "\n",
    "print(len(df.datasetId.unique()))\n",
    "print(len(df))\n",
    "key = 'datasetId'\n",
    "print('%s (starts with): '%key)\n",
    "print(df[key].values)"
   ]
  },
  {
   "cell_type": "markdown",
   "metadata": {},
   "source": [
    "### originalDataURL"
   ]
  },
  {
   "cell_type": "code",
   "execution_count": 28,
   "metadata": {},
   "outputs": [
    {
     "name": "stdout",
     "output_type": "stream",
     "text": [
      "originalDataURL: \n",
      "['https://doi.org/10.1594/PANGAEA.874078'\n",
      " 'https://doi.pangaea.de/10.1594/PANGAEA.743953'\n",
      " 'https://doi.pangaea.de/10.1594/PANGAEA.830601'\n",
      " 'https://doi.pangaea.de/10.1594/PANGAEA.88199'\n",
      " 'https://doi.pangaea.de/10.1594/PANGAEA.88200'\n",
      " 'https://doi.pangaea.de/10.1594/PANGAEA.887712'\n",
      " 'https://doi.pangaea.de/10.1594/PANGAEA.891094'\n",
      " 'https://www.ncdc.noaa.gov/paleo/study/1003972'\n",
      " 'https://www.ncdc.noaa.gov/paleo/study/1003973'\n",
      " 'https://www.ncdc.noaa.gov/paleo/study/10373'\n",
      " 'https://www.ncdc.noaa.gov/paleo/study/10425'\n",
      " 'https://www.ncdc.noaa.gov/paleo/study/10808'\n",
      " 'https://www.ncdc.noaa.gov/paleo/study/11935'\n",
      " 'https://www.ncdc.noaa.gov/paleo/study/12278'\n",
      " 'https://www.ncdc.noaa.gov/paleo/study/12891'\n",
      " 'https://www.ncdc.noaa.gov/paleo/study/12893'\n",
      " 'https://www.ncdc.noaa.gov/paleo/study/12994'\n",
      " 'https://www.ncdc.noaa.gov/paleo/study/13035'\n",
      " 'https://www.ncdc.noaa.gov/paleo/study/13439'\n",
      " 'https://www.ncdc.noaa.gov/paleo/study/15238'\n",
      " 'https://www.ncdc.noaa.gov/paleo/study/15794'\n",
      " 'https://www.ncdc.noaa.gov/paleo/study/16217'\n",
      " 'https://www.ncdc.noaa.gov/paleo/study/16316'\n",
      " 'https://www.ncdc.noaa.gov/paleo/study/16338'\n",
      " 'https://www.ncdc.noaa.gov/paleo/study/16339'\n",
      " 'https://www.ncdc.noaa.gov/paleo/study/16438'\n",
      " 'https://www.ncdc.noaa.gov/paleo/study/17035'\n",
      " 'https://www.ncdc.noaa.gov/paleo/study/17289'\n",
      " 'https://www.ncdc.noaa.gov/paleo/study/17378'\n",
      " 'https://www.ncdc.noaa.gov/paleo/study/1839'\n",
      " 'https://www.ncdc.noaa.gov/paleo/study/1842'\n",
      " 'https://www.ncdc.noaa.gov/paleo/study/1844'\n",
      " 'https://www.ncdc.noaa.gov/paleo/study/1845'\n",
      " 'https://www.ncdc.noaa.gov/paleo/study/1846'\n",
      " 'https://www.ncdc.noaa.gov/paleo/study/1847'\n",
      " 'https://www.ncdc.noaa.gov/paleo/study/1848'\n",
      " 'https://www.ncdc.noaa.gov/paleo/study/1850'\n",
      " 'https://www.ncdc.noaa.gov/paleo/study/1853'\n",
      " 'https://www.ncdc.noaa.gov/paleo/study/1855'\n",
      " 'https://www.ncdc.noaa.gov/paleo/study/1856'\n",
      " 'https://www.ncdc.noaa.gov/paleo/study/1857'\n",
      " 'https://www.ncdc.noaa.gov/paleo/study/1859'\n",
      " 'https://www.ncdc.noaa.gov/paleo/study/1866'\n",
      " 'https://www.ncdc.noaa.gov/paleo/study/1867'\n",
      " 'https://www.ncdc.noaa.gov/paleo/study/1869'\n",
      " 'https://www.ncdc.noaa.gov/paleo/study/1875'\n",
      " 'https://www.ncdc.noaa.gov/paleo/study/1876'\n",
      " 'https://www.ncdc.noaa.gov/paleo/study/1881'\n",
      " 'https://www.ncdc.noaa.gov/paleo/study/18895'\n",
      " 'https://www.ncdc.noaa.gov/paleo/study/1891'\n",
      " 'https://www.ncdc.noaa.gov/paleo/study/1897'\n",
      " 'https://www.ncdc.noaa.gov/paleo/study/1901'\n",
      " 'https://www.ncdc.noaa.gov/paleo/study/1903'\n",
      " 'https://www.ncdc.noaa.gov/paleo/study/1911'\n",
      " 'https://www.ncdc.noaa.gov/paleo/study/1913'\n",
      " 'https://www.ncdc.noaa.gov/paleo/study/1914'\n",
      " 'https://www.ncdc.noaa.gov/paleo/study/1915'\n",
      " 'https://www.ncdc.noaa.gov/paleo/study/19179'\n",
      " 'https://www.ncdc.noaa.gov/paleo/study/19239'\n",
      " 'https://www.ncdc.noaa.gov/paleo/study/1925'\n",
      " 'https://www.ncdc.noaa.gov/paleo/study/21011'\n",
      " 'https://www.ncdc.noaa.gov/paleo/study/21310'\n",
      " 'https://www.ncdc.noaa.gov/paleo/study/21710'\n",
      " 'https://www.ncdc.noaa.gov/paleo/study/22056'\n",
      " 'https://www.ncdc.noaa.gov/paleo/study/22252'\n",
      " 'https://www.ncdc.noaa.gov/paleo/study/22991'\n",
      " 'https://www.ncdc.noaa.gov/paleo/study/23351'\n",
      " 'https://www.ncdc.noaa.gov/paleo/study/23390'\n",
      " 'https://www.ncdc.noaa.gov/paleo/study/23850'\n",
      " 'https://www.ncdc.noaa.gov/paleo/study/24477'\n",
      " 'https://www.ncdc.noaa.gov/paleo/study/24630'\n",
      " 'https://www.ncdc.noaa.gov/paleo/study/25270'\n",
      " 'https://www.ncdc.noaa.gov/paleo/study/25290'\n",
      " 'https://www.ncdc.noaa.gov/paleo/study/26531'\n",
      " 'https://www.ncdc.noaa.gov/paleo/study/27271'\n",
      " 'https://www.ncdc.noaa.gov/paleo/study/27450'\n",
      " 'https://www.ncdc.noaa.gov/paleo/study/28130'\n",
      " 'https://www.ncdc.noaa.gov/paleo/study/28451'\n",
      " 'https://www.ncdc.noaa.gov/paleo/study/29312'\n",
      " 'https://www.ncdc.noaa.gov/paleo/study/29412'\n",
      " 'https://www.ncdc.noaa.gov/paleo/study/29952'\n",
      " 'https://www.ncdc.noaa.gov/paleo/study/30493'\n",
      " 'https://www.ncdc.noaa.gov/paleo/study/31552'\n",
      " 'https://www.ncdc.noaa.gov/paleo/study/33732'\n",
      " 'https://www.ncdc.noaa.gov/paleo/study/34372'\n",
      " 'https://www.ncdc.noaa.gov/paleo/study/34373'\n",
      " 'https://www.ncdc.noaa.gov/paleo/study/34392'\n",
      " 'https://www.ncdc.noaa.gov/paleo/study/34393'\n",
      " 'https://www.ncdc.noaa.gov/paleo/study/34394'\n",
      " 'https://www.ncdc.noaa.gov/paleo/study/34412'\n",
      " 'https://www.ncdc.noaa.gov/paleo/study/34413'\n",
      " 'https://www.ncdc.noaa.gov/paleo/study/34452'\n",
      " 'https://www.ncdc.noaa.gov/paleo/study/34472'\n",
      " 'https://www.ncdc.noaa.gov/paleo/study/34512'\n",
      " 'https://www.ncdc.noaa.gov/paleo/study/34552'\n",
      " 'https://www.ncdc.noaa.gov/paleo/study/34553'\n",
      " 'https://www.ncdc.noaa.gov/paleo/study/34612'\n",
      " 'https://www.ncdc.noaa.gov/paleo/study/34692'\n",
      " 'https://www.ncdc.noaa.gov/paleo/study/34953'\n",
      " 'https://www.ncdc.noaa.gov/paleo/study/6087'\n",
      " 'https://www.ncdc.noaa.gov/paleo/study/6089'\n",
      " 'https://www.ncdc.noaa.gov/paleo/study/6116'\n",
      " 'https://www.ncdc.noaa.gov/paleo/study/6117'\n",
      " 'https://www.ncdc.noaa.gov/paleo/study/6184'\n",
      " 'https://www.ncdc.noaa.gov/paleo/study/8424'\n",
      " 'https://www.ncdc.noaa.gov/paleo/study/8607'\n",
      " 'https://www.ncdc.noaa.gov/paleo/study/8609'\n",
      " 'https://www.ncdc.noaa.gov/paleo/study/9639'\n",
      " 'https://www.ncdc.noaa.gov/paleo/study/9813']\n"
     ]
    }
   ],
   "source": [
    "# originalDataURL\n",
    "key = 'originalDataURL'\n",
    "print('%s: '%key)\n",
    "print(np.unique([kk for kk in df[key]]))\n",
    "# 'this study' should point to the correct URL (PAGES2k)"
   ]
  },
  {
   "cell_type": "markdown",
   "metadata": {},
   "source": [
    "### originalDatabase"
   ]
  },
  {
   "cell_type": "code",
   "execution_count": 29,
   "metadata": {},
   "outputs": [
    {
     "name": "stdout",
     "output_type": "stream",
     "text": [
      "originalDatabase: \n",
      "['CoralHydro2k v1.0.0']\n"
     ]
    }
   ],
   "source": [
    "# # originalDataSet\n",
    "key = 'originalDatabase'\n",
    "print('%s: '%key)\n",
    "print(np.unique([kk for kk in df[key]]))\n",
    "# Note: the last two records have missing URLs"
   ]
  },
  {
   "cell_type": "markdown",
   "metadata": {},
   "source": [
    "## geographical metadata: elevation, latitude, longitude, site name"
   ]
  },
  {
   "cell_type": "markdown",
   "metadata": {},
   "source": [
    "### geo_meanElev"
   ]
  },
  {
   "cell_type": "code",
   "execution_count": 30,
   "metadata": {},
   "outputs": [
    {
     "name": "stdout",
     "output_type": "stream",
     "text": [
      "geo_meanElev: \n",
      "0      -3.0\n",
      "1     -17.0\n",
      "2     -17.0\n",
      "3       NaN\n",
      "4       NaN\n",
      "       ... \n",
      "267   -10.0\n",
      "268   -10.0\n",
      "269    -7.0\n",
      "270    -6.0\n",
      "271    -6.0\n",
      "Name: geo_meanElev, Length: 272, dtype: float32\n",
      "['-1' '-10' '-11' '-12' '-14' '-16' '-17' '-18' '-2' '-25' '-3' '-4' '-5'\n",
      " '-6' '-7' '-8' '-9' '0']\n"
     ]
    }
   ],
   "source": [
    "# check Elevation\n",
    "key = 'geo_meanElev'\n",
    "print('%s: '%key)\n",
    "print(df[key])\n",
    "print(np.unique(['%d'%kk for kk in df[key] if np.isfinite(kk)]))"
   ]
  },
  {
   "cell_type": "markdown",
   "metadata": {},
   "source": [
    "### geo_meanLat"
   ]
  },
  {
   "cell_type": "code",
   "execution_count": 31,
   "metadata": {},
   "outputs": [
    {
     "name": "stdout",
     "output_type": "stream",
     "text": [
      "geo_meanLat: \n",
      "['-10' '-11' '-12' '-13' '-14' '-15' '-16' '-17' '-18' '-19' '-2' '-21'\n",
      " '-22' '-23' '-28' '-3' '-4' '-5' '-6' '-8' '0' '1' '10' '11' '12' '13'\n",
      " '14' '15' '16' '17' '18' '19' '2' '20' '21' '22' '23' '24' '25' '27' '28'\n",
      " '3' '32' '4' '5' '7']\n"
     ]
    }
   ],
   "source": [
    "# # Latitude\n",
    "key = 'geo_meanLat'\n",
    "print('%s: '%key)\n",
    "print(np.unique(['%d'%kk for kk in df[key]]))"
   ]
  },
  {
   "cell_type": "markdown",
   "metadata": {},
   "source": [
    "### geo_meanLon"
   ]
  },
  {
   "cell_type": "code",
   "execution_count": 32,
   "metadata": {},
   "outputs": [
    {
     "name": "stdout",
     "output_type": "stream",
     "text": [
      "geo_meanLon: \n",
      "['-109' '-114' '-149' '-157' '-159' '-162' '-169' '-174' '-22' '-33' '-60'\n",
      " '-61' '-64' '-66' '-67' '-80' '-81' '-82' '-86' '-87' '-88' '-89' '-91'\n",
      " '100' '105' '109' '110' '111' '113' '114' '115' '117' '118' '119' '120'\n",
      " '122' '123' '124' '130' '134' '142' '143' '144' '145' '146' '147' '148'\n",
      " '150' '151' '152' '153' '163' '166' '167' '172' '173' '179' '34' '36'\n",
      " '37' '38' '39' '40' '43' '45' '49' '55' '58' '63' '7' '70' '71' '72' '92'\n",
      " '96' '98' '99']\n"
     ]
    }
   ],
   "source": [
    "# # Longitude \n",
    "key = 'geo_meanLon'\n",
    "print('%s: '%key)\n",
    "print(np.unique(['%d'%kk for kk in df[key]]))"
   ]
  },
  {
   "cell_type": "markdown",
   "metadata": {},
   "source": [
    "### geo_siteName"
   ]
  },
  {
   "cell_type": "code",
   "execution_count": 33,
   "metadata": {},
   "outputs": [
    {
     "name": "stdout",
     "output_type": "stream",
     "text": [
      "geo_siteName: \n",
      "['Bunaken Island, Indonesia' 'Rowley Shoals, Australia'\n",
      " 'Rowley Shoals, Australia'\n",
      " 'Palmyra Island, United States Minor Outlying Islands'\n",
      " 'Palmyra Island, United States Minor Outlying Islands'\n",
      " 'Cayos Cochinos, Honduras' 'Rarotonga, Cook Islands'\n",
      " 'Palmyra Island, United States Minor Outlying Islands'\n",
      " 'Dry Tortugas, Florida, USA' 'Looe Key, Florida, USA'\n",
      " 'Looe Key, Florida, USA' 'Maiana, Republic of Kiribati'\n",
      " 'Madang Lagoon, Papua New Guinea' 'Ifaty Reef, Madagascar'\n",
      " 'Ifaty Reef, Madagascar' 'Little Cayman, Cayman Islands'\n",
      " 'Little Cayman, Cayman Islands' 'Little Cayman, Cayman Islands'\n",
      " 'Little Cayman, Cayman Islands' 'Houtman Abrolhos Islands, Australia'\n",
      " 'Ngeralang, Palau' 'Kiritimati (Christmas) Island, Republic of Kiribati'\n",
      " 'Rarotonga, Cook Islands' 'Rarotonga, Cook Islands'\n",
      " 'Palmyra Island, United States Minor Outlying Islands'\n",
      " 'Palmyra Island, United States Minor Outlying Islands'\n",
      " 'Dry Tortugas, Florida, USA' 'Dry Tortugas, Florida, USA'\n",
      " 'Mentawai Islands, Indonesia' 'Timor, Indonesia' 'Timor, Indonesia'\n",
      " 'Kikai Island, Japan'\n",
      " 'Kiritimati (Christmas) Island, Republic of Kiribati'\n",
      " 'Mentawai Islands, Indonesia'\n",
      " 'Cayo Sal, Los Roques Archipelago, Venezuela'\n",
      " 'Fungu Mrima Reef, Tanzania' 'Looe Key, Florida, USA'\n",
      " 'Looe Key, Florida, USA' 'Malindi Marine Park, Kenya'\n",
      " 'Ponta Banana, Principe Island' 'Gili Selang, Bali, Indonesia'\n",
      " 'Gili Selang, Bali, Indonesia' 'Houtman Abrolhos Islands, Australia'\n",
      " 'Houtman Abrolhos Islands, Australia'\n",
      " 'Houtman Abrolhos Islands, Australia'\n",
      " 'Houtman Abrolhos Islands, Australia' 'Dry Tortugas, Florida, USA'\n",
      " 'Dry Tortugas, Florida, USA' 'Fungu Mrima Reef, Tanzania'\n",
      " 'Palmyra Island, United States Minor Outlying Islands'\n",
      " 'Palmyra Island, United States Minor Outlying Islands'\n",
      " 'Palmyra Island, United States Minor Outlying Islands'\n",
      " 'Rodrigues, Republic of Mauritius' 'Ngaragabel, Palau'\n",
      " 'Pirotan Island, Gujarat, India' 'Portland Roads, Australia'\n",
      " 'Portland Roads, Australia' 'Coral Gardens, Red Sea'\n",
      " 'Coral Gardens, Red Sea'\n",
      " 'Nosy Boraha, Madagascar (formerly Ile Sainte-Marie)'\n",
      " 'Fengjiawan, Wenchang, China' 'Fengjiawan, Wenchang, China'\n",
      " 'Fengjiawan, Wenchang, China' 'Fengjiawan, Wenchang, China'\n",
      " 'Dry Tortugas, Florida, USA' 'Dur-Ghella Island, Eritrea'\n",
      " 'Rabaul, East New Britain, Papua New Guinea'\n",
      " 'Rabaul, East New Britain, Papua New Guinea' 'Dry Tortugas, Florida, USA'\n",
      " 'Ningaloo Reef, Australia' 'Sialum, Huon Peninsula, Papua New Guinea'\n",
      " 'Eel Reef, Australia' 'Eel Reef, Australia'\n",
      " 'Nosy Boraha, Madagascar (formerly Ile Sainte-Marie)'\n",
      " 'Mentawai Islands, Indonesia' 'Canyon, Red Sea' 'Canyon, Red Sea'\n",
      " 'Tabuaeran (Fanning Island), Republic of Kiribati'\n",
      " 'Tabuaeran (Fanning Island), Republic of Kiribati' 'Semicolon, Red Sea'\n",
      " 'Rock Islands, Palau' 'Dry Tortugas, Florida, USA' 'Vanua Levu, Fiji'\n",
      " 'Vanua Levu, Fiji' 'Rocas Atoll, Rio Grande do Norte, Brazil'\n",
      " 'Rocas Atoll, Rio Grande do Norte, Brazil' 'Sapodilla Cayes, Belize'\n",
      " 'Shark Bay, Wolf Island, Ecuador' 'Laing Island, Papua New Guinea'\n",
      " 'Misima Island, Papua New Guinea' 'Misima Island, Papua New Guinea'\n",
      " 'Nauru Island, Republic of Nauru' 'Rowley Shoals, Australia'\n",
      " 'Rowley Shoals, Australia' 'Peros Banhos Atoll, Chagos Archipelago'\n",
      " 'Tabuaeran (Fanning Island), Republic of Kiribati'\n",
      " 'Arlington Reef, Australia' 'Arlington Reef, Australia'\n",
      " 'Palmyra Island, United States Minor Outlying Islands'\n",
      " 'Anegada, British Virgin Islands' 'Cocos (Keeling) Islands, Australia'\n",
      " 'Cocos (Keeling) Islands, Australia' 'Nusa Penida, Indonesia'\n",
      " 'Nusa Penida, Indonesia' 'Pedra de Lume, Sal Island' 'Sarawak, Malaysia'\n",
      " 'Sarawak, Malaysia' 'Great Keppel Island, Australia'\n",
      " 'Ulong Channel, Palau' 'Mentawai Islands, Indonesia'\n",
      " 'Misima Island, Papua New Guinea' 'Misima Island, Papua New Guinea'\n",
      " 'Isle de Gosier, Guadeloupe' 'Isle de Gosier, Guadeloupe'\n",
      " 'Isle de Gosier, Guadeloupe' 'Isle de Gosier, Guadeloupe'\n",
      " 'Hon Tre Island, Vietnam' 'Hon Tre Island, Vietnam'\n",
      " 'Amedee Island, New Caledonia' 'Bandar Khayran, Oman'\n",
      " 'Bandar Khayran, Oman' 'Abraham Reef, Australia'\n",
      " 'Abraham Reef, Australia' 'Grande Cai, Martinique'\n",
      " 'Rarotonga, Cook Islands' 'Abu Galawa, Red Sea'\n",
      " 'Lignumvitae Basin, Florida, USA' 'Clarion Island, Mexico'\n",
      " 'Ningaloo Reef, Australia' 'Ningaloo Reef, Australia'\n",
      " 'Reef 13-050, Australia' 'Reef 13-050, Australia'\n",
      " 'Kitchen Shoals, Bermuda' 'Hon Tre Island, Vietnam'\n",
      " 'Hon Tre Island, Vietnam' 'Doangdoangan Besar, Indonesia'\n",
      " \"Ta'u, American Samoa\" 'Anegada, British Virgin Islands'\n",
      " 'Urvina Bay, Isabela Island, Ecuador'\n",
      " 'Urvina Bay, Isabela Island, Ecuador' 'Double Reef, Guam'\n",
      " 'Ogasawara Islands, Japan' 'Ogasawara Islands, Japan'\n",
      " 'Ogasawara Islands, Japan' 'Ogasawara Islands, Japan'\n",
      " 'Nauru Island, Republic of Nauru'\n",
      " 'Tabuaeran (Fanning Island), Republic of Kiribati'\n",
      " 'Diamond Caye, Utila, Honduras' 'Pinacles Reef, Puerto Rico'\n",
      " 'Palmyra Island, United States Minor Outlying Islands'\n",
      " 'Clerke Reef, Australia' 'Rowley Shoals, Australia'\n",
      " 'Rowley Shoals, Australia' 'Sarawak, Malaysia' 'Sarawak, Malaysia'\n",
      " 'Puerto Morelos, Mexico' 'Puerto Morelos, Mexico'\n",
      " 'Rasdhoo Atoll, Maldives' 'Rasdhoo Atoll, Maldives'\n",
      " 'Northeast Breakers, Bermuda' 'St. Gilles Reef, La Reunion'\n",
      " 'St. Gilles Reef, La Reunion' 'Puerto Morelos, Mexico'\n",
      " 'Palmyra Island, United States Minor Outlying Islands'\n",
      " 'Rodrigues, Republic of Mauritius' 'Mentawai Islands, Indonesia'\n",
      " 'Punta Pitt, Isla San Cristobal, Ecuador'\n",
      " 'Espiritu Santo Island, Vanuatu' 'Espiritu Santo Island, Vanuatu'\n",
      " 'Mona Island, Puerto Rico' 'Lingyang Reef, Yongle Atoll'\n",
      " 'Dry Tortugas, Florida, USA' 'Mentawai Islands, Indonesia' 'Red Sea'\n",
      " 'Savusavu Bay, Vanua Levu, Fiji' 'Savusavu Bay, Vanua Levu, Fiji'\n",
      " 'Palmyra Island, United States Minor Outlying Islands'\n",
      " 'Shark Bay, Wolf Island, Ecuador' 'Lingyang Reef, Yongle Atoll'\n",
      " 'Nomad Reef, Australia' 'Davies Reef, Australia' 'Sabine Bank, Vanuatu'\n",
      " 'Sabine Bank, Vanuatu' 'Flinders Reef, Australia'\n",
      " 'Flinders Reef, Australia' 'Lignumvitae Basin, Florida Bay'\n",
      " 'Muschu Island, Papua New Guinea' 'Tarawa Atoll, Republic of Kiribati'\n",
      " 'Parguera, Puerto Rico' 'Malindi Marine Park, Kenya'\n",
      " 'Wolei Atoll, Fed. States of Micronesia'\n",
      " 'Wolei Atoll, Fed. States of Micronesia' 'Mentawai Islands, Indonesia'\n",
      " 'Espiritu Santo Island, Vanuatu' 'Longwan, Qionghai, China'\n",
      " 'Longwan, Qionghai, China' 'Longwan, Qionghai, China'\n",
      " 'Longwan, Qionghai, China' 'Secas Island, Panama'\n",
      " 'Rowley Shoals, Australia' 'Rowley Shoals, Australia'\n",
      " 'Popponesset, Red Sea' 'Mayotte' 'Mayotte'\n",
      " 'Madang Lagoon, Papua New Guinea'\n",
      " 'Palmyra Island, United States Minor Outlying Islands'\n",
      " 'Palaui Island, Philippines' 'Palaui Island, Philippines'\n",
      " 'Batu Hitam Beach, Indonesia' 'Dry Tortugas, Florida, USA'\n",
      " 'Kosrae Island, Fed. States of Micronesia'\n",
      " 'Kosrae Island, Fed. States of Micronesia'\n",
      " 'Urvina Bay, Isabela Island, Ecuador'\n",
      " 'Urvina Bay, Isabela Island, Ecuador'\n",
      " 'Palmyra Island, United States Minor Outlying Islands'\n",
      " 'Clipperton Island' 'Clipperton Island' 'Tulear Reef, Madagascar'\n",
      " 'Tulear Reef, Madagascar' 'Mentawai Islands, Indonesia'\n",
      " 'Clipperton Island' 'Ningaloo Reef, Australia' 'Ningaloo Reef, Australia'\n",
      " 'Ras Umm Sidd, Egypt' 'Ras Umm Sidd, Egypt' 'Ras Umm Sidd, Egypt'\n",
      " 'Ras Umm Sidd, Egypt' \"Ha'afera, Tonga\" \"Ha'afera, Tonga\"\n",
      " \"Ha'afera, Tonga\" \"Ha'afera, Tonga\" 'La Parguera, Puerto Rico'\n",
      " 'La Parguera, Puerto Rico' 'La Parguera, Puerto Rico'\n",
      " 'La Parguera, Puerto Rico' 'Ifaty Reef, Madagascar'\n",
      " 'Ifaty Reef, Madagascar' 'Anegada, British Virgin Islands'\n",
      " 'La Parguera, Puerto Rico' 'La Parguera, Puerto Rico'\n",
      " 'La Parguera, Puerto Rico' 'La Parguera, Puerto Rico'\n",
      " 'Mentawai Islands, Indonesia' 'Mentawai Islands, Indonesia'\n",
      " 'Kiritimati (Christmas) Island, Republic of Kiribati'\n",
      " 'Kiritimati (Christmas) Island, Republic of Kiribati'\n",
      " 'Port Blair, Andaman Islands, India'\n",
      " 'Butaritari Atoll, Republic of Kiribati'\n",
      " 'Butaritari Atoll, Republic of Kiribati' 'Dry Tortugas, Florida, USA'\n",
      " 'Dry Tortugas, Florida, USA' 'Savusavu Bay, Vanua Levu, Fiji'\n",
      " 'Savusavu Bay, Vanua Levu, Fiji' 'Central Great Barrier Reef, Australia'\n",
      " 'Central Great Barrier Reef, Australia' 'Bermuda' 'Bermuda' 'Bermuda'\n",
      " 'Bermuda' 'Turneffe Atoll, Belize' 'Savusavu Bay, Vanua Levu, Fiji'\n",
      " 'Cocos (Keeling) Islands, Australia' 'Cocos (Keeling) Islands, Australia'\n",
      " 'Dry Tortugas, Florida, USA' 'Dry Tortugas, Florida, USA'\n",
      " 'Moorea, French Polynesia' 'Padang Bai, Bali, Indonesia'\n",
      " 'Palmyra Island, United States Minor Outlying Islands'\n",
      " 'Palmyra Island, United States Minor Outlying Islands'\n",
      " 'Mahe Island, Republic of the Seychelles' 'Houbihu, Taiwan'\n",
      " 'Houbihu, Taiwan']\n"
     ]
    }
   ],
   "source": [
    "# Site Name \n",
    "key = 'geo_siteName'\n",
    "print('%s: '%key)\n",
    "print(df[key].values)"
   ]
  },
  {
   "cell_type": "markdown",
   "metadata": {},
   "source": [
    "## proxy metadata: archive type, proxy type, interpretation"
   ]
  },
  {
   "cell_type": "markdown",
   "metadata": {},
   "source": [
    "### archiveType"
   ]
  },
  {
   "cell_type": "code",
   "execution_count": 34,
   "metadata": {},
   "outputs": [
    {
     "name": "stdout",
     "output_type": "stream",
     "text": [
      "archiveType: \n",
      "['coral']\n"
     ]
    }
   ],
   "source": [
    "# now check all the entries bit by bit (can be omitted at a later stage)\n",
    "\n",
    "# archiveType\n",
    "key = 'archiveType'\n",
    "print('%s: '%key)\n",
    "print(np.unique(df[key]))"
   ]
  },
  {
   "cell_type": "markdown",
   "metadata": {},
   "source": [
    "### paleoData_proxy"
   ]
  },
  {
   "cell_type": "code",
   "execution_count": 35,
   "metadata": {},
   "outputs": [
    {
     "name": "stdout",
     "output_type": "stream",
     "text": [
      "paleoData_proxy: \n",
      "['Sr/Ca' 'd18O']\n"
     ]
    }
   ],
   "source": [
    "# paleoData_proxy\n",
    "key = 'paleoData_proxy'\n",
    "print('%s: '%key)\n",
    "print(np.unique([kk for kk in df[key]]))"
   ]
  },
  {
   "cell_type": "markdown",
   "metadata": {},
   "source": [
    "### paleoData_notes"
   ]
  },
  {
   "cell_type": "code",
   "execution_count": 36,
   "metadata": {},
   "outputs": [
    {
     "name": "stdout",
     "output_type": "stream",
     "text": [
      "paleoData_notes: \n",
      "['This paper did not calibrate the d18O proxy or reconstruct temperature. It instead analyzed variability through time by directly using the d18O proxy.'\n",
      " 'Sr/Ca-SST recconstructed with composite plus scale method to ERSSTv3b, no regression applied'\n",
      " 'Sr/Ca-SST recconstructed with composite plus scale method to ERSSTv3b, no regression applied'\n",
      " 'nan' 'nan' 'nan'\n",
      " 'Individual coral records that are part of the Rarotonga composite' 'nan'\n",
      " 'nan' 'nan' 'nan' 'nan' 'monthly correlations with SST not reported'\n",
      " 'Other calibration slopes are available in Zinke et al. 2004; 1920-1995 samples monthly; 1919-1658 sampled bimonthly'\n",
      " 'Other calibration slopes are available in Zinke et al. 2004; 1920-1995 samples monthly; 1919-1658 sampled bimonthly'\n",
      " 'nan' 'nan' 'nan' 'nan'\n",
      " '1953-1993 and 1961-1993 calibration periods, first with 0.13 slope, latter -0.17 slope'\n",
      " 'nan' 'nan'\n",
      " 'Sr/Ca-SST calibrations listed were found in Linsley et al. 2004. The calibration from Linsley et al. 2000 is as follows: slope = -0.082; intercept = 11.568; rsq = 0.75'\n",
      " 'Sr/Ca-SST calibrations listed were found in Linsley et al. 2004. The calibration from Linsley et al. 2000 is as follows: slope = -0.082; intercept = 11.568; rsq = 0.75'\n",
      " 'nan' 'nan' 'nan' 'nan' 'Fossil Coral' 'nan' 'nan'\n",
      " 'Core data is a composite of overlapping individual pieces and any replicate analyses. Data is seasonal min-max (Feb - Aug)'\n",
      " 'nan' 'Fossil Coral' 'nan'\n",
      " 'One core, this record: younger part of core MAF00-01 at monthly resolution (1896-1998);  annual correlation based on 1897-1997 data'\n",
      " 'Due to chipping during initial sampling, the top 1.5 years were sampled in a parallel path and spliced into the rest of the record.'\n",
      " 'Due to chipping during initial sampling, the top 1.5 years were sampled in a parallel path and spliced into the rest of the record.'\n",
      " 'monthly correlations not reported, only assesed with IOD; used Cole et al. (2000) slope of -0.24'\n",
      " 'nan'\n",
      " 'Sr/Ca-SST calibrations not published because of weak relationship for both GS and NP cores'\n",
      " 'Sr/Ca-SST calibrations not published because of weak relationship for both GS and NP cores'\n",
      " 'nan' 'nan' 'nan' 'nan' 'nan' 'nan'\n",
      " 'One core, this record: older part of core MAF00-01 at bimonthly resolution (1622-1722)'\n",
      " 'nan' 'nan' 'nan'\n",
      " 'Totor Sr/Ca core top performed well in many sections, others less good, especially core top since 1988 to 2006. Cabri was much better. There is a table with likely best section in Totor in paper'\n",
      " 'Multiple linear regression analyses using monthly (non-detrended) anomalies for coral and instrumental SST and SSS data for the period 1970 to 2008. For NGB core, regression equation is: d18O_anom = 0.15 (0.03)*SST + 0.36 (0.07)*SSS.n'\n",
      " 'slope is not calculated, reported slope from Weber and Woodhead is used of -0.24'\n",
      " 'nan' 'nan'\n",
      " 'This record is a combination of high-resolution data from Murty et al. 2018 and annual data from Bryan et al. 2019. Studies are independent but were performed on the same coral core (CG). Calibration information, SST range, and analytical error provided are for high-resolution data from Murty et al. 2018.'\n",
      " 'This record is a combination of high-resolution data from Murty et al. 2018 and annual data from Bryan et al. 2019. Studies are independent but were performed on the same coral core (CG). Calibration information, SST range, and analytical error provided are for high-resolution data from Murty et al. 2018.'\n",
      " 'nan' 'nan' 'nan' 'nan' 'nan'\n",
      " 'Same colony as 08PS-A2, but different core and core top age' 'nan' 'nan'\n",
      " 'nan' 'Same colony as 08PS-A1, but different core and core top age'\n",
      " 'used Gagan 1994 d18O slope' 'monthly correlations not reported' 'nan'\n",
      " 'nan'\n",
      " 'STM4 Sr/Ca core top was too cold vs STM2, would be careful. STM2 is really good, compares well to Rodrigures core Cabri'\n",
      " 'Fossil Coral' 'nan' 'nan'\n",
      " 'Two cores were spliced at 1984 to avoid secondary aragonite'\n",
      " 'Two cores were spliced at 1984 to avoid secondary aragonite' 'nan'\n",
      " 'Multiple linear regression analyses using monthly (non-detrended) anomalies for coral and instrumental SST and SSS data for the period 1970 to 2008. For RI core, regression equation is: d18O_anom = 0.03 (0.03)*SST + 0.36 (0.05)*SSS.nn                                        n                                n                        n                n'\n",
      " 'nan' 'nan' 'nan' 'nan' 'nan' 'nan' 'nan'\n",
      " 'monthly correlations not reported'\n",
      " 'Composite of two fossil cores. Data was sub-monthly and was linearly resampled to monthly.'\n",
      " 'Composite of two fossil cores. Data was sub-monthly and was linearly resampled to monthly.'\n",
      " 'No calibrations, two cores are part of this study (see GU99NAU01); Oxygen isotope data has NOT been corrected for the acid fractionation difference (acid-alpha) between standards (calcite) and coral samples (aragonite). Slow growing portion of the record (1898-1939) shows a strong kinetic overprint'\n",
      " 'Sr/Ca-SST recconstructed with composite plus scale method to ERSSTv3b, no regression applied'\n",
      " 'Sr/Ca-SST recconstructed with composite plus scale method to ERSSTv3b, no regression applied'\n",
      " 'd18O driven by rainfall; little SST correlation'\n",
      " 'Publication notes that core F4 has higher variance than contemporary cores and instrumental SST products and that this is likely due to lagoonal mixing.'\n",
      " 'coral was primariliy analysed for Boron and paper does not discuss much about Sr/Ca and d18O even though they were analysed'\n",
      " 'coral was primariliy analysed for Boron and paper does not discuss much about Sr/Ca and d18O even though they were analysed'\n",
      " 'nan' 'nan'\n",
      " 'Sr/Ca regression slope error is estimated to be (+/-) 0.21 degrees C; Used the Zinke (2015) method - normalised and scaled to the s.d. SST box of the period 1961-1990; equation based on composite of 2 cores'\n",
      " 'Sr/Ca regression slope error is estimated to be (+/-) 0.21 degrees C; Used the Zinke (2015) method - normalised and scaled to the s.d. SST box of the period 1961-1990; equation based on composite of 2 cores'\n",
      " 'NP1 and NP2 cores spliced together to get full NP record due to bioerosion in the NP1 core. Sr/Ca-SST calibrations not published because of weak relationship for both GS and NP cores.'\n",
      " 'NP1 and NP2 cores spliced together to get full NP record due to bioerosion in the NP1 core. Sr/Ca-SST calibrations not published because of weak relationship for both GS and NP cores.'\n",
      " 'nan' 'nan' 'nan'\n",
      " 'Study focuses on Ba/Ca and Y/Ca. Sr/Ca is primarily used for chronology'\n",
      " 'Multiple linear regression analyses using monthly (not detrended) anomalies for coral and instrumental SST and SSS data for the period 1970 to 2008. For UC core, regression equation is: d18O_anom = 0.09 (0.03)*SST + 0.33 (0.05)*SSS'\n",
      " 'Fossil Coral'\n",
      " 'Raw data was sub-monthly and was linearly resampled to monthly.'\n",
      " 'Raw data was sub-monthly and was linearly resampled to monthly.'\n",
      " 'This calibration data is taken from the top 40 years of the core from Hetzinger et al 2006'\n",
      " 'This calibration data is taken from the top 40 years of the core from Hetzinger et al 2006'\n",
      " 'This calibration data is taken from the top 40 years of the core from Hetzinger et al 2006'\n",
      " 'This calibration data is taken from the top 40 years of the core from Hetzinger et al 2006'\n",
      " 'A composite of cores TN and BB (CoralHydro2k ID BO14HTI02) was used from 2010-1977 for the published reconstructions in Bolton et al. 2014 and Goodkin et al. 2021.'\n",
      " 'A composite of cores TN and BB (CoralHydro2k ID BO14HTI02) was used from 2010-1977 for the published reconstructions in Bolton et al. 2014 and Goodkin et al. 2021.'\n",
      " 'Sr/Ca are average values of three colonies and replicate paths' 'nan'\n",
      " 'nan'\n",
      " 'This is a refinement of the record available previously (Druffel and Griffin, JGR 1993) which showed biennial d18O for the period 1635-1957.'\n",
      " 'This is a refinement of the record available previously (Druffel and Griffin, JGR 1993) which showed biennial d18O for the period 1635-1957.'\n",
      " 'Study focuses on use of Sr/U rather than Sr/Ca'\n",
      " 'Individual coral records that are part of the Rarotonga composite'\n",
      " 'Mean SST ranges given in paper for northern reef 7.7C; for southern reefs 5.8C'\n",
      " 'nan' 'nan'\n",
      " 'Sr/Ca-SST recconstructed with composite plus scale method to ERSSTv3b, no regression applied'\n",
      " 'Sr/Ca-SST recconstructed with composite plus scale method to ERSSTv3b, no regression applied'\n",
      " 'nan' 'nan'\n",
      " 'regressions in paper use air temps instead of SST, relevant growth information about coral found in PhD thesis (http://nbn-resolving.de/urn:nbn:de:gbv:46-ep000102521)'\n",
      " 'A composite of cores TN (CoralHydro2k ID BO14HTI01) and BB was used from 2010-1977 for the published reconstructions in Bolton et al. 2014 and Goodkin et al. 2021.'\n",
      " 'A composite of cores TN (CoralHydro2k ID BO14HTI01) and BB was used from 2010-1977 for the published reconstructions in Bolton et al. 2014 and Goodkin et al. 2021.'\n",
      " 'Calibrations to SST data were performed on a shorter, higher-resolution set of samples. See Murty et al. 2017 for more information.'\n",
      " 'The calibration equation incorporated both SST and salinity, so the d18O-SST slope is not included here to avoid misrepresentation.'\n",
      " 'nan' 'nan' 'nan' 'nan'\n",
      " 'Annual regression slopes (-0.213 / C, -0.140 mmol/mol / C) imply an apparent amplification of inferred SST variations on interannual and longer timescales.'\n",
      " 'Annual regression slopes (-0.213 / C, -0.140 mmol/mol / C) imply an apparent amplification of inferred SST variations on interannual and longer timescales.'\n",
      " 'Annual regression slopes (-0.213 / C, -0.140 mmol/mol / C) imply an apparent amplification of inferred SST variations on interannual and longer timescales.'\n",
      " 'Annual regression slopes (-0.213 / C, -0.140 mmol/mol / C) imply an apparent amplification of inferred SST variations on interannual and longer timescales.'\n",
      " 'Oxygen isotope data has NOT been corrected for the acid fractionation difference (acid-alpha) between standards (calcite) and coral samples (aragonite). Prior to 1895/1896 the data exhibits a kinetic overprint.'\n",
      " 'nan' 'nan' 'Study focuses on use of Sr/U rather than Sr/Ca' 'nan' 'nan'\n",
      " 'Sr/Ca-SST recconstructed with composite plus scale method to ERSSTv3b, no regression applied'\n",
      " 'Sr/Ca-SST recconstructed with composite plus scale method to ERSSTv3b, no regression applied'\n",
      " 'nan' 'nan' 'focused more on Sr/U calibrations'\n",
      " 'focused more on Sr/U calibrations' 'nan' 'nan'\n",
      " 'regressions in paper use air temps instead of SST, relevant growth information about coral found in PhD thesis (http://nbn-resolving.de/urn:nbn:de:gbv:46-ep000102521)'\n",
      " 'See Pfeiffer et al. 2004 for more monthly/bimonthly d18O calibrations and Pfeiffer et al. 2019 for annual d18O and Sr/Ca calibrations.'\n",
      " 'See Pfeiffer et al. 2004 for more monthly/bimonthly d18O calibrations and Pfeiffer et al. 2019 for annual d18O and Sr/Ca calibrations.'\n",
      " 'Study focuses on use of Sr/U rather than Sr/Ca' 'nan' 'nan'\n",
      " 'Fossil Coral'\n",
      " 'age-modeled assuming high-density bands correspond to February; coral colony died during 1982-83 El Nino event'\n",
      " 'regression information based on Kilbourne MS Thesis'\n",
      " 'regression information based on Kilbourne MS Thesis'\n",
      " 'Study focuses on use of Sr/U rather than Sr/Ca'\n",
      " 'Microatoll; coral rubble samples; data reported in Supplements of paper'\n",
      " 'nan' 'Fossil Coral'\n",
      " 'Study focuses on use of Sr/U rather than Sr/Ca; multiple locations Atlantic and Pacific; Sr/Ca uncertainty 1 deg C; Sr-U uncertainty 0.5 deg C; Sr/Ca-SST slope not indicated'\n",
      " 'nan' 'nan' 'nan' 'nan'\n",
      " 'Microatoll; coral rubble samples; data reported in Supplements of paper'\n",
      " 'nan'\n",
      " 'Study uses multiple cores from multiple locations in the Great Barrier Reef; spans 15-18S latitude; multiple Sr/Ca regression equations in the paper. Supplemnet has all data.'\n",
      " 'd18O is a composite of cores 06SB-A1 and 07SB-A2'\n",
      " 'd18O is a composite of cores 06SB-A1 and 07SB-A2' 'nan' 'nan' 'nan'\n",
      " 'nan' 'monthly correlations not reported' 'nan'\n",
      " 'Extra information supplied that is not included in publication such as higher precision slope value. Noted as exposed to open ocean; seasonally influenced by river discharge'\n",
      " 'uncertainty on Sr/Ca intercept is 0.0018'\n",
      " 'uncertainty on Sr/Ca intercept is 0.0018'\n",
      " 'Note: Length of coral record increased for Abram et al., 2020 publication relative to Abram et al., 2015'\n",
      " 'nan' 'nan' 'nan' 'nan' 'nan' 'nan'\n",
      " 'Sr/Ca-SST recconstructed with composite plus scale method to ERSSTv3b, no regression applied'\n",
      " 'Sr/Ca-SST recconstructed with composite plus scale method to ERSSTv3b, no regression applied'\n",
      " 'Mean SST ranges given in paper for northern reef 7.7C; for southern reefs 5.8C'\n",
      " 'in situ d18o; for annual (sr/Ca, slope- -0.0583, intercept - 10.378)'\n",
      " 'in situ d18o; for annual (sr/Ca, slope- -0.0583, intercept - 10.378)'\n",
      " 'monthly correlations not reimported' 'nan'\n",
      " 'Sr/Ca calibration equation originally found in Ramos et al. 2017; Monthly Sr/Ca data available from 1880-2012; Monthly and seasonal (DJFM vs JJAS, data input on Jan and July) d18O data available from 1894-2012 and 1880-1893, respectively.'\n",
      " 'Sr/Ca calibration equation originally found in Ramos et al. 2017; Monthly Sr/Ca data available from 1880-2012; Monthly and seasonal (DJFM vs JJAS, data input on Jan and July) d18O data available from 1894-2012 and 1880-1893, respectively.'\n",
      " 'monthly correlations not reported, instead used IOD season' 'nan' 'nan'\n",
      " 'nan'\n",
      " 'Core was collected in a subhorizontal, not vertical, orientation from coral colony; indistinct growth banding in top 50 years of core'\n",
      " 'Core was collected in a subhorizontal, not vertical, orientation from coral colony; indistinct growth banding in top 50 years of core'\n",
      " 'nan'\n",
      " 'Composite of cores C2B (13.1m depth), C4B (8.2m), C6A (11.3m), and CF1B (found on beach); reconstructed d18Osw data are anomalies'\n",
      " 'Composite of cores C2B (13.1m depth), C4B (8.2m), C6A (11.3m), and CF1B (found on beach); reconstructed d18Osw data are anomalies'\n",
      " 'Published slopes based on composite coral results. Used -0.20.02 permil per 1 deg C regressions'\n",
      " 'Published slopes based on composite coral results. Used -0.20.02 permil per 1 deg C regressions'\n",
      " 'Note: Chronology of coral updated for Abram et al., 2020 publication relative to Gagan et al., 2015'\n",
      " 'authors describe density banding as poor; some fish grazing scars'\n",
      " 'Sr/Ca-SST recconstructed with composite plus scale method to ERSST3b, no regression applied'\n",
      " 'Sr/Ca-SST recconstructed with composite plus scale method to ERSST3b, no regression applied'\n",
      " 'Annual regression slopes (-0.29 / C, -0.115 mmol/mol / C) imply an apparent amplification of inferred SST variations on interannual and longer timescales.'\n",
      " 'Annual regression slopes (-0.29 / C, -0.115 mmol/mol / C) imply an apparent amplification of inferred SST variations on interannual and longer timescales.'\n",
      " 'Annual regression slopes (-0.29 / C, -0.115 mmol/mol / C) imply an apparent amplification of inferred SST variations on interannual and longer timescales.'\n",
      " 'Annual regression slopes (-0.29 / C, -0.115 mmol/mol / C) imply an apparent amplification of inferred SST variations on interannual and longer timescales.'\n",
      " 'Microatoll with core taken from top and side and spliced together; As with all coral timeseries, exact months are not known, so annual averages sometimes represent more or less than 12 months.'\n",
      " 'Microatoll with core taken from top and side and spliced together; As with all coral timeseries, exact months are not known, so annual averages sometimes represent more or less than 12 months.'\n",
      " 'Microatoll with core taken from top and side and spliced together; As with all coral timeseries, exact months are not known, so annual averages sometimes represent more or less than 12 months.'\n",
      " 'Microatoll with core taken from top and side and spliced together; As with all coral timeseries, exact months are not known, so annual averages sometimes represent more or less than 12 months.'\n",
      " 'This is the bottom part of a core that included an unconformity. Base of the coral is u-series dated and age model is from bands counted up from there.'\n",
      " 'This is the bottom part of a core that included an unconformity. Base of the coral is u-series dated and age model is from bands counted up from there.'\n",
      " 'This is the bottom part of a core that included an unconformity. Base of the coral is u-series dated and age model is from bands counted up from there.'\n",
      " 'This is the bottom part of a core that included an unconformity. Base of the coral is u-series dated and age model is from bands counted up from there.'\n",
      " 'Published slopes based on composite coral results. Used -0.20.02 permil per 1 deg C regressions'\n",
      " 'Published slopes based on composite coral results. Used -0.20.02 permil per 1 deg C regressions'\n",
      " 'nan' 'nan' 'nan' 'nan' 'nan' 'Fossil Coral'\n",
      " 'Composite of three cores: PG01-A-2, TN99-A-4, TM01-A-10.' 'nan' 'nan'\n",
      " 'slope and y-intercept information only available for mean annual calibrations'\n",
      " 'used published values (i.e., not locally derived) for Sr/Ca-SST and d18O-SST slopes'\n",
      " 'used published values (i.e., not locally derived) for Sr/Ca-SST and d18O-SST slopes'\n",
      " 'nan' 'nan' 'nan' 'nan'\n",
      " 'The record is a composite of 8 cores across the GBR region; Error is provided in upper and lower bounds; data as anomalies only'\n",
      " 'The record is a composite of 8 cores across the GBR region; Error is provided in upper and lower bounds; data as anomalies only'\n",
      " 'See Goodkin et al 2005 for interannual Sr/Ca calibration'\n",
      " 'See Goodkin et al 2005 for interannual Sr/Ca calibration'\n",
      " 'See Goodkin et al 2005 for interannual Sr/Ca calibration'\n",
      " 'See Goodkin et al 2005 for interannual Sr/Ca calibration' 'nan'\n",
      " 'mm-scale drilling but available data is at annual resolution'\n",
      " 'Sr/Ca regression slope error is estimated to be (+/-) 0.21 degrees C; Used the Zinke (2015) method - normalised and scaled to the s.d. SST box of the period 1961-1990; equation based on composite of 2 cores'\n",
      " 'Sr/Ca regression slope error is estimated to be (+/-) 0.21 degrees C; Used the Zinke (2015) method - normalised and scaled to the s.d. SST box of the period 1961-1990; equation based on composite of 2 cores'\n",
      " 'nan' 'nan'\n",
      " '7 calibration equations are available in Boiseau et al. 1998 (this database contains Equation (1) information)'\n",
      " 'This paper did not calibrate the d18O proxy or reconstruct temperature. It instead analyzed variability through time by directly using the d18O proxy.'\n",
      " 'nan' 'nan' 'nan'\n",
      " 'Monthly Sr/Ca data available from 1788-2013; Monthly and seasonal (DJFM vs JJAS, data input on Jan and July) d18O data available from 1906-2013 and 1788-1905 respectively.'\n",
      " 'Monthly Sr/Ca data available from 1788-2013; Monthly and seasonal (DJFM vs JJAS, data input on Jan and July) d18O data available from 1906-2013 and 1788-1905 respectively.']\n"
     ]
    }
   ],
   "source": [
    "# # paleoData_notes\n",
    "key = 'paleoData_notes'\n",
    "print('%s: '%key)\n",
    "print(df[key].values)"
   ]
  },
  {
   "cell_type": "markdown",
   "metadata": {},
   "source": [
    "### climateInterpretation_variable"
   ]
  },
  {
   "cell_type": "code",
   "execution_count": 37,
   "metadata": {
    "scrolled": true
   },
   "outputs": [
    {
     "name": "stdout",
     "output_type": "stream",
     "text": [
      "climateInterpretation_variable: \n",
      "['temperature' 'temperature+moisture']\n"
     ]
    }
   ],
   "source": [
    "# climate_interpretation\n",
    "key = 'climateInterpretation_variable'\n",
    "print('%s: '%key)\n",
    "print(np.unique([kk for kk in df[key]]))\n"
   ]
  },
  {
   "cell_type": "markdown",
   "metadata": {},
   "source": [
    "### climateInterpretation_variableDetail"
   ]
  },
  {
   "cell_type": "code",
   "execution_count": 38,
   "metadata": {
    "scrolled": true
   },
   "outputs": [
    {
     "name": "stdout",
     "output_type": "stream",
     "text": [
      "climateInterpretation_variableDetail: \n",
      "['temperature - manually assigned by DoD2k authors for paleoData_proxy = Sr/Ca'\n",
      " 'temperature+moisture - manually assigned by DoD2k authors for paleoData_proxy = d18O']\n"
     ]
    }
   ],
   "source": [
    "# climate_interpretation\n",
    "key = 'climateInterpretation_variableDetail'\n",
    "print('%s: '%key)\n",
    "print(np.unique([kk for kk in df[key]]))\n"
   ]
  },
  {
   "cell_type": "markdown",
   "metadata": {},
   "source": [
    "### paleoData_sensorSpecies"
   ]
  },
  {
   "cell_type": "code",
   "execution_count": 39,
   "metadata": {},
   "outputs": [
    {
     "name": "stdout",
     "output_type": "stream",
     "text": [
      "paleoData_sensorSpecies: \n",
      "['Diploastrea heliopora' 'Diploria labyrinthiformis' 'Favia speciosa'\n",
      " 'Orbicella faveolata' 'Pavona clavus' 'Pavona gigantea'\n",
      " 'Platygyra lamellina' 'Porites australiensis' 'Porites lobata'\n",
      " 'Porites lutea' 'Porites solida' 'Porites sp.' 'Pseudodiploria strigosa'\n",
      " 'Siderastrea radians' 'Siderastrea siderea' 'Siderastrea sp.'\n",
      " 'Siderastrea stellata' 'Solenastrea bournoni']\n"
     ]
    }
   ],
   "source": [
    "# climate_interpretation\n",
    "key = 'paleoData_sensorSpecies'\n",
    "print('%s: '%key)\n",
    "print(np.unique([kk for kk in df[key]]))\n"
   ]
  },
  {
   "cell_type": "markdown",
   "metadata": {},
   "source": [
    "## data "
   ]
  },
  {
   "cell_type": "markdown",
   "metadata": {},
   "source": [
    "### paleoData_units"
   ]
  },
  {
   "cell_type": "code",
   "execution_count": 40,
   "metadata": {},
   "outputs": [
    {
     "name": "stdout",
     "output_type": "stream",
     "text": [
      "paleoData_units: \n",
      "['mmol/mol' 'permil']\n"
     ]
    }
   ],
   "source": [
    "# paleoData_units\n",
    "key = 'paleoData_units'\n",
    "print('%s: '%key)\n",
    "print(np.unique([kk for kk in df[key]]))"
   ]
  },
  {
   "cell_type": "markdown",
   "metadata": {},
   "source": [
    "### paleoData_values"
   ]
  },
  {
   "cell_type": "code",
   "execution_count": 41,
   "metadata": {},
   "outputs": [
    {
     "name": "stdout",
     "output_type": "stream",
     "text": [
      "paleoData_values: \n",
      "CH03BUN01                     : -5.757999897003174 -- -4.651800155639648\n",
      "<class 'numpy.ndarray'>\n",
      "ZI15MER01                     : 8.801589965820312 -- 9.006901741027832\n",
      "<class 'numpy.ndarray'>\n",
      "ZI15MER01                     : 8.801589965820312 -- 9.006901741027832\n",
      "<class 'numpy.ndarray'>\n",
      "CO03PAL03                     : -5.380000114440918 -- -4.110000133514404\n",
      "<class 'numpy.ndarray'>\n",
      "CO03PAL02                     : -5.295000076293945 -- -4.3379998207092285\n",
      "<class 'numpy.ndarray'>\n",
      "CA13PEL01                     : -4.789000034332275 -- -3.4670000076293945\n",
      "<class 'numpy.ndarray'>\n",
      "LI06RAR01                     : -5.130000114440918 -- -3.819999933242798\n",
      "<class 'numpy.ndarray'>\n",
      "CO03PAL07                     : -5.510000228881836 -- -4.440000057220459\n",
      "<class 'numpy.ndarray'>\n",
      "FL18DTO03                     : 8.890999794006348 -- 9.47599983215332\n",
      "<class 'numpy.ndarray'>\n",
      "SM06LKF02                     : -4.730000019073486 -- -3.0\n",
      "<class 'numpy.ndarray'>\n",
      "SM06LKF02                     : 9.003999710083008 -- 9.470999717712402\n",
      "<class 'numpy.ndarray'>\n",
      "UR00MAI01                     : -5.3044328689575195 -- -3.7523419857025146\n",
      "<class 'numpy.ndarray'>\n",
      "TU95MAD01                     : -5.894999980926514 -- -4.578000068664551\n",
      "<class 'numpy.ndarray'>\n",
      "ZI04IFR01                     : -5.429999828338623 -- -3.4100000858306885\n",
      "<class 'numpy.ndarray'>\n",
      "ZI04IFR01                     : 8.724008560180664 -- 9.47011947631836\n",
      "<class 'numpy.ndarray'>\n",
      "RE18CAY01                     : -4.811999797821045 -- -3.628999948501587\n",
      "<class 'numpy.ndarray'>\n",
      "RE18CAY01                     : 8.807000160217285 -- 9.100000381469727\n",
      "<class 'numpy.ndarray'>\n",
      "RE18CAY01                     : 8.86299991607666 -- 9.043000221252441\n",
      "<class 'numpy.ndarray'>\n",
      "RE18CAY01                     : -4.577000141143799 -- -3.9149999618530273\n",
      "<class 'numpy.ndarray'>\n",
      "KU99HOU01                     : -4.699999809265137 -- -3.0399999618530273\n",
      "<class 'numpy.ndarray'>\n"
     ]
    }
   ],
   "source": [
    "# # paleoData_values\n",
    "key = 'paleoData_values'\n",
    "\n",
    "print('%s: '%key)\n",
    "for ii, vv in enumerate(df[key][:20]):\n",
    "    try: \n",
    "        print('%-30s: %s -- %s'%(df['dataSetName'].iloc[ii][:30], str(np.nanmin(vv)), str(np.nanmax(vv))))\n",
    "        print(type(vv))\n",
    "    except: print(df['dataSetName'].iloc[ii], 'NaNs detected.')"
   ]
  },
  {
   "cell_type": "markdown",
   "metadata": {},
   "source": [
    "### year"
   ]
  },
  {
   "cell_type": "code",
   "execution_count": 42,
   "metadata": {},
   "outputs": [
    {
     "name": "stdout",
     "output_type": "stream",
     "text": [
      "year: \n",
      "CH03BUN01                     : 1860.0 -- 1990.5799560546875\n",
      "ZI15MER01                     : 1891.0 -- 2009.0\n",
      "ZI15MER01                     : 1891.0 -- 2009.0\n",
      "CO03PAL03                     : 1317.1700439453125 -- 1406.489990234375\n",
      "CO03PAL02                     : 1149.0799560546875 -- 1220.2049560546875\n",
      "CA13PEL01                     : 1922.0899658203125 -- 2006.469970703125\n",
      "LI06RAR01                     : 1906.8800048828125 -- 1999.75\n",
      "CO03PAL07                     : 1635.02001953125 -- 1666.47998046875\n",
      "FL18DTO03                     : 1997.64599609375 -- 2012.2080078125\n",
      "SM06LKF02                     : 1960.969970703125 -- 2002.6300048828125\n",
      "SM06LKF02                     : 1960.969970703125 -- 2002.6300048828125\n",
      "UR00MAI01                     : 1840.0 -- 1994.5\n",
      "TU95MAD01                     : 1922.5419921875 -- 1991.2919921875\n",
      "ZI04IFR01                     : 1659.625 -- 1995.625\n",
      "ZI04IFR01                     : 1688.625 -- 1995.625\n",
      "RE18CAY01                     : 1887.0400390625 -- 2012.5400390625\n",
      "RE18CAY01                     : 1887.0400390625 -- 2012.5400390625\n",
      "RE18CAY01                     : 1887.0 -- 2011.0\n",
      "RE18CAY01                     : 1887.0 -- 2011.0\n",
      "KU99HOU01                     : 1794.7099609375 -- 1994.3800048828125\n"
     ]
    }
   ],
   "source": [
    "# # year\n",
    "key = 'year'\n",
    "print('%s: '%key)\n",
    "for ii, vv in enumerate(df[key][:20]):\n",
    "    try: print('%-30s: %s -- %s'%(df['dataSetName'].iloc[ii][:30], str(np.nanmin(vv)), str(np.nanmax(vv))))\n",
    "    except: print('NaNs detected.', vv)"
   ]
  },
  {
   "cell_type": "markdown",
   "metadata": {},
   "source": [
    "### yearUnits"
   ]
  },
  {
   "cell_type": "code",
   "execution_count": 43,
   "metadata": {
    "scrolled": true
   },
   "outputs": [
    {
     "name": "stdout",
     "output_type": "stream",
     "text": [
      "yearUnits: \n",
      "['CE']\n"
     ]
    }
   ],
   "source": [
    "# yearUnits\n",
    "key = 'yearUnits'\n",
    "print('%s: '%key)\n",
    "print(np.unique([kk for kk in df[key]]))"
   ]
  }
 ],
 "metadata": {
  "interpreter": {
   "hash": "3b26139a24feac338b2bb2b50be750a5305ce40948a74d9c6ce6f1e8c387bb64"
  },
  "kernelspec": {
   "display_name": "Python (dod2k-env)",
   "language": "python",
   "name": "dod2k-env"
  },
  "language_info": {
   "codemirror_mode": {
    "name": "ipython",
    "version": 3
   },
   "file_extension": ".py",
   "mimetype": "text/x-python",
   "name": "python",
   "nbconvert_exporter": "python",
   "pygments_lexer": "ipython3",
   "version": "3.13.5"
  }
 },
 "nbformat": 4,
 "nbformat_minor": 4
}
